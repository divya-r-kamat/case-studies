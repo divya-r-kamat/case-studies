{
  "nbformat": 4,
  "nbformat_minor": 0,
  "metadata": {
    "colab": {
      "name": "TitanicSurvivalPrediction - VariableMagnitude.ipynb",
      "provenance": [],
      "collapsed_sections": [
        "UDFLWMZtENgo"
      ],
      "toc_visible": true,
      "authorship_tag": "ABX9TyOHoUkyTDdYjjNe3WMqgDYl",
      "include_colab_link": true
    },
    "kernelspec": {
      "name": "python3",
      "display_name": "Python 3"
    }
  },
  "cells": [
    {
      "cell_type": "markdown",
      "metadata": {
        "id": "view-in-github",
        "colab_type": "text"
      },
      "source": [
        "<a href=\"https://colab.research.google.com/github/divya-r-kamat/case-studies/blob/master/TitanicSurvivalPrediction_VariableMagnitude.ipynb\" target=\"_parent\"><img src=\"https://colab.research.google.com/assets/colab-badge.svg\" alt=\"Open In Colab\"/></a>"
      ]
    },
    {
      "cell_type": "markdown",
      "metadata": {
        "id": "D7u6XzYZV0cN",
        "colab_type": "text"
      },
      "source": [
        " ### Predicting Survival on the Titanic\n",
        "\n",
        " Perhaps one of the most infamous shipwrecks in history, the Titanic sank after colliding with an iceberg, killing 1502 out of 2224 people on board. Interestingly, by analysing the probability of survival based on few attributes like gender, age, and social status, we can make very accurate predictions on which passengers would survive. Some groups of people were more likely to survive than others, such as women, children, and the upper-class. Therefore, we can learn about the society priorities and privileges at the time."
      ]
    },
    {
      "cell_type": "code",
      "metadata": {
        "id": "uvDvyPN4WBUY",
        "colab_type": "code",
        "colab": {}
      },
      "source": [
        "import pandas as pd\n",
        "import numpy as np\n",
        "\n",
        "# import several machine learning algorithms\n",
        "from sklearn.linear_model import LogisticRegression\n",
        "from sklearn.ensemble import AdaBoostClassifier\n",
        "from sklearn.ensemble import RandomForestClassifier\n",
        "from sklearn.svm import SVC\n",
        "from sklearn.neural_network import MLPClassifier\n",
        "from sklearn.neighbors import KNeighborsClassifier\n",
        "\n",
        "# to scale the features\n",
        "from sklearn.preprocessing import MinMaxScaler\n",
        "\n",
        "# to evaluate performance and separate into\n",
        "# train and test set\n",
        "from sklearn.metrics import roc_auc_score\n",
        "from sklearn.model_selection import train_test_split"
      ],
      "execution_count": null,
      "outputs": []
    },
    {
      "cell_type": "code",
      "metadata": {
        "id": "mbTXb62GWC5K",
        "colab_type": "code",
        "colab": {
          "base_uri": "https://localhost:8080/",
          "height": 191
        },
        "outputId": "19627d25-e710-4ffa-daee-5e51f1504ae2"
      },
      "source": [
        "# load numerical variables of the Titanic Dataset\n",
        "data = pd.read_csv('https://www.openml.org/data/get_csv/16826755/phpMYEkMl',usecols=['pclass', 'age', 'fare', 'survived'])\n",
        "data.head()"
      ],
      "execution_count": null,
      "outputs": [
        {
          "output_type": "execute_result",
          "data": {
            "text/html": [
              "<div>\n",
              "<style scoped>\n",
              "    .dataframe tbody tr th:only-of-type {\n",
              "        vertical-align: middle;\n",
              "    }\n",
              "\n",
              "    .dataframe tbody tr th {\n",
              "        vertical-align: top;\n",
              "    }\n",
              "\n",
              "    .dataframe thead th {\n",
              "        text-align: right;\n",
              "    }\n",
              "</style>\n",
              "<table border=\"1\" class=\"dataframe\">\n",
              "  <thead>\n",
              "    <tr style=\"text-align: right;\">\n",
              "      <th></th>\n",
              "      <th>pclass</th>\n",
              "      <th>survived</th>\n",
              "      <th>age</th>\n",
              "      <th>fare</th>\n",
              "    </tr>\n",
              "  </thead>\n",
              "  <tbody>\n",
              "    <tr>\n",
              "      <th>0</th>\n",
              "      <td>1</td>\n",
              "      <td>1</td>\n",
              "      <td>29</td>\n",
              "      <td>211.3375</td>\n",
              "    </tr>\n",
              "    <tr>\n",
              "      <th>1</th>\n",
              "      <td>1</td>\n",
              "      <td>1</td>\n",
              "      <td>0.9167</td>\n",
              "      <td>151.55</td>\n",
              "    </tr>\n",
              "    <tr>\n",
              "      <th>2</th>\n",
              "      <td>1</td>\n",
              "      <td>0</td>\n",
              "      <td>2</td>\n",
              "      <td>151.55</td>\n",
              "    </tr>\n",
              "    <tr>\n",
              "      <th>3</th>\n",
              "      <td>1</td>\n",
              "      <td>0</td>\n",
              "      <td>30</td>\n",
              "      <td>151.55</td>\n",
              "    </tr>\n",
              "    <tr>\n",
              "      <th>4</th>\n",
              "      <td>1</td>\n",
              "      <td>0</td>\n",
              "      <td>25</td>\n",
              "      <td>151.55</td>\n",
              "    </tr>\n",
              "  </tbody>\n",
              "</table>\n",
              "</div>"
            ],
            "text/plain": [
              "   pclass  survived     age      fare\n",
              "0       1         1      29  211.3375\n",
              "1       1         1  0.9167    151.55\n",
              "2       1         0       2    151.55\n",
              "3       1         0      30    151.55\n",
              "4       1         0      25    151.55"
            ]
          },
          "metadata": {
            "tags": []
          },
          "execution_count": 2
        }
      ]
    },
    {
      "cell_type": "code",
      "metadata": {
        "id": "N4UvXk2HWEP_",
        "colab_type": "code",
        "colab": {
          "base_uri": "https://localhost:8080/",
          "height": 98
        },
        "outputId": "52fb7ef1-47ca-467a-93f3-032f9d2f30fd"
      },
      "source": [
        "\n",
        "data = data.replace('?', np.nan)\n",
        "data.isnull().sum()"
      ],
      "execution_count": null,
      "outputs": [
        {
          "output_type": "execute_result",
          "data": {
            "text/plain": [
              "pclass        0\n",
              "survived      0\n",
              "age         263\n",
              "fare          1\n",
              "dtype: int64"
            ]
          },
          "metadata": {
            "tags": []
          },
          "execution_count": 3
        }
      ]
    },
    {
      "cell_type": "markdown",
      "metadata": {
        "id": "FTbqX2Yoz02b",
        "colab_type": "text"
      },
      "source": [
        "There are 263 missing values for Age"
      ]
    },
    {
      "cell_type": "markdown",
      "metadata": {
        "id": "od231q24IJR2",
        "colab_type": "text"
      },
      "source": [
        "### Variable magnitude\n",
        "\n",
        "#### Does the magnitude of the variable matter?\n",
        "In Linear Regression models, the scale of variables used to estimate the output matters. Linear models are of the type y = w x + b, where the regression coefficient w represents the expected change in y for a one unit change in x (the predictor). Thus, the magnitude of w is partly determined by the magnitude of the units being used for x. If x is a distance variable, just changing the scale from kilometers to miles will cause a change in the magnitude of the coefficient.\n",
        "In addition, in situations where we estimate the outcome y by contemplating multiple predictors x1, x2, ...xn, predictors with greater numeric ranges dominate over those with smaller numeric ranges.\n",
        "\n",
        "Gradient descent converges faster when all the predictors (x1 to xn) are within a similar scale, therefore having features in a similar scale is useful for Neural Networks as well as.\n",
        "\n",
        "In Support Vector Machines, feature scaling can decrease the time to find the support vectors.\n",
        "\n",
        "Finally, methods using Euclidean distances or distances in general are also affected by the magnitude of the features, as Euclidean distance is sensitive to variations in the magnitude or scales of the predictors. Therefore feature scaling is required for methods that utilise distance calculations like \n",
        "k-nearest neighbours (KNN) and k-means clustering.\n",
        "\n",
        "### In summary:\n",
        "Magnitude matters because:\n",
        "The regression coefficient is directly influenced by the scale of the variable\n",
        "Variables with bigger magnitude / value range dominate over the ones with smaller magnitude / value range\n",
        "Gradient descent converges faster when features are on similar scales\n",
        "Feature scaling helps decrease the time to find support vectors for SVMs\n",
        "Euclidean distances are sensitive to feature magnitude.\n",
        "\n",
        "The machine learning models affected by the magnitude of the feature are:\n",
        "- Linear and Logistic Regression\n",
        "- Neural Networks\n",
        "- Support Vector Machines\n",
        "- KNN\n",
        "- K-means clustering\n",
        "- Linear Discriminant Analysis (LDA)\n",
        "- Principal Component Analysis (PCA)\n",
        "\n",
        "Machine learning models insensitive to feature magnitude are the ones based on Trees:\n",
        "- Classification and Regression Trees\n",
        "- Random Forests\n",
        "- Gradient Boosted Trees"
      ]
    },
    {
      "cell_type": "code",
      "metadata": {
        "id": "x2x3lHDtJVpc",
        "colab_type": "code",
        "colab": {
          "base_uri": "https://localhost:8080/",
          "height": 277
        },
        "outputId": "74766a6c-acfc-4055-d144-67d03e085c9e"
      },
      "source": [
        "# let's have a look at the values of those variables\n",
        "# to get an idea of the feature magnitudes\n",
        "\n",
        "data.describe()"
      ],
      "execution_count": null,
      "outputs": [
        {
          "output_type": "execute_result",
          "data": {
            "text/html": [
              "<div>\n",
              "<style scoped>\n",
              "    .dataframe tbody tr th:only-of-type {\n",
              "        vertical-align: middle;\n",
              "    }\n",
              "\n",
              "    .dataframe tbody tr th {\n",
              "        vertical-align: top;\n",
              "    }\n",
              "\n",
              "    .dataframe thead th {\n",
              "        text-align: right;\n",
              "    }\n",
              "</style>\n",
              "<table border=\"1\" class=\"dataframe\">\n",
              "  <thead>\n",
              "    <tr style=\"text-align: right;\">\n",
              "      <th></th>\n",
              "      <th>pclass</th>\n",
              "      <th>survived</th>\n",
              "    </tr>\n",
              "  </thead>\n",
              "  <tbody>\n",
              "    <tr>\n",
              "      <th>count</th>\n",
              "      <td>1309.000000</td>\n",
              "      <td>1309.000000</td>\n",
              "    </tr>\n",
              "    <tr>\n",
              "      <th>mean</th>\n",
              "      <td>2.294882</td>\n",
              "      <td>0.381971</td>\n",
              "    </tr>\n",
              "    <tr>\n",
              "      <th>std</th>\n",
              "      <td>0.837836</td>\n",
              "      <td>0.486055</td>\n",
              "    </tr>\n",
              "    <tr>\n",
              "      <th>min</th>\n",
              "      <td>1.000000</td>\n",
              "      <td>0.000000</td>\n",
              "    </tr>\n",
              "    <tr>\n",
              "      <th>25%</th>\n",
              "      <td>2.000000</td>\n",
              "      <td>0.000000</td>\n",
              "    </tr>\n",
              "    <tr>\n",
              "      <th>50%</th>\n",
              "      <td>3.000000</td>\n",
              "      <td>0.000000</td>\n",
              "    </tr>\n",
              "    <tr>\n",
              "      <th>75%</th>\n",
              "      <td>3.000000</td>\n",
              "      <td>1.000000</td>\n",
              "    </tr>\n",
              "    <tr>\n",
              "      <th>max</th>\n",
              "      <td>3.000000</td>\n",
              "      <td>1.000000</td>\n",
              "    </tr>\n",
              "  </tbody>\n",
              "</table>\n",
              "</div>"
            ],
            "text/plain": [
              "            pclass     survived\n",
              "count  1309.000000  1309.000000\n",
              "mean      2.294882     0.381971\n",
              "std       0.837836     0.486055\n",
              "min       1.000000     0.000000\n",
              "25%       2.000000     0.000000\n",
              "50%       3.000000     0.000000\n",
              "75%       3.000000     1.000000\n",
              "max       3.000000     1.000000"
            ]
          },
          "metadata": {
            "tags": []
          },
          "execution_count": 4
        }
      ]
    },
    {
      "cell_type": "markdown",
      "metadata": {
        "id": "HM1FBpK4JbQw",
        "colab_type": "text"
      },
      "source": [
        "We can see that Fare varies between 0 and 512, Age between 0 and 80, and Class between 0 and 3. So the variables have different magnitude"
      ]
    },
    {
      "cell_type": "code",
      "metadata": {
        "id": "gwTzwZ3dKuHi",
        "colab_type": "code",
        "colab": {}
      },
      "source": [
        "data.fillna(0,inplace=True)\n",
        "data['age'] = data['age'].astype(float)\n",
        "data['fare'] = data['fare'].astype(float)"
      ],
      "execution_count": null,
      "outputs": []
    },
    {
      "cell_type": "code",
      "metadata": {
        "id": "dUcKqVcBI7gq",
        "colab_type": "code",
        "colab": {
          "base_uri": "https://localhost:8080/",
          "height": 66
        },
        "outputId": "f129c86d-d23a-40f0-cd46-d21b83df5f40"
      },
      "source": [
        "# let's now calculate the range\n",
        "#data.fillna(0,inplace=True)\n",
        "for col in ['pclass','age','fare']:\n",
        "    print(col, 'range: ', data[col].max() - data[col].min())"
      ],
      "execution_count": null,
      "outputs": [
        {
          "output_type": "stream",
          "text": [
            "pclass range:  2\n",
            "age range:  80.0\n",
            "fare range:  512.3292\n"
          ],
          "name": "stdout"
        }
      ]
    },
    {
      "cell_type": "code",
      "metadata": {
        "id": "v8kaYy5QKGdc",
        "colab_type": "code",
        "colab": {
          "base_uri": "https://localhost:8080/",
          "height": 33
        },
        "outputId": "55028c5b-63ad-46b4-bfb5-d86251cd0b96"
      },
      "source": [
        "# let's separate into training and testing set\n",
        "# the titanic dataset contains missing information\n",
        "# so for this demo, I will fill those in with 0s\n",
        "\n",
        "X_train, X_test, y_train, y_test = train_test_split(\n",
        "    data[['pclass', 'age', 'fare']].fillna(0),\n",
        "    data.survived,\n",
        "    test_size=0.3,\n",
        "    random_state=0)\n",
        "\n",
        "X_train.shape, X_test.shape"
      ],
      "execution_count": null,
      "outputs": [
        {
          "output_type": "execute_result",
          "data": {
            "text/plain": [
              "((916, 3), (393, 3))"
            ]
          },
          "metadata": {
            "tags": []
          },
          "execution_count": 7
        }
      ]
    },
    {
      "cell_type": "markdown",
      "metadata": {
        "id": "pSymSzNoLj96",
        "colab_type": "text"
      },
      "source": [
        "### Feature Scaling"
      ]
    },
    {
      "cell_type": "code",
      "metadata": {
        "id": "S-QuZ6hLLqKZ",
        "colab_type": "code",
        "colab": {}
      },
      "source": [
        "# scale the features between 0 and 1.\n",
        "\n",
        "# cal the scaler\n",
        "scaler = MinMaxScaler()\n",
        "\n",
        "# fit the scaler\n",
        "scaler.fit(X_train)\n",
        "\n",
        "# re scale the datasets\n",
        "X_train_scaled = scaler.transform(X_train)\n",
        "X_test_scaled = scaler.transform(X_test)"
      ],
      "execution_count": null,
      "outputs": []
    },
    {
      "cell_type": "code",
      "metadata": {
        "id": "3RvJrnw0L0x2",
        "colab_type": "code",
        "colab": {
          "base_uri": "https://localhost:8080/",
          "height": 82
        },
        "outputId": "cb173b35-1227-43a4-a88c-aa7a7217694f"
      },
      "source": [
        "#let's have a look at the scaled training dataset\n",
        "\n",
        "print('Mean: ', X_train_scaled.mean(axis=0))\n",
        "print('Standard Deviation: ', X_train_scaled.std(axis=0))\n",
        "print('Minimum value: ', X_train_scaled.min(axis=0))\n",
        "print('Maximum value: ', X_train_scaled.max(axis=0))"
      ],
      "execution_count": null,
      "outputs": [
        {
          "output_type": "stream",
          "text": [
            "Mean:  [0.64628821 0.33048359 0.06349833]\n",
            "Standard Deviation:  [0.42105785 0.23332045 0.09250036]\n",
            "Minimum value:  [0. 0. 0.]\n",
            "Maximum value:  [1. 1. 1.]\n"
          ],
          "name": "stdout"
        }
      ]
    },
    {
      "cell_type": "markdown",
      "metadata": {
        "id": "R3dwi968L7W8",
        "colab_type": "text"
      },
      "source": [
        "Now, the maximum values for all the features is 1, and the minimum value is zero, as expected. So they are in a more similar scale."
      ]
    },
    {
      "cell_type": "markdown",
      "metadata": {
        "id": "FTEA1nVgL-v6",
        "colab_type": "text"
      },
      "source": [
        "### Logistic Regression\n",
        "Let's evaluate the effect of feature scaling in a Logistic Regression."
      ]
    },
    {
      "cell_type": "code",
      "metadata": {
        "id": "2ee2IBoTMBgV",
        "colab_type": "code",
        "colab": {
          "base_uri": "https://localhost:8080/",
          "height": 82
        },
        "outputId": "8d066b74-a705-4498-8d78-f85503a625ac"
      },
      "source": [
        "# model build on unscaled variables\n",
        "\n",
        "# call the model\n",
        "logit = LogisticRegression(\n",
        "    random_state=44,\n",
        "    C=1000,  # c big to avoid regularization\n",
        "    solver='lbfgs')\n",
        "\n",
        "# train the model\n",
        "logit.fit(X_train, y_train)\n",
        "\n",
        "# evaluate performance\n",
        "print('Train set')\n",
        "pred = logit.predict_proba(X_train)\n",
        "print('Logistic Regression roc-auc: {}'.format(\n",
        "    roc_auc_score(y_train, pred[:, 1])))\n",
        "print('Test set')\n",
        "pred = logit.predict_proba(X_test)\n",
        "print('Logistic Regression roc-auc: {}'.format(\n",
        "    roc_auc_score(y_test, pred[:, 1])))"
      ],
      "execution_count": null,
      "outputs": [
        {
          "output_type": "stream",
          "text": [
            "Train set\n",
            "Logistic Regression roc-auc: 0.6793181006244372\n",
            "Test set\n",
            "Logistic Regression roc-auc: 0.7175488081411426\n"
          ],
          "name": "stdout"
        }
      ]
    },
    {
      "cell_type": "code",
      "metadata": {
        "id": "eoH7rWA8MM_L",
        "colab_type": "code",
        "colab": {
          "base_uri": "https://localhost:8080/",
          "height": 33
        },
        "outputId": "4e2ddb6b-0366-424a-9094-be751b5c01b3"
      },
      "source": [
        "# let's look at the coefficients\n",
        "logit.coef_"
      ],
      "execution_count": null,
      "outputs": [
        {
          "output_type": "execute_result",
          "data": {
            "text/plain": [
              "array([[-0.71428242, -0.00923013,  0.00425235]])"
            ]
          },
          "metadata": {
            "tags": []
          },
          "execution_count": 11
        }
      ]
    },
    {
      "cell_type": "code",
      "metadata": {
        "id": "N0iyvBwSMPjK",
        "colab_type": "code",
        "colab": {
          "base_uri": "https://localhost:8080/",
          "height": 82
        },
        "outputId": "ea55c7cf-d36e-4d59-dad5-aa1e745d5a4d"
      },
      "source": [
        "# model built on scaled variables\n",
        "\n",
        "# call the model\n",
        "logit = LogisticRegression(\n",
        "    random_state=44,\n",
        "    C=1000,  # c big to avoid regularization\n",
        "    solver='lbfgs')\n",
        "\n",
        "# train the model using the re-scaled data\n",
        "logit.fit(X_train_scaled, y_train)\n",
        "\n",
        "# evaluate performance\n",
        "print('Train set')\n",
        "pred = logit.predict_proba(X_train_scaled)\n",
        "print('Logistic Regression roc-auc: {}'.format(\n",
        "    roc_auc_score(y_train, pred[:, 1])))\n",
        "print('Test set')\n",
        "pred = logit.predict_proba(X_test_scaled)\n",
        "print('Logistic Regression roc-auc: {}'.format(\n",
        "    roc_auc_score(y_test, pred[:, 1])))"
      ],
      "execution_count": null,
      "outputs": [
        {
          "output_type": "stream",
          "text": [
            "Train set\n",
            "Logistic Regression roc-auc: 0.6793281640744896\n",
            "Test set\n",
            "Logistic Regression roc-auc: 0.7175488081411426\n"
          ],
          "name": "stdout"
        }
      ]
    },
    {
      "cell_type": "code",
      "metadata": {
        "id": "4kNyhOsnMY-Y",
        "colab_type": "code",
        "colab": {
          "base_uri": "https://localhost:8080/",
          "height": 33
        },
        "outputId": "c3bb924d-6d59-48b4-ed38-acadf547d65a"
      },
      "source": [
        "logit.coef_"
      ],
      "execution_count": null,
      "outputs": [
        {
          "output_type": "execute_result",
          "data": {
            "text/plain": [
              "array([[-1.42875872, -0.68293349,  2.17646757]])"
            ]
          },
          "metadata": {
            "tags": []
          },
          "execution_count": 13
        }
      ]
    },
    {
      "cell_type": "markdown",
      "metadata": {
        "id": "iInyunnZMbJZ",
        "colab_type": "text"
      },
      "source": [
        "We observe that the performance of logistic regression did not change when using the datasets with the features scaled (compare roc-auc values for train and test set for models with and without feature scaling). \n",
        "However, when looking at the coefficients we do see a big difference in the values. This is because the magnitude of the variable was affecting the coefficients. After scaling, all 3 variables have the relatively the same effect (coefficient) towards survival, whereas before scaling, we would be inclined to think that PClass was driving the Survival outcome."
      ]
    },
    {
      "cell_type": "markdown",
      "metadata": {
        "id": "OvN1pzufMkt9",
        "colab_type": "text"
      },
      "source": [
        "### SVM"
      ]
    },
    {
      "cell_type": "code",
      "metadata": {
        "id": "Hwc0qiSDMY8B",
        "colab_type": "code",
        "colab": {
          "base_uri": "https://localhost:8080/",
          "height": 82
        },
        "outputId": "45b062a8-2d19-4c99-808a-90e1b48691dd"
      },
      "source": [
        "# model build on unscaled variables\n",
        "\n",
        "# call the model\n",
        "SVM_model = SVC(random_state=44, probability=True, gamma='auto')\n",
        "\n",
        "#  train the model\n",
        "SVM_model.fit(X_train, y_train)\n",
        "\n",
        "# evaluate performance\n",
        "print('Train set')\n",
        "pred = SVM_model.predict_proba(X_train)\n",
        "print('SVM roc-auc: {}'.format(roc_auc_score(y_train, pred[:, 1])))\n",
        "print('Test set')\n",
        "pred = SVM_model.predict_proba(X_test)\n",
        "print('SVM roc-auc: {}'.format(roc_auc_score(y_test, pred[:, 1])))"
      ],
      "execution_count": null,
      "outputs": [
        {
          "output_type": "stream",
          "text": [
            "Train set\n",
            "SVM roc-auc: 0.8823809116479402\n",
            "Test set\n",
            "SVM roc-auc: 0.6617305458768874\n"
          ],
          "name": "stdout"
        }
      ]
    },
    {
      "cell_type": "code",
      "metadata": {
        "id": "FzYphjA5MY3p",
        "colab_type": "code",
        "colab": {
          "base_uri": "https://localhost:8080/",
          "height": 82
        },
        "outputId": "52917f52-e5b3-46a6-ae03-f77da40a5873"
      },
      "source": [
        "# model built on scaled variables\n",
        "\n",
        "# call the model\n",
        "SVM_model = SVC(random_state=44, probability=True, gamma='auto')\n",
        "\n",
        "# train the model\n",
        "SVM_model.fit(X_train_scaled, y_train)\n",
        "\n",
        "# evaluate performance\n",
        "print('Train set')\n",
        "pred = SVM_model.predict_proba(X_train_scaled)\n",
        "print('SVM roc-auc: {}'.format(roc_auc_score(y_train, pred[:, 1])))\n",
        "print('Test set')\n",
        "pred = SVM_model.predict_proba(X_test_scaled)\n",
        "print('SVM roc-auc: {}'.format(roc_auc_score(y_test, pred[:, 1])))"
      ],
      "execution_count": null,
      "outputs": [
        {
          "output_type": "stream",
          "text": [
            "Train set\n",
            "SVM roc-auc: 0.6781406769682851\n",
            "Test set\n",
            "SVM roc-auc: 0.6841435761296388\n"
          ],
          "name": "stdout"
        }
      ]
    },
    {
      "cell_type": "markdown",
      "metadata": {
        "id": "b7MCnFDjMsin",
        "colab_type": "text"
      },
      "source": [
        "Feature scaling improved the performance of the support vector machine. After feature scaling the model is no longer over-fitting to the training set (compare the roc-auc of 0.881 for the model on unscaled features vs the roc-auc of 0.68). In addition, the roc-auc for the testing set increased as well (0.66 vs 0.68)."
      ]
    },
    {
      "cell_type": "markdown",
      "metadata": {
        "id": "nq1GxuXQMzit",
        "colab_type": "text"
      },
      "source": [
        "### KNN"
      ]
    },
    {
      "cell_type": "code",
      "metadata": {
        "id": "IcWxz6E9MY1_",
        "colab_type": "code",
        "colab": {
          "base_uri": "https://localhost:8080/",
          "height": 82
        },
        "outputId": "4ea9f5d4-ccf0-41fd-ff72-d7fbf6cd7df7"
      },
      "source": [
        "#model built on unscaled features\n",
        "\n",
        "# call the model\n",
        "KNN = KNeighborsClassifier(n_neighbors=5)\n",
        "\n",
        "# train the model\n",
        "KNN.fit(X_train, y_train)\n",
        "\n",
        "# evaluate performance\n",
        "print('Train set')\n",
        "pred = KNN.predict_proba(X_train)\n",
        "print('KNN roc-auc: {}'.format(roc_auc_score(y_train, pred[:,1])))\n",
        "print('Test set')\n",
        "pred = KNN.predict_proba(X_test)\n",
        "print('KNN roc-auc: {}'.format(roc_auc_score(y_test, pred[:,1])))"
      ],
      "execution_count": null,
      "outputs": [
        {
          "output_type": "stream",
          "text": [
            "Train set\n",
            "KNN roc-auc: 0.8131141849360215\n",
            "Test set\n",
            "KNN roc-auc: 0.6947901111664178\n"
          ],
          "name": "stdout"
        }
      ]
    },
    {
      "cell_type": "code",
      "metadata": {
        "id": "Ze8wTAslMYxQ",
        "colab_type": "code",
        "colab": {
          "base_uri": "https://localhost:8080/",
          "height": 82
        },
        "outputId": "0071be67-8896-4307-d5a4-1535409b70a4"
      },
      "source": [
        "# model built on scaled\n",
        "\n",
        "# call the model\n",
        "KNN = KNeighborsClassifier(n_neighbors=5)\n",
        "\n",
        "# train the model\n",
        "KNN.fit(X_train_scaled, y_train)\n",
        "\n",
        "# evaluate performance\n",
        "print('Train set')\n",
        "pred = KNN.predict_proba(X_train_scaled)\n",
        "print('KNN roc-auc: {}'.format(roc_auc_score(y_train, pred[:,1])))\n",
        "print('Test set')\n",
        "pred = KNN.predict_proba(X_test_scaled)\n",
        "print('KNN roc-auc: {}'.format(roc_auc_score(y_test, pred[:,1])))"
      ],
      "execution_count": null,
      "outputs": [
        {
          "output_type": "stream",
          "text": [
            "Train set\n",
            "KNN roc-auc: 0.826928785995703\n",
            "Test set\n",
            "KNN roc-auc: 0.7232453957192633\n"
          ],
          "name": "stdout"
        }
      ]
    },
    {
      "cell_type": "markdown",
      "metadata": {
        "id": "UHVeWhSYNHNX",
        "colab_type": "text"
      },
      "source": [
        "We observe for KNN as well that feature scaling improved the performance of the model. The model built on unscaled features shows a better generalisation, with a higher roc-auc for the testing set (0.72 vs 0.69 for model built on unscaled features).\n",
        "Both KNN methods are over-fitting to the train set. Thus, we would need to change the parameters of the model or use less features to try and decrease over-fitting"
      ]
    },
    {
      "cell_type": "markdown",
      "metadata": {
        "id": "atgF-gJdNJvx",
        "colab_type": "text"
      },
      "source": [
        "### Random Forest"
      ]
    },
    {
      "cell_type": "code",
      "metadata": {
        "id": "iy87oGpwMYv9",
        "colab_type": "code",
        "colab": {
          "base_uri": "https://localhost:8080/",
          "height": 82
        },
        "outputId": "8d217ecf-dc62-4a8d-bf22-b26094acde6a"
      },
      "source": [
        "# model built on unscaled features\n",
        "\n",
        "# call the model\n",
        "rf = RandomForestClassifier(n_estimators=200, random_state=39)\n",
        "\n",
        "# train the model\n",
        "rf.fit(X_train, y_train)\n",
        "\n",
        "# evaluate performance\n",
        "print('Train set')\n",
        "pred = rf.predict_proba(X_train)\n",
        "print('Random Forests roc-auc: {}'.format(roc_auc_score(y_train, pred[:, 1])))\n",
        "print('Test set')\n",
        "pred = rf.predict_proba(X_test)\n",
        "print('Random Forests roc-auc: {}'.format(roc_auc_score(y_test, pred[:, 1])))"
      ],
      "execution_count": null,
      "outputs": [
        {
          "output_type": "stream",
          "text": [
            "Train set\n",
            "Random Forests roc-auc: 0.9866810238554083\n",
            "Test set\n",
            "Random Forests roc-auc: 0.7326751838946961\n"
          ],
          "name": "stdout"
        }
      ]
    },
    {
      "cell_type": "code",
      "metadata": {
        "id": "gHnjr0J_MYo4",
        "colab_type": "code",
        "colab": {
          "base_uri": "https://localhost:8080/",
          "height": 82
        },
        "outputId": "514f06aa-7cd6-4af8-ee54-a7ac4a95bc89"
      },
      "source": [
        "# model built in scaled features\n",
        "\n",
        "# call the model\n",
        "rf = RandomForestClassifier(n_estimators=200, random_state=39)\n",
        "\n",
        "# train the model\n",
        "rf.fit(X_train_scaled, y_train)\n",
        "\n",
        "# evaluate performance\n",
        "print('Train set')\n",
        "pred = rf.predict_proba(X_train_scaled)\n",
        "print('Random Forests roc-auc: {}'.format(roc_auc_score(y_train, pred[:,1])))\n",
        "print('Test set')\n",
        "pred = rf.predict_proba(X_test_scaled)\n",
        "print('Random Forests roc-auc: {}'.format(roc_auc_score(y_test, pred[:,1])))"
      ],
      "execution_count": null,
      "outputs": [
        {
          "output_type": "stream",
          "text": [
            "Train set\n",
            "Random Forests roc-auc: 0.9867917218059866\n",
            "Test set\n",
            "Random Forests roc-auc: 0.7312510370001659\n"
          ],
          "name": "stdout"
        }
      ]
    },
    {
      "cell_type": "markdown",
      "metadata": {
        "id": "68u3d9lRNTZP",
        "colab_type": "text"
      },
      "source": [
        "As expected, Random Forests shows no change in performance regardless of whether it is trained on a dataset with scaled or unscaled features. This model in particular, is over-fitting to the training set. So we need to do some work to remove the over-fitting. "
      ]
    },
    {
      "cell_type": "code",
      "metadata": {
        "id": "jlhsW-6vMYbN",
        "colab_type": "code",
        "colab": {
          "base_uri": "https://localhost:8080/",
          "height": 82
        },
        "outputId": "5ea80f5f-839e-4d34-f08b-067ecaa64444"
      },
      "source": [
        "# train adaboost on non-scaled features\n",
        "\n",
        "# call the model\n",
        "ada = AdaBoostClassifier(n_estimators=200, random_state=44)\n",
        "\n",
        "# train the model\n",
        "ada.fit(X_train, y_train)\n",
        "\n",
        "# evaluate model performance\n",
        "print('Train set')\n",
        "pred = ada.predict_proba(X_train)\n",
        "print('AdaBoost roc-auc: {}'.format(roc_auc_score(y_train, pred[:,1])))\n",
        "print('Test set')\n",
        "pred = ada.predict_proba(X_test)\n",
        "print('AdaBoost roc-auc: {}'.format(roc_auc_score(y_test, pred[:,1])))"
      ],
      "execution_count": null,
      "outputs": [
        {
          "output_type": "stream",
          "text": [
            "Train set\n",
            "AdaBoost roc-auc: 0.7970629821021541\n",
            "Test set\n",
            "AdaBoost roc-auc: 0.7473867595818815\n"
          ],
          "name": "stdout"
        }
      ]
    },
    {
      "cell_type": "code",
      "metadata": {
        "id": "hygSqVDwNXSZ",
        "colab_type": "code",
        "colab": {
          "base_uri": "https://localhost:8080/",
          "height": 82
        },
        "outputId": "ac4d7ddc-2d18-4239-8f3f-a38cbc82b605"
      },
      "source": [
        "# train adaboost on scaled features\n",
        "\n",
        "# call the model\n",
        "ada = AdaBoostClassifier(n_estimators=200, random_state=44)\n",
        "\n",
        "# train the model\n",
        "ada.fit(X_train_scaled, y_train)\n",
        "\n",
        "# evaluate model performance\n",
        "print('Train set')\n",
        "pred = ada.predict_proba(X_train_scaled)\n",
        "print('AdaBoost roc-auc: {}'.format(roc_auc_score(y_train, pred[:,1])))\n",
        "print('Test set')\n",
        "pred = ada.predict_proba(X_test_scaled)\n",
        "print('AdaBoost roc-auc: {}'.format(roc_auc_score(y_test, pred[:,1])))"
      ],
      "execution_count": null,
      "outputs": [
        {
          "output_type": "stream",
          "text": [
            "Train set\n",
            "AdaBoost roc-auc: 0.7970629821021541\n",
            "Test set\n",
            "AdaBoost roc-auc: 0.7475250262706707\n"
          ],
          "name": "stdout"
        }
      ]
    },
    {
      "cell_type": "markdown",
      "metadata": {
        "id": "KGJg9VNYNg9P",
        "colab_type": "text"
      },
      "source": [
        "As expected, AdaBoost shows no change in performance regardless of whether it is trained on a dataset with scaled or unscaled features"
      ]
    },
    {
      "cell_type": "markdown",
      "metadata": {
        "id": "UDFLWMZtENgo",
        "colab_type": "text"
      },
      "source": [
        "### Reference\n",
        "\n",
        "https://www.udemy.com/course/feature-engineering-for-machine-learning/"
      ]
    }
  ]
}