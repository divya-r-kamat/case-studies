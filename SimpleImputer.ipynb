{
  "nbformat": 4,
  "nbformat_minor": 0,
  "metadata": {
    "colab": {
      "name": "SimpleImputer.ipynb",
      "provenance": [],
      "collapsed_sections": [],
      "toc_visible": true,
      "mount_file_id": "1E_EhFI-KK1CijkKqBjXtMDZ-iIkCMVfQ",
      "authorship_tag": "ABX9TyMaG0JtwqPVn13orP7pHQYn",
      "include_colab_link": true
    },
    "kernelspec": {
      "name": "python3",
      "display_name": "Python 3"
    }
  },
  "cells": [
    {
      "cell_type": "markdown",
      "metadata": {
        "id": "view-in-github",
        "colab_type": "text"
      },
      "source": [
        "<a href=\"https://colab.research.google.com/github/divya-r-kamat/case-studies/blob/master/SimpleImputer.ipynb\" target=\"_parent\"><img src=\"https://colab.research.google.com/assets/colab-badge.svg\" alt=\"Open In Colab\"/></a>"
      ]
    },
    {
      "cell_type": "markdown",
      "metadata": {
        "id": "kq_fDcZZCRht",
        "colab_type": "text"
      },
      "source": [
        "## Mean / median imputation with Scikit-learn ==> SimpleImputer\n",
        "\n",
        "Scikit-learn provides a class to make most of the most common data imputation techniques.\n",
        "\n",
        "The **SimpleImputer** class provides basic strategies for imputing missing values, including:\n",
        "\n",
        "- Mean and median imputation for numerical variables\n",
        "- Most frequent category imputation for categorical variables\n",
        "- Arbitrary value imputation for both categorical and numerical variables\n",
        "\n",
        "### Advantages\n",
        "\n",
        "- Simple to use if applied to the entire dataframe\n",
        "- Maintained by the Scikit-learn developers: good quality code\n",
        "- Fast computation (it uses numpy for calculations)\n",
        "- Allows for grid search over the various imputation techniques\n",
        "- Allows for different missing values encodings (you can indicate if the missing values are np.nan, or zeroes, etc)\n",
        "\n",
        "### Limitations\n",
        "\n",
        "- Returns a numpy array instead of a pandas dataframe, inconvenient for data analysis\n",
        "- Needs to use additional classes to select which features to impute  ==>\n",
        "    - requires more lines of code\n",
        "    - additional classes still in beta (may change without warning)\n",
        "    - not so straightforward to use anymore.\n",
        "\n",
        "### More details about the transformers\n",
        "\n",
        "- [SimpleImputer](https://scikit-learn.org/stable/modules/generated/sklearn.impute.SimpleImputer.html#sklearn.impute.SimpleImputer)\n",
        "- [ColumnTransformer](https://scikit-learn.org/stable/modules/generated/sklearn.compose.ColumnTransformer.html)\n",
        "- [Stackoverflow](https://stackoverflow.com/questions/54160370/how-to-use-sklearn-column-transformer)\n",
        "\n"
      ]
    },
    {
      "cell_type": "code",
      "metadata": {
        "id": "YwRzbpu5CSPK",
        "colab_type": "code",
        "colab": {}
      },
      "source": [
        "import pandas as pd\n",
        "import numpy as np\n",
        "\n",
        "import matplotlib.pyplot as plt\n",
        "\n",
        "# these are the objects we need to impute missing data\n",
        "# with sklearn\n",
        "from sklearn.impute import SimpleImputer\n",
        "from sklearn.compose import ColumnTransformer\n",
        "from sklearn.pipeline import Pipeline\n",
        "\n",
        "# to split the datasets\n",
        "from sklearn.model_selection import train_test_split"
      ],
      "execution_count": null,
      "outputs": []
    },
    {
      "cell_type": "code",
      "metadata": {
        "id": "kKSwJ6jhCxzK",
        "colab_type": "code",
        "colab": {
          "base_uri": "https://localhost:8080/",
          "height": 191
        },
        "outputId": "b80ef645-5110-4492-9ba2-0a115d20f0cd"
      },
      "source": [
        "!cp \"/content/drive/My Drive/houseprice.csv\" .\n",
        "\n",
        "# we are going to use only the following variables,\n",
        "# 3 of which contain NA\n",
        "\n",
        "use_cols = [\n",
        "    'OverallQual', 'TotalBsmtSF', '1stFlrSF', 'GrLivArea', 'WoodDeckSF',\n",
        "    'BsmtUnfSF', 'LotFrontage', 'MasVnrArea', 'GarageYrBlt', 'SalePrice'\n",
        "]\n",
        "\n",
        "data = pd.read_csv('houseprice.csv', usecols=use_cols)\n",
        "\n",
        "data.head()"
      ],
      "execution_count": null,
      "outputs": [
        {
          "output_type": "execute_result",
          "data": {
            "text/html": [
              "<div>\n",
              "<style scoped>\n",
              "    .dataframe tbody tr th:only-of-type {\n",
              "        vertical-align: middle;\n",
              "    }\n",
              "\n",
              "    .dataframe tbody tr th {\n",
              "        vertical-align: top;\n",
              "    }\n",
              "\n",
              "    .dataframe thead th {\n",
              "        text-align: right;\n",
              "    }\n",
              "</style>\n",
              "<table border=\"1\" class=\"dataframe\">\n",
              "  <thead>\n",
              "    <tr style=\"text-align: right;\">\n",
              "      <th></th>\n",
              "      <th>LotFrontage</th>\n",
              "      <th>OverallQual</th>\n",
              "      <th>MasVnrArea</th>\n",
              "      <th>BsmtUnfSF</th>\n",
              "      <th>TotalBsmtSF</th>\n",
              "      <th>1stFlrSF</th>\n",
              "      <th>GrLivArea</th>\n",
              "      <th>GarageYrBlt</th>\n",
              "      <th>WoodDeckSF</th>\n",
              "      <th>SalePrice</th>\n",
              "    </tr>\n",
              "  </thead>\n",
              "  <tbody>\n",
              "    <tr>\n",
              "      <th>0</th>\n",
              "      <td>65.0</td>\n",
              "      <td>7</td>\n",
              "      <td>196.0</td>\n",
              "      <td>150</td>\n",
              "      <td>856</td>\n",
              "      <td>856</td>\n",
              "      <td>1710</td>\n",
              "      <td>2003.0</td>\n",
              "      <td>0</td>\n",
              "      <td>208500</td>\n",
              "    </tr>\n",
              "    <tr>\n",
              "      <th>1</th>\n",
              "      <td>80.0</td>\n",
              "      <td>6</td>\n",
              "      <td>0.0</td>\n",
              "      <td>284</td>\n",
              "      <td>1262</td>\n",
              "      <td>1262</td>\n",
              "      <td>1262</td>\n",
              "      <td>1976.0</td>\n",
              "      <td>298</td>\n",
              "      <td>181500</td>\n",
              "    </tr>\n",
              "    <tr>\n",
              "      <th>2</th>\n",
              "      <td>68.0</td>\n",
              "      <td>7</td>\n",
              "      <td>162.0</td>\n",
              "      <td>434</td>\n",
              "      <td>920</td>\n",
              "      <td>920</td>\n",
              "      <td>1786</td>\n",
              "      <td>2001.0</td>\n",
              "      <td>0</td>\n",
              "      <td>223500</td>\n",
              "    </tr>\n",
              "    <tr>\n",
              "      <th>3</th>\n",
              "      <td>60.0</td>\n",
              "      <td>7</td>\n",
              "      <td>0.0</td>\n",
              "      <td>540</td>\n",
              "      <td>756</td>\n",
              "      <td>961</td>\n",
              "      <td>1717</td>\n",
              "      <td>1998.0</td>\n",
              "      <td>0</td>\n",
              "      <td>140000</td>\n",
              "    </tr>\n",
              "    <tr>\n",
              "      <th>4</th>\n",
              "      <td>84.0</td>\n",
              "      <td>8</td>\n",
              "      <td>350.0</td>\n",
              "      <td>490</td>\n",
              "      <td>1145</td>\n",
              "      <td>1145</td>\n",
              "      <td>2198</td>\n",
              "      <td>2000.0</td>\n",
              "      <td>192</td>\n",
              "      <td>250000</td>\n",
              "    </tr>\n",
              "  </tbody>\n",
              "</table>\n",
              "</div>"
            ],
            "text/plain": [
              "   LotFrontage  OverallQual  MasVnrArea  ...  GarageYrBlt  WoodDeckSF  SalePrice\n",
              "0         65.0            7       196.0  ...       2003.0           0     208500\n",
              "1         80.0            6         0.0  ...       1976.0         298     181500\n",
              "2         68.0            7       162.0  ...       2001.0           0     223500\n",
              "3         60.0            7         0.0  ...       1998.0           0     140000\n",
              "4         84.0            8       350.0  ...       2000.0         192     250000\n",
              "\n",
              "[5 rows x 10 columns]"
            ]
          },
          "metadata": {
            "tags": []
          },
          "execution_count": 2
        }
      ]
    },
    {
      "cell_type": "code",
      "metadata": {
        "id": "QC051a7IDAqU",
        "colab_type": "code",
        "colab": {
          "base_uri": "https://localhost:8080/",
          "height": 196
        },
        "outputId": "bbe23bbe-d096-4a90-fbeb-d28ea287de5a"
      },
      "source": [
        "# let's check the null values\n",
        "data.isnull().mean()"
      ],
      "execution_count": null,
      "outputs": [
        {
          "output_type": "execute_result",
          "data": {
            "text/plain": [
              "LotFrontage    0.177397\n",
              "OverallQual    0.000000\n",
              "MasVnrArea     0.005479\n",
              "BsmtUnfSF      0.000000\n",
              "TotalBsmtSF    0.000000\n",
              "1stFlrSF       0.000000\n",
              "GrLivArea      0.000000\n",
              "GarageYrBlt    0.055479\n",
              "WoodDeckSF     0.000000\n",
              "SalePrice      0.000000\n",
              "dtype: float64"
            ]
          },
          "metadata": {
            "tags": []
          },
          "execution_count": 3
        }
      ]
    },
    {
      "cell_type": "code",
      "metadata": {
        "id": "qZh-Jhy6DFvA",
        "colab_type": "code",
        "colab": {
          "base_uri": "https://localhost:8080/",
          "height": 33
        },
        "outputId": "8cec162d-efc4-4dfa-fe0c-9c5b74c57781"
      },
      "source": [
        "# let's separate into training and testing set\n",
        "\n",
        "# first let's remove the target from the features\n",
        "use_cols.remove('SalePrice')\n",
        "\n",
        "X_train, X_test, y_train, y_test = train_test_split(data[use_cols], # just the features\n",
        "                                                    data['SalePrice'], # the target\n",
        "                                                    test_size=0.3, # the percentage of obs in the test set\n",
        "                                                    random_state=0) # for reproducibility\n",
        "X_train.shape, X_test.shape"
      ],
      "execution_count": null,
      "outputs": [
        {
          "output_type": "execute_result",
          "data": {
            "text/plain": [
              "((1022, 9), (438, 9))"
            ]
          },
          "metadata": {
            "tags": []
          },
          "execution_count": 4
        }
      ]
    },
    {
      "cell_type": "code",
      "metadata": {
        "id": "qSLa8zKdDIiU",
        "colab_type": "code",
        "colab": {
          "base_uri": "https://localhost:8080/",
          "height": 180
        },
        "outputId": "f312a539-202b-4d3d-9212-f48f019de42d"
      },
      "source": [
        "# let's check the misssing data again\n",
        "X_train.isnull().mean()"
      ],
      "execution_count": null,
      "outputs": [
        {
          "output_type": "execute_result",
          "data": {
            "text/plain": [
              "OverallQual    0.000000\n",
              "TotalBsmtSF    0.000000\n",
              "1stFlrSF       0.000000\n",
              "GrLivArea      0.000000\n",
              "WoodDeckSF     0.000000\n",
              "BsmtUnfSF      0.000000\n",
              "LotFrontage    0.184932\n",
              "MasVnrArea     0.004892\n",
              "GarageYrBlt    0.052838\n",
              "dtype: float64"
            ]
          },
          "metadata": {
            "tags": []
          },
          "execution_count": 5
        }
      ]
    },
    {
      "cell_type": "code",
      "metadata": {
        "id": "FkI5RrNiDdb1",
        "colab_type": "code",
        "colab": {
          "base_uri": "https://localhost:8080/",
          "height": 50
        },
        "outputId": "5e875357-b759-4b21-ce1c-010e8b9a9648"
      },
      "source": [
        "# Now we impute the missing values with SimpleImputer\n",
        "\n",
        "# create an instance of the simple imputer\n",
        "# we indicate that we want to impute with the median\n",
        "imputer = SimpleImputer(strategy='median')\n",
        "\n",
        "# we fit the imputer to the train set\n",
        "# the imputer will learn the median of all variables\n",
        "imputer.fit(X_train[use_cols])"
      ],
      "execution_count": null,
      "outputs": [
        {
          "output_type": "execute_result",
          "data": {
            "text/plain": [
              "SimpleImputer(add_indicator=False, copy=True, fill_value=None,\n",
              "              missing_values=nan, strategy='median', verbose=0)"
            ]
          },
          "metadata": {
            "tags": []
          },
          "execution_count": 7
        }
      ]
    },
    {
      "cell_type": "code",
      "metadata": {
        "id": "xaN2j4PFDiYe",
        "colab_type": "code",
        "colab": {
          "base_uri": "https://localhost:8080/",
          "height": 50
        },
        "outputId": "9eac14b9-c926-4f42-ae29-36fa502d19ce"
      },
      "source": [
        "# we can look at the learnt medians like this:\n",
        "imputer.statistics_"
      ],
      "execution_count": null,
      "outputs": [
        {
          "output_type": "execute_result",
          "data": {
            "text/plain": [
              "array([   6. ,  992. , 1095. , 1479. ,    0. ,  486.5,   69. ,    0. ,\n",
              "       1979. ])"
            ]
          },
          "metadata": {
            "tags": []
          },
          "execution_count": 8
        }
      ]
    },
    {
      "cell_type": "code",
      "metadata": {
        "id": "i-vn_-U6DrD0",
        "colab_type": "code",
        "colab": {
          "base_uri": "https://localhost:8080/",
          "height": 180
        },
        "outputId": "d5334ad3-0c92-4eb6-aa1e-fb2e5d12402d"
      },
      "source": [
        "# and we can investigate the medians directly to corroborate\n",
        "# the imputer did a good job\n",
        "X_train[use_cols].median()"
      ],
      "execution_count": null,
      "outputs": [
        {
          "output_type": "execute_result",
          "data": {
            "text/plain": [
              "OverallQual       6.0\n",
              "TotalBsmtSF     992.0\n",
              "1stFlrSF       1095.0\n",
              "GrLivArea      1479.0\n",
              "WoodDeckSF        0.0\n",
              "BsmtUnfSF       486.5\n",
              "LotFrontage      69.0\n",
              "MasVnrArea        0.0\n",
              "GarageYrBlt    1979.0\n",
              "dtype: float64"
            ]
          },
          "metadata": {
            "tags": []
          },
          "execution_count": 9
        }
      ]
    },
    {
      "cell_type": "markdown",
      "metadata": {
        "id": "UOaOg4TxDyIl",
        "colab_type": "text"
      },
      "source": [
        "\n",
        "Note that SimpleImputer learns the medians of ALL the variables in the dataset, those with NA and those without NA."
      ]
    },
    {
      "cell_type": "code",
      "metadata": {
        "id": "KXbcuoBeDul5",
        "colab_type": "code",
        "colab": {
          "base_uri": "https://localhost:8080/",
          "height": 131
        },
        "outputId": "b1102e68-cbe3-468a-979d-902259b1bcc9"
      },
      "source": [
        "# and now we impute the train and test set\n",
        "\n",
        "# NOTE: the data is returned as a numpy array!!!\n",
        "X_train = imputer.transform(X_train)\n",
        "X_test = imputer.transform(X_test)\n",
        "\n",
        "X_train"
      ],
      "execution_count": null,
      "outputs": [
        {
          "output_type": "execute_result",
          "data": {
            "text/plain": [
              "array([[   7., 1057., 1057., ...,   69.,  573., 1998.],\n",
              "       [   6., 1291., 1291., ...,   69.,    0., 1996.],\n",
              "       [   5.,  858.,  858., ...,   50.,    0., 1979.],\n",
              "       ...,\n",
              "       [   6.,    0., 1318., ...,   68.,    0., 1978.],\n",
              "       [   7., 1374., 1557., ...,   69.,   18., 2003.],\n",
              "       [   7., 1195., 1195., ...,   58.,   30., 1998.]])"
            ]
          },
          "metadata": {
            "tags": []
          },
          "execution_count": 10
        }
      ]
    },
    {
      "cell_type": "code",
      "metadata": {
        "id": "QkmxieB4DzyF",
        "colab_type": "code",
        "colab": {
          "base_uri": "https://localhost:8080/",
          "height": 191
        },
        "outputId": "1cd4498e-1255-4e29-f9c1-6c5be63bb238"
      },
      "source": [
        "# if we wanted to continue our data analysis, we would have to\n",
        "# encode the train set back to a dataframe:\n",
        "\n",
        "pd.DataFrame(X_train, columns=use_cols).head()"
      ],
      "execution_count": null,
      "outputs": [
        {
          "output_type": "execute_result",
          "data": {
            "text/html": [
              "<div>\n",
              "<style scoped>\n",
              "    .dataframe tbody tr th:only-of-type {\n",
              "        vertical-align: middle;\n",
              "    }\n",
              "\n",
              "    .dataframe tbody tr th {\n",
              "        vertical-align: top;\n",
              "    }\n",
              "\n",
              "    .dataframe thead th {\n",
              "        text-align: right;\n",
              "    }\n",
              "</style>\n",
              "<table border=\"1\" class=\"dataframe\">\n",
              "  <thead>\n",
              "    <tr style=\"text-align: right;\">\n",
              "      <th></th>\n",
              "      <th>OverallQual</th>\n",
              "      <th>TotalBsmtSF</th>\n",
              "      <th>1stFlrSF</th>\n",
              "      <th>GrLivArea</th>\n",
              "      <th>WoodDeckSF</th>\n",
              "      <th>BsmtUnfSF</th>\n",
              "      <th>LotFrontage</th>\n",
              "      <th>MasVnrArea</th>\n",
              "      <th>GarageYrBlt</th>\n",
              "    </tr>\n",
              "  </thead>\n",
              "  <tbody>\n",
              "    <tr>\n",
              "      <th>0</th>\n",
              "      <td>7.0</td>\n",
              "      <td>1057.0</td>\n",
              "      <td>1057.0</td>\n",
              "      <td>2034.0</td>\n",
              "      <td>576.0</td>\n",
              "      <td>318.0</td>\n",
              "      <td>69.0</td>\n",
              "      <td>573.0</td>\n",
              "      <td>1998.0</td>\n",
              "    </tr>\n",
              "    <tr>\n",
              "      <th>1</th>\n",
              "      <td>6.0</td>\n",
              "      <td>1291.0</td>\n",
              "      <td>1291.0</td>\n",
              "      <td>1291.0</td>\n",
              "      <td>307.0</td>\n",
              "      <td>288.0</td>\n",
              "      <td>69.0</td>\n",
              "      <td>0.0</td>\n",
              "      <td>1996.0</td>\n",
              "    </tr>\n",
              "    <tr>\n",
              "      <th>2</th>\n",
              "      <td>5.0</td>\n",
              "      <td>858.0</td>\n",
              "      <td>858.0</td>\n",
              "      <td>858.0</td>\n",
              "      <td>117.0</td>\n",
              "      <td>162.0</td>\n",
              "      <td>50.0</td>\n",
              "      <td>0.0</td>\n",
              "      <td>1979.0</td>\n",
              "    </tr>\n",
              "    <tr>\n",
              "      <th>3</th>\n",
              "      <td>6.0</td>\n",
              "      <td>560.0</td>\n",
              "      <td>698.0</td>\n",
              "      <td>1258.0</td>\n",
              "      <td>0.0</td>\n",
              "      <td>356.0</td>\n",
              "      <td>60.0</td>\n",
              "      <td>0.0</td>\n",
              "      <td>1939.0</td>\n",
              "    </tr>\n",
              "    <tr>\n",
              "      <th>4</th>\n",
              "      <td>2.0</td>\n",
              "      <td>290.0</td>\n",
              "      <td>438.0</td>\n",
              "      <td>438.0</td>\n",
              "      <td>0.0</td>\n",
              "      <td>0.0</td>\n",
              "      <td>60.0</td>\n",
              "      <td>0.0</td>\n",
              "      <td>1930.0</td>\n",
              "    </tr>\n",
              "  </tbody>\n",
              "</table>\n",
              "</div>"
            ],
            "text/plain": [
              "   OverallQual  TotalBsmtSF  1stFlrSF  ...  LotFrontage  MasVnrArea  GarageYrBlt\n",
              "0          7.0       1057.0    1057.0  ...         69.0       573.0       1998.0\n",
              "1          6.0       1291.0    1291.0  ...         69.0         0.0       1996.0\n",
              "2          5.0        858.0     858.0  ...         50.0         0.0       1979.0\n",
              "3          6.0        560.0     698.0  ...         60.0         0.0       1939.0\n",
              "4          2.0        290.0     438.0  ...         60.0         0.0       1930.0\n",
              "\n",
              "[5 rows x 9 columns]"
            ]
          },
          "metadata": {
            "tags": []
          },
          "execution_count": 11
        }
      ]
    },
    {
      "cell_type": "code",
      "metadata": {
        "id": "elVOaBRfD3QO",
        "colab_type": "code",
        "colab": {
          "base_uri": "https://localhost:8080/",
          "height": 607
        },
        "outputId": "9fafcfb7-0fd0-4109-c553-27223b3d16aa"
      },
      "source": [
        "# Let's explore the change in the distributions after the median imputation\n",
        "\n",
        "X_train = pd.DataFrame(X_train, columns=use_cols)\n",
        "X_train.hist(bins=50, figsize=(10,10))\n",
        "plt.show()"
      ],
      "execution_count": null,
      "outputs": [
        {
          "output_type": "display_data",
          "data": {
            "image/png": "[encoded data removed]",
            "text/plain": [
              "<Figure size 720x720 with 9 Axes>"
            ]
          },
          "metadata": {
            "tags": [],
            "needs_background": "light"
          }
        }
      ]
    },
    {
      "cell_type": "markdown",
      "metadata": {
        "id": "e4rMa0k6E_Ye",
        "colab_type": "text"
      },
      "source": [
        "Note in the variable LotFrontAge the tall bar at the value of the median in the histogram, which appears after the data imputation.\n",
        "\n",
        "**A MASSIVE NOTE OF CAUTION**: when encoding the returned numpy arrays from Scikit-learn back to a dataframe, there is the potential risk of messing the order of the features and therefore MISS-REPRESENTING the data!!\n",
        "\n",
        "You need to be extremely careful to pass the columns to the pd.DataFrame command in the same order in which they were in the X_train BEFORE the transformation!.\n",
        "\n",
        "\n",
        "### SimpleImputer: different procedures on different features\n",
        "\n",
        "On occasions, we want to implement different imputation techniques to different features, how can we do this using the SimpleImputer from Scikit-learn?\n",
        "\n",
        "We need to use another class called ColumnTransformer. \n",
        "\n",
        "**Note** ColumnTransformer has been recently released by Scikit-learn and it is therefore in beta version. This means that the developers can change the way it is used, or remove it altogether any time. The implication is that the code you write today, may not be useful after new releases from Scikit-learn. That is usually what happens with any open-source package when the developers are trying new functionality.\n",
        "\n",
        "More details about the ColumnTransformer in the [Sklearn website](https://scikit-learn.org/stable/modules/generated/sklearn.compose.ColumnTransformer.html)"
      ]
    },
    {
      "cell_type": "code",
      "metadata": {
        "id": "u-HaDRfLD5SI",
        "colab_type": "code",
        "colab": {
          "base_uri": "https://localhost:8080/",
          "height": 33
        },
        "outputId": "c30dcda7-0c9c-4749-ccc5-1fd975a41356"
      },
      "source": [
        "# let's separate into training and testing set\n",
        "\n",
        "X_train, X_test, y_train, y_test = train_test_split(data[use_cols],# predictors only\n",
        "                                                    data['SalePrice'],\n",
        "                                                    test_size=0.3,\n",
        "                                                    random_state=0)\n",
        "X_train.shape, X_test.shape"
      ],
      "execution_count": null,
      "outputs": [
        {
          "output_type": "execute_result",
          "data": {
            "text/plain": [
              "((1022, 9), (438, 9))"
            ]
          },
          "metadata": {
            "tags": []
          },
          "execution_count": 14
        }
      ]
    },
    {
      "cell_type": "code",
      "metadata": {
        "id": "2a_xZCueFCzo",
        "colab_type": "code",
        "colab": {
          "base_uri": "https://localhost:8080/",
          "height": 180
        },
        "outputId": "6b57e647-4239-4139-cf22-6cf8e2e42685"
      },
      "source": [
        "# let's look at the missing values\n",
        "X_train.isnull().mean()"
      ],
      "execution_count": null,
      "outputs": [
        {
          "output_type": "execute_result",
          "data": {
            "text/plain": [
              "OverallQual    0.000000\n",
              "TotalBsmtSF    0.000000\n",
              "1stFlrSF       0.000000\n",
              "GrLivArea      0.000000\n",
              "WoodDeckSF     0.000000\n",
              "BsmtUnfSF      0.000000\n",
              "LotFrontage    0.184932\n",
              "MasVnrArea     0.004892\n",
              "GarageYrBlt    0.052838\n",
              "dtype: float64"
            ]
          },
          "metadata": {
            "tags": []
          },
          "execution_count": 15
        }
      ]
    },
    {
      "cell_type": "code",
      "metadata": {
        "id": "nYZ8-UcOFEgY",
        "colab_type": "code",
        "colab": {
          "base_uri": "https://localhost:8080/",
          "height": 607
        },
        "outputId": "64ca3b93-37c1-43c7-ecda-91fc2144b34d"
      },
      "source": [
        "# let's look at the distributions of the variables to decide\n",
        "# whether we use the mean or the median\n",
        "\n",
        "X_train.hist(bins=50, figsize=(10,10))\n",
        "plt.show()"
      ],
      "execution_count": null,
      "outputs": [
        {
          "output_type": "display_data",
          "data": {
            "image/png": "[encoded data removed]",
            "text/plain": [
              "<Figure size 720x720 with 9 Axes>"
            ]
          },
          "metadata": {
            "tags": [],
            "needs_background": "light"
          }
        }
      ]
    },
    {
      "cell_type": "code",
      "metadata": {
        "id": "kHIiy8z-FFpt",
        "colab_type": "code",
        "colab": {}
      },
      "source": [
        "# first we need to make lists, indicating which features\n",
        "# will be imputed with each method\n",
        "\n",
        "numeric_features_mean = ['LotFrontage']\n",
        "numeric_features_median = ['MasVnrArea', 'GarageYrBlt']\n",
        "\n",
        "# then we instantiate the imputers, within a pipeline\n",
        "# we create one mean imputer and one median imputer\n",
        "# by changing the parameter in the strategy\n",
        "\n",
        "numeric_mean_imputer = Pipeline(steps=[\n",
        "    ('imputer', SimpleImputer(strategy='mean')),\n",
        "])\n",
        "\n",
        "numeric_median_imputer = Pipeline(steps=[\n",
        "    ('imputer', SimpleImputer(strategy='median')),\n",
        "])\n",
        "\n",
        "# then we put the features list and the transformers together\n",
        "# using the column transformer\n",
        "\n",
        "# we need to add remainder = True to indicate what we want\n",
        "# ALL the columns returned at the end of the transformation\n",
        "# and not just the engineered ones, which is the default\n",
        "# behaviour of ColumnTransformer. \n",
        "\n",
        "preprocessor = ColumnTransformer(transformers=[\n",
        "    ('mean_imputer', numeric_mean_imputer, numeric_features_mean),\n",
        "    ('median_imputer', numeric_median_imputer, numeric_features_median)\n",
        "], remainder='passthrough')\n",
        "\n",
        "\n",
        "# parameters of the ColumnTransformer\n",
        "# remainder = 'passthrough' indicates that we want to retain ALL the columns in the dataset\n",
        "            # otherwise only those specified in the imputing steps will be kept\n",
        "    \n",
        "# for more details follow the sklearn page:\n",
        "# https://scikit-learn.org/stable/modules/generated/sklearn.compose.ColumnTransformer.html"
      ],
      "execution_count": null,
      "outputs": []
    },
    {
      "cell_type": "code",
      "metadata": {
        "id": "EDjN_nREFRR6",
        "colab_type": "code",
        "colab": {
          "base_uri": "https://localhost:8080/",
          "height": 423
        },
        "outputId": "72c3ff38-4e1e-46e0-bab4-34c9ea1afb73"
      },
      "source": [
        "# now we fit the preprocessor\n",
        "preprocessor.fit(X_train)"
      ],
      "execution_count": null,
      "outputs": [
        {
          "output_type": "execute_result",
          "data": {
            "text/plain": [
              "ColumnTransformer(n_jobs=None, remainder='passthrough', sparse_threshold=0.3,\n",
              "                  transformer_weights=None,\n",
              "                  transformers=[('mean_imputer',\n",
              "                                 Pipeline(memory=None,\n",
              "                                          steps=[('imputer',\n",
              "                                                  SimpleImputer(add_indicator=False,\n",
              "                                                                copy=True,\n",
              "                                                                fill_value=None,\n",
              "                                                                missing_values=nan,\n",
              "                                                                strategy='mean',\n",
              "                                                                verbose=0))],\n",
              "                                          verbose=False),\n",
              "                                 ['LotFrontage']),\n",
              "                                ('median_imputer',\n",
              "                                 Pipeline(memory=None,\n",
              "                                          steps=[('imputer',\n",
              "                                                  SimpleImputer(add_indicator=False,\n",
              "                                                                copy=True,\n",
              "                                                                fill_value=None,\n",
              "                                                                missing_values=nan,\n",
              "                                                                strategy='median',\n",
              "                                                                verbose=0))],\n",
              "                                          verbose=False),\n",
              "                                 ['MasVnrArea', 'GarageYrBlt'])],\n",
              "                  verbose=False)"
            ]
          },
          "metadata": {
            "tags": []
          },
          "execution_count": 18
        }
      ]
    },
    {
      "cell_type": "code",
      "metadata": {
        "id": "i_4QJzRSFSkv",
        "colab_type": "code",
        "colab": {
          "base_uri": "https://localhost:8080/",
          "height": 212
        },
        "outputId": "ea197cf8-35d4-4d64-cddc-79bff31048ea"
      },
      "source": [
        "# we can explore the transformers like this:\n",
        "\n",
        "preprocessor.transformers"
      ],
      "execution_count": null,
      "outputs": [
        {
          "output_type": "execute_result",
          "data": {
            "text/plain": [
              "[('mean_imputer', Pipeline(memory=None,\n",
              "           steps=[('imputer',\n",
              "                   SimpleImputer(add_indicator=False, copy=True, fill_value=None,\n",
              "                                 missing_values=nan, strategy='mean',\n",
              "                                 verbose=0))],\n",
              "           verbose=False), ['LotFrontage']),\n",
              " ('median_imputer', Pipeline(memory=None,\n",
              "           steps=[('imputer',\n",
              "                   SimpleImputer(add_indicator=False, copy=True, fill_value=None,\n",
              "                                 missing_values=nan, strategy='median',\n",
              "                                 verbose=0))],\n",
              "           verbose=False), ['MasVnrArea', 'GarageYrBlt'])]"
            ]
          },
          "metadata": {
            "tags": []
          },
          "execution_count": 19
        }
      ]
    },
    {
      "cell_type": "code",
      "metadata": {
        "id": "4qKj-ONvFUwR",
        "colab_type": "code",
        "colab": {
          "base_uri": "https://localhost:8080/",
          "height": 33
        },
        "outputId": "ce993731-481e-4b84-8e0b-97a8ad171ab9"
      },
      "source": [
        "# and we can look at the parameters learnt like this:\n",
        "\n",
        "# for the mean imputer\n",
        "preprocessor.named_transformers_['mean_imputer'].named_steps['imputer'].statistics_"
      ],
      "execution_count": null,
      "outputs": [
        {
          "output_type": "execute_result",
          "data": {
            "text/plain": [
              "array([69.66866747])"
            ]
          },
          "metadata": {
            "tags": []
          },
          "execution_count": 20
        }
      ]
    },
    {
      "cell_type": "code",
      "metadata": {
        "id": "QqQf_HXSFb8X",
        "colab_type": "code",
        "colab": {
          "base_uri": "https://localhost:8080/",
          "height": 50
        },
        "outputId": "8e691ec3-d25d-4481-9f5a-dcf79feefe92"
      },
      "source": [
        "# and we can corroborate the value with that one in\n",
        "# the train set\n",
        "X_train[numeric_features_mean].mean()"
      ],
      "execution_count": null,
      "outputs": [
        {
          "output_type": "execute_result",
          "data": {
            "text/plain": [
              "LotFrontage    69.668667\n",
              "dtype: float64"
            ]
          },
          "metadata": {
            "tags": []
          },
          "execution_count": 21
        }
      ]
    },
    {
      "cell_type": "code",
      "metadata": {
        "id": "uSJjrbGrFeZV",
        "colab_type": "code",
        "colab": {
          "base_uri": "https://localhost:8080/",
          "height": 33
        },
        "outputId": "8f12ab1c-bfe2-4a0a-e724-afbfcdd4918a"
      },
      "source": [
        "# for the median imputerthere are 2 values learnt\n",
        "# because we want to impute 2 different variables\n",
        "\n",
        "preprocessor.named_transformers_['median_imputer'].named_steps['imputer'].statistics_"
      ],
      "execution_count": null,
      "outputs": [
        {
          "output_type": "execute_result",
          "data": {
            "text/plain": [
              "array([   0., 1979.])"
            ]
          },
          "metadata": {
            "tags": []
          },
          "execution_count": 22
        }
      ]
    },
    {
      "cell_type": "code",
      "metadata": {
        "id": "_nzEfiWvFiFZ",
        "colab_type": "code",
        "colab": {
          "base_uri": "https://localhost:8080/",
          "height": 66
        },
        "outputId": "d651a179-10f7-413d-be64-cf0c3007799b"
      },
      "source": [
        "# and we corroborate those values in the train set\n",
        "X_train[numeric_features_median].median()"
      ],
      "execution_count": null,
      "outputs": [
        {
          "output_type": "execute_result",
          "data": {
            "text/plain": [
              "MasVnrArea        0.0\n",
              "GarageYrBlt    1979.0\n",
              "dtype: float64"
            ]
          },
          "metadata": {
            "tags": []
          },
          "execution_count": 23
        }
      ]
    },
    {
      "cell_type": "code",
      "metadata": {
        "id": "qswG3EunFjNO",
        "colab_type": "code",
        "colab": {
          "base_uri": "https://localhost:8080/",
          "height": 33
        },
        "outputId": "fe71f475-29a4-4e7a-9d7a-2802dc6905d6"
      },
      "source": [
        "# and now we can impute the data\n",
        "X_train = preprocessor.transform(X_train)\n",
        "\n",
        "# and check it worked\n",
        "np.mean(np.isnan(X_train))"
      ],
      "execution_count": null,
      "outputs": [
        {
          "output_type": "execute_result",
          "data": {
            "text/plain": [
              "0.0"
            ]
          },
          "metadata": {
            "tags": []
          },
          "execution_count": 24
        }
      ]
    },
    {
      "cell_type": "code",
      "metadata": {
        "id": "9-wRt8MyFlDq",
        "colab_type": "code",
        "colab": {
          "base_uri": "https://localhost:8080/",
          "height": 33
        },
        "outputId": "88dad198-8be9-454f-fe90-2d815cdf39ce"
      },
      "source": [
        "# and now we can impute the test data\n",
        "X_test = preprocessor.transform(X_test)\n",
        "\n",
        "# and check it worked\n",
        "np.mean(np.isnan(X_test))"
      ],
      "execution_count": null,
      "outputs": [
        {
          "output_type": "execute_result",
          "data": {
            "text/plain": [
              "0.0"
            ]
          },
          "metadata": {
            "tags": []
          },
          "execution_count": 25
        }
      ]
    },
    {
      "cell_type": "code",
      "metadata": {
        "id": "I9VRJ-BgFozq",
        "colab_type": "code",
        "colab": {
          "base_uri": "https://localhost:8080/",
          "height": 228
        },
        "outputId": "78b15882-ffa1-4333-8419-b06e282efd60"
      },
      "source": [
        "# remember that the returned object  is a NumPy array\n",
        "X_train"
      ],
      "execution_count": null,
      "outputs": [
        {
          "output_type": "execute_result",
          "data": {
            "text/plain": [
              "array([[  69.66866747,  573.        , 1998.        , ..., 2034.        ,\n",
              "         576.        ,  318.        ],\n",
              "       [  69.66866747,    0.        , 1996.        , ..., 1291.        ,\n",
              "         307.        ,  288.        ],\n",
              "       [  50.        ,    0.        , 1979.        , ...,  858.        ,\n",
              "         117.        ,  162.        ],\n",
              "       ...,\n",
              "       [  68.        ,    0.        , 1978.        , ..., 1902.        ,\n",
              "           0.        ,    0.        ],\n",
              "       [  69.66866747,   18.        , 2003.        , ..., 1557.        ,\n",
              "         143.        , 1374.        ],\n",
              "       [  58.        ,   30.        , 1998.        , ..., 1839.        ,\n",
              "           0.        , 1195.        ]])"
            ]
          },
          "metadata": {
            "tags": []
          },
          "execution_count": 26
        }
      ]
    },
    {
      "cell_type": "code",
      "metadata": {
        "id": "RDNiKkanFqsz",
        "colab_type": "code",
        "colab": {
          "base_uri": "https://localhost:8080/",
          "height": 228
        },
        "outputId": "f42d2279-e028-4656-da46-09edc3cf5750"
      },
      "source": [
        "# if we want to put the array back into a dataframe, we need\n",
        "# to be careful with the column order\n",
        "\n",
        "# like this, we can explore the features used in each transformer\n",
        "# including those in the remainder (the ones that were not transformed)\n",
        "preprocessor.transformers_"
      ],
      "execution_count": null,
      "outputs": [
        {
          "output_type": "execute_result",
          "data": {
            "text/plain": [
              "[('mean_imputer', Pipeline(memory=None,\n",
              "           steps=[('imputer',\n",
              "                   SimpleImputer(add_indicator=False, copy=True, fill_value=None,\n",
              "                                 missing_values=nan, strategy='mean',\n",
              "                                 verbose=0))],\n",
              "           verbose=False), ['LotFrontage']),\n",
              " ('median_imputer', Pipeline(memory=None,\n",
              "           steps=[('imputer',\n",
              "                   SimpleImputer(add_indicator=False, copy=True, fill_value=None,\n",
              "                                 missing_values=nan, strategy='median',\n",
              "                                 verbose=0))],\n",
              "           verbose=False), ['MasVnrArea', 'GarageYrBlt']),\n",
              " ('remainder', 'passthrough', [0, 1, 2, 3, 4, 5])]"
            ]
          },
          "metadata": {
            "tags": []
          },
          "execution_count": 27
        }
      ]
    },
    {
      "cell_type": "markdown",
      "metadata": {
        "id": "9KlLkegXF7zD",
        "colab_type": "text"
      },
      "source": [
        "'remainder', 'passthrough', [0, 1, 2, 3, 4, 5]\n",
        "\n",
        "the code above tells us that the remainder columns are those in position 0, 1, 2, 3, 4, 5 of the X_train"
      ]
    },
    {
      "cell_type": "code",
      "metadata": {
        "id": "UAXXmNlZF0SJ",
        "colab_type": "code",
        "colab": {
          "base_uri": "https://localhost:8080/",
          "height": 115
        },
        "outputId": "f48b2b0a-4874-43ba-a6a1-f99ad85c18cc"
      },
      "source": [
        "# let's capture the columns in a list\n",
        "\n",
        "remainder_cols = [use_cols[c] for c in [0, 1, 2, 3, 4, 5]]\n",
        "remainder_cols"
      ],
      "execution_count": null,
      "outputs": [
        {
          "output_type": "execute_result",
          "data": {
            "text/plain": [
              "['OverallQual',\n",
              " 'TotalBsmtSF',\n",
              " '1stFlrSF',\n",
              " 'GrLivArea',\n",
              " 'WoodDeckSF',\n",
              " 'BsmtUnfSF']"
            ]
          },
          "metadata": {
            "tags": []
          },
          "execution_count": 28
        }
      ]
    },
    {
      "cell_type": "code",
      "metadata": {
        "id": "p8xsT8DjGA26",
        "colab_type": "code",
        "colab": {
          "base_uri": "https://localhost:8080/",
          "height": 191
        },
        "outputId": "197581f4-08fe-40d0-f511-5b4f7cab75c1"
      },
      "source": [
        "# capture the data back in a dataframe\n",
        "pd.DataFrame(X_train,\n",
        "             columns = numeric_features_mean+numeric_features_median+remainder_cols).head()"
      ],
      "execution_count": null,
      "outputs": [
        {
          "output_type": "execute_result",
          "data": {
            "text/html": [
              "<div>\n",
              "<style scoped>\n",
              "    .dataframe tbody tr th:only-of-type {\n",
              "        vertical-align: middle;\n",
              "    }\n",
              "\n",
              "    .dataframe tbody tr th {\n",
              "        vertical-align: top;\n",
              "    }\n",
              "\n",
              "    .dataframe thead th {\n",
              "        text-align: right;\n",
              "    }\n",
              "</style>\n",
              "<table border=\"1\" class=\"dataframe\">\n",
              "  <thead>\n",
              "    <tr style=\"text-align: right;\">\n",
              "      <th></th>\n",
              "      <th>LotFrontage</th>\n",
              "      <th>MasVnrArea</th>\n",
              "      <th>GarageYrBlt</th>\n",
              "      <th>OverallQual</th>\n",
              "      <th>TotalBsmtSF</th>\n",
              "      <th>1stFlrSF</th>\n",
              "      <th>GrLivArea</th>\n",
              "      <th>WoodDeckSF</th>\n",
              "      <th>BsmtUnfSF</th>\n",
              "    </tr>\n",
              "  </thead>\n",
              "  <tbody>\n",
              "    <tr>\n",
              "      <th>0</th>\n",
              "      <td>69.668667</td>\n",
              "      <td>573.0</td>\n",
              "      <td>1998.0</td>\n",
              "      <td>7.0</td>\n",
              "      <td>1057.0</td>\n",
              "      <td>1057.0</td>\n",
              "      <td>2034.0</td>\n",
              "      <td>576.0</td>\n",
              "      <td>318.0</td>\n",
              "    </tr>\n",
              "    <tr>\n",
              "      <th>1</th>\n",
              "      <td>69.668667</td>\n",
              "      <td>0.0</td>\n",
              "      <td>1996.0</td>\n",
              "      <td>6.0</td>\n",
              "      <td>1291.0</td>\n",
              "      <td>1291.0</td>\n",
              "      <td>1291.0</td>\n",
              "      <td>307.0</td>\n",
              "      <td>288.0</td>\n",
              "    </tr>\n",
              "    <tr>\n",
              "      <th>2</th>\n",
              "      <td>50.000000</td>\n",
              "      <td>0.0</td>\n",
              "      <td>1979.0</td>\n",
              "      <td>5.0</td>\n",
              "      <td>858.0</td>\n",
              "      <td>858.0</td>\n",
              "      <td>858.0</td>\n",
              "      <td>117.0</td>\n",
              "      <td>162.0</td>\n",
              "    </tr>\n",
              "    <tr>\n",
              "      <th>3</th>\n",
              "      <td>60.000000</td>\n",
              "      <td>0.0</td>\n",
              "      <td>1939.0</td>\n",
              "      <td>6.0</td>\n",
              "      <td>560.0</td>\n",
              "      <td>698.0</td>\n",
              "      <td>1258.0</td>\n",
              "      <td>0.0</td>\n",
              "      <td>356.0</td>\n",
              "    </tr>\n",
              "    <tr>\n",
              "      <th>4</th>\n",
              "      <td>60.000000</td>\n",
              "      <td>0.0</td>\n",
              "      <td>1930.0</td>\n",
              "      <td>2.0</td>\n",
              "      <td>290.0</td>\n",
              "      <td>438.0</td>\n",
              "      <td>438.0</td>\n",
              "      <td>0.0</td>\n",
              "      <td>0.0</td>\n",
              "    </tr>\n",
              "  </tbody>\n",
              "</table>\n",
              "</div>"
            ],
            "text/plain": [
              "   LotFrontage  MasVnrArea  GarageYrBlt  ...  GrLivArea  WoodDeckSF  BsmtUnfSF\n",
              "0    69.668667       573.0       1998.0  ...     2034.0       576.0      318.0\n",
              "1    69.668667         0.0       1996.0  ...     1291.0       307.0      288.0\n",
              "2    50.000000         0.0       1979.0  ...      858.0       117.0      162.0\n",
              "3    60.000000         0.0       1939.0  ...     1258.0         0.0      356.0\n",
              "4    60.000000         0.0       1930.0  ...      438.0         0.0        0.0\n",
              "\n",
              "[5 rows x 9 columns]"
            ]
          },
          "metadata": {
            "tags": []
          },
          "execution_count": 29
        }
      ]
    },
    {
      "cell_type": "markdown",
      "metadata": {
        "id": "5AucF9bNGVFn",
        "colab_type": "text"
      },
      "source": [
        "ColumnTransformer is in essence just slicing the dataframe in the required features. Then the SimpleImputer operates on the sliced dataframe. If different features are required by the different imputation methods, it will slice the dataframe on the required features for each imputation, and then concatenate them to produce the final output.\n",
        "For our specific example, what happens is the following:\n",
        "- ColumnTransformer first creates a single column dataframe with the first feature, LotFrontage\n",
        "- ColumnTransformer creates a 2 column dataframe with the features MasVnrArea and GarageBlt\n",
        "- ColumnTransformer creates an additional dataframe with the remaining features in the train set\n",
        "- The SimpleImputers learn the parameters in their respective sliced dataframes\n",
        "- ColunmnTransformer contatenates back all the dataframes into the final result"
      ]
    },
    {
      "cell_type": "markdown",
      "metadata": {
        "id": "0OueILBpHpL6",
        "colab_type": "text"
      },
      "source": [
        "## Arbitrary value imputation with Scikit-learn ==> SimpleImputer"
      ]
    },
    {
      "cell_type": "code",
      "metadata": {
        "id": "CTnw984pGD1T",
        "colab_type": "code",
        "colab": {
          "base_uri": "https://localhost:8080/",
          "height": 33
        },
        "outputId": "ae59045c-f878-40ec-cf29-11bba53eb482"
      },
      "source": [
        "# let's separate into training and testing set\n",
        "\n",
        "X_train, X_test, y_train, y_test = train_test_split(data[use_cols],# predictors only\n",
        "                                                    data['SalePrice'],\n",
        "                                                    test_size=0.3,\n",
        "                                                    random_state=0)\n",
        "X_train.shape, X_test.shape"
      ],
      "execution_count": null,
      "outputs": [
        {
          "output_type": "execute_result",
          "data": {
            "text/plain": [
              "((1022, 9), (438, 9))"
            ]
          },
          "metadata": {
            "tags": []
          },
          "execution_count": 30
        }
      ]
    },
    {
      "cell_type": "code",
      "metadata": {
        "id": "cEbhX1O-G2Y5",
        "colab_type": "code",
        "colab": {
          "base_uri": "https://localhost:8080/",
          "height": 50
        },
        "outputId": "b3c490f5-5921-494a-9f3f-e9fbfcf03576"
      },
      "source": [
        "# Now we impute the missing values with SimpleImputer\n",
        "\n",
        "# create an instance of the simple imputer\n",
        "# we indicate that we want to impute with a constant\n",
        "# arbitrary value: 999\n",
        "imputer = SimpleImputer(strategy='constant', \n",
        "                       fill_value = 999)\n",
        "\n",
        "# we fit the imputer to the train set\n",
        "# the imputer assigns 999 to all variables\n",
        "imputer.fit(X_train)"
      ],
      "execution_count": null,
      "outputs": [
        {
          "output_type": "execute_result",
          "data": {
            "text/plain": [
              "SimpleImputer(add_indicator=False, copy=True, fill_value=999,\n",
              "              missing_values=nan, strategy='constant', verbose=0)"
            ]
          },
          "metadata": {
            "tags": []
          },
          "execution_count": 31
        }
      ]
    },
    {
      "cell_type": "markdown",
      "metadata": {
        "id": "8T_6ehNpH1T_",
        "colab_type": "text"
      },
      "source": [
        "For arbitrary value imputation, we need to set the strategy to 'constant' and indicate the arbitrary value in the fill_value argument. "
      ]
    },
    {
      "cell_type": "code",
      "metadata": {
        "id": "AZkjZ-pkHvlU",
        "colab_type": "code",
        "colab": {
          "base_uri": "https://localhost:8080/",
          "height": 33
        },
        "outputId": "ac2a4170-9271-4649-9945-facdd9e4e375"
      },
      "source": [
        "# we can look at the learnt imputation values like this:\n",
        "imputer.statistics_"
      ],
      "execution_count": null,
      "outputs": [
        {
          "output_type": "execute_result",
          "data": {
            "text/plain": [
              "array([999., 999., 999., 999., 999., 999., 999., 999., 999.])"
            ]
          },
          "metadata": {
            "tags": []
          },
          "execution_count": 32
        }
      ]
    },
    {
      "cell_type": "code",
      "metadata": {
        "id": "uh8F9y_9H3Tz",
        "colab_type": "code",
        "colab": {
          "base_uri": "https://localhost:8080/",
          "height": 131
        },
        "outputId": "2b80509b-f05a-489b-e34b-2875c16cd052"
      },
      "source": [
        "# and now we impute the train and test set\n",
        "\n",
        "# NOTE: the data is returned as a numpy array!!!\n",
        "X_train = imputer.transform(X_train)\n",
        "X_test = imputer.transform(X_test)\n",
        "\n",
        "X_train"
      ],
      "execution_count": null,
      "outputs": [
        {
          "output_type": "execute_result",
          "data": {
            "text/plain": [
              "array([[   7., 1057., 1057., ...,  999.,  573., 1998.],\n",
              "       [   6., 1291., 1291., ...,  999.,    0., 1996.],\n",
              "       [   5.,  858.,  858., ...,   50.,    0.,  999.],\n",
              "       ...,\n",
              "       [   6.,    0., 1318., ...,   68.,    0., 1978.],\n",
              "       [   7., 1374., 1557., ...,  999.,   18., 2003.],\n",
              "       [   7., 1195., 1195., ...,   58.,   30., 1998.]])"
            ]
          },
          "metadata": {
            "tags": []
          },
          "execution_count": 33
        }
      ]
    },
    {
      "cell_type": "code",
      "metadata": {
        "id": "34iGQUqDH4uZ",
        "colab_type": "code",
        "colab": {
          "base_uri": "https://localhost:8080/",
          "height": 191
        },
        "outputId": "da66392c-1fee-49ef-e346-e7625ea887b6"
      },
      "source": [
        "# we can transform it back to a dataframe:\n",
        "\n",
        "X_train = pd.DataFrame(X_train, columns=use_cols)\n",
        "X_train.head()"
      ],
      "execution_count": null,
      "outputs": [
        {
          "output_type": "execute_result",
          "data": {
            "text/html": [
              "<div>\n",
              "<style scoped>\n",
              "    .dataframe tbody tr th:only-of-type {\n",
              "        vertical-align: middle;\n",
              "    }\n",
              "\n",
              "    .dataframe tbody tr th {\n",
              "        vertical-align: top;\n",
              "    }\n",
              "\n",
              "    .dataframe thead th {\n",
              "        text-align: right;\n",
              "    }\n",
              "</style>\n",
              "<table border=\"1\" class=\"dataframe\">\n",
              "  <thead>\n",
              "    <tr style=\"text-align: right;\">\n",
              "      <th></th>\n",
              "      <th>OverallQual</th>\n",
              "      <th>TotalBsmtSF</th>\n",
              "      <th>1stFlrSF</th>\n",
              "      <th>GrLivArea</th>\n",
              "      <th>WoodDeckSF</th>\n",
              "      <th>BsmtUnfSF</th>\n",
              "      <th>LotFrontage</th>\n",
              "      <th>MasVnrArea</th>\n",
              "      <th>GarageYrBlt</th>\n",
              "    </tr>\n",
              "  </thead>\n",
              "  <tbody>\n",
              "    <tr>\n",
              "      <th>0</th>\n",
              "      <td>7.0</td>\n",
              "      <td>1057.0</td>\n",
              "      <td>1057.0</td>\n",
              "      <td>2034.0</td>\n",
              "      <td>576.0</td>\n",
              "      <td>318.0</td>\n",
              "      <td>999.0</td>\n",
              "      <td>573.0</td>\n",
              "      <td>1998.0</td>\n",
              "    </tr>\n",
              "    <tr>\n",
              "      <th>1</th>\n",
              "      <td>6.0</td>\n",
              "      <td>1291.0</td>\n",
              "      <td>1291.0</td>\n",
              "      <td>1291.0</td>\n",
              "      <td>307.0</td>\n",
              "      <td>288.0</td>\n",
              "      <td>999.0</td>\n",
              "      <td>0.0</td>\n",
              "      <td>1996.0</td>\n",
              "    </tr>\n",
              "    <tr>\n",
              "      <th>2</th>\n",
              "      <td>5.0</td>\n",
              "      <td>858.0</td>\n",
              "      <td>858.0</td>\n",
              "      <td>858.0</td>\n",
              "      <td>117.0</td>\n",
              "      <td>162.0</td>\n",
              "      <td>50.0</td>\n",
              "      <td>0.0</td>\n",
              "      <td>999.0</td>\n",
              "    </tr>\n",
              "    <tr>\n",
              "      <th>3</th>\n",
              "      <td>6.0</td>\n",
              "      <td>560.0</td>\n",
              "      <td>698.0</td>\n",
              "      <td>1258.0</td>\n",
              "      <td>0.0</td>\n",
              "      <td>356.0</td>\n",
              "      <td>60.0</td>\n",
              "      <td>0.0</td>\n",
              "      <td>1939.0</td>\n",
              "    </tr>\n",
              "    <tr>\n",
              "      <th>4</th>\n",
              "      <td>2.0</td>\n",
              "      <td>290.0</td>\n",
              "      <td>438.0</td>\n",
              "      <td>438.0</td>\n",
              "      <td>0.0</td>\n",
              "      <td>0.0</td>\n",
              "      <td>60.0</td>\n",
              "      <td>0.0</td>\n",
              "      <td>1930.0</td>\n",
              "    </tr>\n",
              "  </tbody>\n",
              "</table>\n",
              "</div>"
            ],
            "text/plain": [
              "   OverallQual  TotalBsmtSF  1stFlrSF  ...  LotFrontage  MasVnrArea  GarageYrBlt\n",
              "0          7.0       1057.0    1057.0  ...        999.0       573.0       1998.0\n",
              "1          6.0       1291.0    1291.0  ...        999.0         0.0       1996.0\n",
              "2          5.0        858.0     858.0  ...         50.0         0.0        999.0\n",
              "3          6.0        560.0     698.0  ...         60.0         0.0       1939.0\n",
              "4          2.0        290.0     438.0  ...         60.0         0.0       1930.0\n",
              "\n",
              "[5 rows x 9 columns]"
            ]
          },
          "metadata": {
            "tags": []
          },
          "execution_count": 35
        }
      ]
    },
    {
      "cell_type": "code",
      "metadata": {
        "id": "93wqdC9xH711",
        "colab_type": "code",
        "colab": {
          "base_uri": "https://localhost:8080/",
          "height": 607
        },
        "outputId": "267590c8-2412-4867-b6f0-a8e316944578"
      },
      "source": [
        "# Let's explore the distributions after the imputation\n",
        "\n",
        "X_train.hist(bins=50, figsize=(10,10))\n",
        "plt.show()"
      ],
      "execution_count": null,
      "outputs": [
        {
          "output_type": "display_data",
          "data": {
            "image/png": "[encoded data removed]",
            "text/plain": [
              "<Figure size 720x720 with 9 Axes>"
            ]
          },
          "metadata": {
            "tags": [],
            "needs_background": "light"
          }
        }
      ]
    },
    {
      "cell_type": "markdown",
      "metadata": {
        "id": "rv-ILNw4IJ76",
        "colab_type": "text"
      },
      "source": [
        "Note the tall bar at 999 in the LotFrontage's histogram, which appeared after the imputation. You can also see the imputation effect on GarageYrBlt, with the bar at the far left right at the 999 value."
      ]
    },
    {
      "cell_type": "code",
      "metadata": {
        "id": "a7GIXkOHH_Ry",
        "colab_type": "code",
        "colab": {
          "base_uri": "https://localhost:8080/",
          "height": 33
        },
        "outputId": "dcd0e117-cb87-45e4-d43f-d916a332c15f"
      },
      "source": [
        "# let's separate into training and testing set\n",
        "\n",
        "X_train, X_test, y_train, y_test = train_test_split(data[use_cols],\n",
        "                                                    data['SalePrice'],\n",
        "                                                    test_size=0.3,\n",
        "                                                    random_state=0)\n",
        "X_train.shape, X_test.shape"
      ],
      "execution_count": null,
      "outputs": [
        {
          "output_type": "execute_result",
          "data": {
            "text/plain": [
              "((1022, 9), (438, 9))"
            ]
          },
          "metadata": {
            "tags": []
          },
          "execution_count": 37
        }
      ]
    },
    {
      "cell_type": "code",
      "metadata": {
        "id": "AOTYoQy4INeQ",
        "colab_type": "code",
        "colab": {
          "base_uri": "https://localhost:8080/",
          "height": 607
        },
        "outputId": "d6d0071e-3668-4ad9-a3fe-ac0ed280f66b"
      },
      "source": [
        "# let's look at the distributions of the variables to decide\n",
        "# which arbitrary value to use for each feature\n",
        "\n",
        "X_train.hist(bins=50, figsize=(10,10))\n",
        "plt.show()"
      ],
      "execution_count": null,
      "outputs": [
        {
          "output_type": "display_data",
          "data": {
            "image/png": "[encoded data removed]",
            "text/plain": [
              "<Figure size 720x720 with 9 Axes>"
            ]
          },
          "metadata": {
            "tags": [],
            "needs_background": "light"
          }
        }
      ]
    },
    {
      "cell_type": "code",
      "metadata": {
        "id": "gcFY1GsxIPyw",
        "colab_type": "code",
        "colab": {}
      },
      "source": [
        "# first we need to make lists, indicating which features\n",
        "# will be imputed with each value\n",
        "\n",
        "features_LotFrontAge = ['LotFrontage']\n",
        "features_MasVnrArea = ['MasVnrArea']\n",
        "features_GarageYrBlt = ['GarageYrBlt']\n",
        "\n",
        "# then we instantiate the imputers, within a pipeline\n",
        "# we create one imputer per feature\n",
        "# within the imputer I indicate the arbitrary value\n",
        "# which is differet for each variable\n",
        "\n",
        "imputer_LotFrontAge = Pipeline(steps=[\n",
        "    ('imputer', SimpleImputer(strategy='constant', fill_value = 999)),\n",
        "])\n",
        "\n",
        "imputer_MasVnrArea = Pipeline(steps=[\n",
        "    ('imputer', SimpleImputer(strategy='constant', fill_value = -10)),\n",
        "])\n",
        "\n",
        "imputer_GarageYrBlt = Pipeline(steps=[\n",
        "    ('imputer', SimpleImputer(strategy='constant', fill_value = 1700)),\n",
        "])\n",
        "\n",
        "# then we put the features list and the transformers together\n",
        "# using the column transformer\n",
        "\n",
        "# in this example, I will use the default parameter of ColumnTransformer\n",
        "# remainder = drop, which means that only the imputed features will\n",
        "# be retained, and the rest dropped\n",
        "\n",
        "preprocessor = ColumnTransformer(transformers=[\n",
        "    ('imputer_LotFrontAge', imputer_LotFrontAge, features_LotFrontAge),\n",
        "    ('imputer_MasVnrArea', imputer_MasVnrArea, features_MasVnrArea),\n",
        "    ('imputer_GarageYrBlt', imputer_GarageYrBlt, features_GarageYrBlt)\n",
        "],remainder = 'drop')"
      ],
      "execution_count": null,
      "outputs": []
    },
    {
      "cell_type": "code",
      "metadata": {
        "id": "I27ZrtAuISoA",
        "colab_type": "code",
        "colab": {
          "base_uri": "https://localhost:8080/",
          "height": 586
        },
        "outputId": "9f099df3-1d2e-4efc-d509-605db4c57a64"
      },
      "source": [
        "# now we fit the preprocessor\n",
        "preprocessor.fit(X_train)"
      ],
      "execution_count": null,
      "outputs": [
        {
          "output_type": "execute_result",
          "data": {
            "text/plain": [
              "ColumnTransformer(n_jobs=None, remainder='drop', sparse_threshold=0.3,\n",
              "                  transformer_weights=None,\n",
              "                  transformers=[('imputer_LotFrontAge',\n",
              "                                 Pipeline(memory=None,\n",
              "                                          steps=[('imputer',\n",
              "                                                  SimpleImputer(add_indicator=False,\n",
              "                                                                copy=True,\n",
              "                                                                fill_value=999,\n",
              "                                                                missing_values=nan,\n",
              "                                                                strategy='constant',\n",
              "                                                                verbose=0))],\n",
              "                                          verbose=False),\n",
              "                                 ['LotFrontage']),\n",
              "                                ('imputer_MasVnrArea',\n",
              "                                 Pipeline(memory=...\n",
              "                                                  SimpleImputer(add_indicator=False,\n",
              "                                                                copy=True,\n",
              "                                                                fill_value=-10,\n",
              "                                                                missing_values=nan,\n",
              "                                                                strategy='constant',\n",
              "                                                                verbose=0))],\n",
              "                                          verbose=False),\n",
              "                                 ['MasVnrArea']),\n",
              "                                ('imputer_GarageYrBlt',\n",
              "                                 Pipeline(memory=None,\n",
              "                                          steps=[('imputer',\n",
              "                                                  SimpleImputer(add_indicator=False,\n",
              "                                                                copy=True,\n",
              "                                                                fill_value=1700,\n",
              "                                                                missing_values=nan,\n",
              "                                                                strategy='constant',\n",
              "                                                                verbose=0))],\n",
              "                                          verbose=False),\n",
              "                                 ['GarageYrBlt'])],\n",
              "                  verbose=False)"
            ]
          },
          "metadata": {
            "tags": []
          },
          "execution_count": 40
        }
      ]
    },
    {
      "cell_type": "code",
      "metadata": {
        "id": "qC9SIMIjIUlc",
        "colab_type": "code",
        "colab": {
          "base_uri": "https://localhost:8080/",
          "height": 310
        },
        "outputId": "3d0625eb-77c8-48bd-dd97-674d0fc3ce6d"
      },
      "source": [
        "# we can explore the transformers like this:\n",
        "\n",
        "preprocessor.transformers"
      ],
      "execution_count": null,
      "outputs": [
        {
          "output_type": "execute_result",
          "data": {
            "text/plain": [
              "[('imputer_LotFrontAge', Pipeline(memory=None,\n",
              "           steps=[('imputer',\n",
              "                   SimpleImputer(add_indicator=False, copy=True, fill_value=999,\n",
              "                                 missing_values=nan, strategy='constant',\n",
              "                                 verbose=0))],\n",
              "           verbose=False), ['LotFrontage']),\n",
              " ('imputer_MasVnrArea', Pipeline(memory=None,\n",
              "           steps=[('imputer',\n",
              "                   SimpleImputer(add_indicator=False, copy=True, fill_value=-10,\n",
              "                                 missing_values=nan, strategy='constant',\n",
              "                                 verbose=0))],\n",
              "           verbose=False), ['MasVnrArea']),\n",
              " ('imputer_GarageYrBlt', Pipeline(memory=None,\n",
              "           steps=[('imputer',\n",
              "                   SimpleImputer(add_indicator=False, copy=True, fill_value=1700,\n",
              "                                 missing_values=nan, strategy='constant',\n",
              "                                 verbose=0))],\n",
              "           verbose=False), ['GarageYrBlt'])]"
            ]
          },
          "metadata": {
            "tags": []
          },
          "execution_count": 41
        }
      ]
    },
    {
      "cell_type": "code",
      "metadata": {
        "id": "ZxA7A_7sIWXo",
        "colab_type": "code",
        "colab": {
          "base_uri": "https://localhost:8080/",
          "height": 33
        },
        "outputId": "237d9a80-af57-4a4f-89a4-9d8728dddcf5"
      },
      "source": [
        "# and we can look at the parameters learnt like this:\n",
        "\n",
        "# for LotFrontAge\n",
        "preprocessor.named_transformers_['imputer_LotFrontAge'].named_steps['imputer'].statistics_"
      ],
      "execution_count": null,
      "outputs": [
        {
          "output_type": "execute_result",
          "data": {
            "text/plain": [
              "array([999.])"
            ]
          },
          "metadata": {
            "tags": []
          },
          "execution_count": 42
        }
      ]
    },
    {
      "cell_type": "code",
      "metadata": {
        "id": "AvAKPKPaIYA4",
        "colab_type": "code",
        "colab": {
          "base_uri": "https://localhost:8080/",
          "height": 33
        },
        "outputId": "f106f301-a8d4-4b33-b7f4-98d8417cccc4"
      },
      "source": [
        "# for MasVnrArea\n",
        "\n",
        "preprocessor.named_transformers_['imputer_MasVnrArea'].named_steps['imputer'].statistics_"
      ],
      "execution_count": null,
      "outputs": [
        {
          "output_type": "execute_result",
          "data": {
            "text/plain": [
              "array([-10.])"
            ]
          },
          "metadata": {
            "tags": []
          },
          "execution_count": 43
        }
      ]
    },
    {
      "cell_type": "code",
      "metadata": {
        "id": "-kzocLYXIZQo",
        "colab_type": "code",
        "colab": {
          "base_uri": "https://localhost:8080/",
          "height": 33
        },
        "outputId": "7139e296-f23a-4358-fd50-703114d93e24"
      },
      "source": [
        "# for GarageYrBlt\n",
        "\n",
        "preprocessor.named_transformers_['imputer_GarageYrBlt'].named_steps['imputer'].statistics_"
      ],
      "execution_count": null,
      "outputs": [
        {
          "output_type": "execute_result",
          "data": {
            "text/plain": [
              "array([1700.])"
            ]
          },
          "metadata": {
            "tags": []
          },
          "execution_count": 44
        }
      ]
    },
    {
      "cell_type": "code",
      "metadata": {
        "id": "RtHitE6HIavh",
        "colab_type": "code",
        "colab": {
          "base_uri": "https://localhost:8080/",
          "height": 131
        },
        "outputId": "4f8df471-5bec-46b5-bd7a-b4f581033608"
      },
      "source": [
        "# and now we can impute the data\n",
        "X_train = preprocessor.transform(X_train)\n",
        "X_test = preprocessor.transform(X_test)\n",
        "\n",
        "X_train"
      ],
      "execution_count": null,
      "outputs": [
        {
          "output_type": "execute_result",
          "data": {
            "text/plain": [
              "array([[ 999.,  573., 1998.],\n",
              "       [ 999.,    0., 1996.],\n",
              "       [  50.,    0., 1700.],\n",
              "       ...,\n",
              "       [  68.,    0., 1978.],\n",
              "       [ 999.,   18., 2003.],\n",
              "       [  58.,   30., 1998.]])"
            ]
          },
          "metadata": {
            "tags": []
          },
          "execution_count": 45
        }
      ]
    },
    {
      "cell_type": "markdown",
      "metadata": {
        "id": "LqDhS5VrIqlc",
        "colab_type": "text"
      },
      "source": [
        "\n",
        "Observe how the returned data contains only 3 variables, the ones for which we specified imputation values. This is the effect of specifying remainder='drop' in the columnTransformer.\n",
        "\n",
        "For our specific example, what happens is the following:\n",
        "\n",
        "- ColumnTransformer first creates 3 single column dataframes, one with each of the indicated variables\n",
        "- The SimpleImputers learn the parameters in their respective sliced dataframes\n",
        "    - In this case they don't learn anything, because we hard code the arbitrary value\n",
        "- ColunmnTransformer contatenates back the 3 single column dataframes into the final result, which is a 3 column dataframe\n",
        "\n",
        "So note that you will not get all the variables from the original X_train, unless you create imputers for all the variables!!\n",
        "\n",
        "Also, there is a risk of messing up with the order of the features, if we do not use the transformers within a pipeline or we do not keep an eye on the order of the features in the train set, before they were converted to numpy arrays."
      ]
    },
    {
      "cell_type": "code",
      "metadata": {
        "id": "8UD-TjgWIbut",
        "colab_type": "code",
        "colab": {
          "base_uri": "https://localhost:8080/",
          "height": 191
        },
        "outputId": "8efca3e4-ae35-4d3f-c5b2-5e5c3a05765e"
      },
      "source": [
        "# see how the result of the imputation is a 3 column dataset\n",
        "pd.DataFrame(X_train,\n",
        "             columns=features_LotFrontAge + features_MasVnrArea +\n",
        "             features_GarageYrBlt).head()"
      ],
      "execution_count": null,
      "outputs": [
        {
          "output_type": "execute_result",
          "data": {
            "text/html": [
              "<div>\n",
              "<style scoped>\n",
              "    .dataframe tbody tr th:only-of-type {\n",
              "        vertical-align: middle;\n",
              "    }\n",
              "\n",
              "    .dataframe tbody tr th {\n",
              "        vertical-align: top;\n",
              "    }\n",
              "\n",
              "    .dataframe thead th {\n",
              "        text-align: right;\n",
              "    }\n",
              "</style>\n",
              "<table border=\"1\" class=\"dataframe\">\n",
              "  <thead>\n",
              "    <tr style=\"text-align: right;\">\n",
              "      <th></th>\n",
              "      <th>LotFrontage</th>\n",
              "      <th>MasVnrArea</th>\n",
              "      <th>GarageYrBlt</th>\n",
              "    </tr>\n",
              "  </thead>\n",
              "  <tbody>\n",
              "    <tr>\n",
              "      <th>0</th>\n",
              "      <td>999.0</td>\n",
              "      <td>573.0</td>\n",
              "      <td>1998.0</td>\n",
              "    </tr>\n",
              "    <tr>\n",
              "      <th>1</th>\n",
              "      <td>999.0</td>\n",
              "      <td>0.0</td>\n",
              "      <td>1996.0</td>\n",
              "    </tr>\n",
              "    <tr>\n",
              "      <th>2</th>\n",
              "      <td>50.0</td>\n",
              "      <td>0.0</td>\n",
              "      <td>1700.0</td>\n",
              "    </tr>\n",
              "    <tr>\n",
              "      <th>3</th>\n",
              "      <td>60.0</td>\n",
              "      <td>0.0</td>\n",
              "      <td>1939.0</td>\n",
              "    </tr>\n",
              "    <tr>\n",
              "      <th>4</th>\n",
              "      <td>60.0</td>\n",
              "      <td>0.0</td>\n",
              "      <td>1930.0</td>\n",
              "    </tr>\n",
              "  </tbody>\n",
              "</table>\n",
              "</div>"
            ],
            "text/plain": [
              "   LotFrontage  MasVnrArea  GarageYrBlt\n",
              "0        999.0       573.0       1998.0\n",
              "1        999.0         0.0       1996.0\n",
              "2         50.0         0.0       1700.0\n",
              "3         60.0         0.0       1939.0\n",
              "4         60.0         0.0       1930.0"
            ]
          },
          "metadata": {
            "tags": []
          },
          "execution_count": 46
        }
      ]
    },
    {
      "cell_type": "code",
      "metadata": {
        "id": "dv9ssyE5IzHN",
        "colab_type": "code",
        "colab": {
          "base_uri": "https://localhost:8080/",
          "height": 607
        },
        "outputId": "451ecdb0-f26f-4c00-a9f1-5ccaf08a2e32"
      },
      "source": [
        "X_train = pd.DataFrame(X_train,\n",
        "             columns=features_LotFrontAge + features_MasVnrArea +\n",
        "             features_GarageYrBlt)\n",
        "\n",
        "X_train.hist(bins=50, figsize=(10,10))\n",
        "plt.show()"
      ],
      "execution_count": null,
      "outputs": [
        {
          "output_type": "display_data",
          "data": {
            "image/png": "[encoded data removed]",
            "text/plain": [
              "<Figure size 720x720 with 4 Axes>"
            ]
          },
          "metadata": {
            "tags": [],
            "needs_background": "light"
          }
        }
      ]
    },
    {
      "cell_type": "markdown",
      "metadata": {
        "id": "f2V6-qTqI35v",
        "colab_type": "text"
      },
      "source": [
        "Note the bars corresponding to the arbitrary values at 1700, 999 and -1 for each feature"
      ]
    },
    {
      "cell_type": "markdown",
      "metadata": {
        "id": "_Zs6ckRsJGGp",
        "colab_type": "text"
      },
      "source": [
        "## Frequent category imputation with Scikit-learn ==> SimpleImputer\n"
      ]
    },
    {
      "cell_type": "code",
      "metadata": {
        "id": "OCKHCB-ZI0pv",
        "colab_type": "code",
        "colab": {
          "base_uri": "https://localhost:8080/",
          "height": 191
        },
        "outputId": "c381ea13-0eae-4814-ca38-b82e081f5f10"
      },
      "source": [
        "# we use only the following variables for the demo:\n",
        "# a mix of categorical and numerical\n",
        "\n",
        "cols_to_use = ['BsmtQual', 'FireplaceQu', 'MSZoning',\n",
        "               'BsmtUnfSF', 'LotFrontage', 'MasVnrArea',\n",
        "               'Street', 'Alley', 'SalePrice']\n",
        "\n",
        "\n",
        "data = pd.read_csv('houseprice.csv', usecols=cols_to_use)\n",
        "\n",
        "data.head()"
      ],
      "execution_count": null,
      "outputs": [
        {
          "output_type": "execute_result",
          "data": {
            "text/html": [
              "<div>\n",
              "<style scoped>\n",
              "    .dataframe tbody tr th:only-of-type {\n",
              "        vertical-align: middle;\n",
              "    }\n",
              "\n",
              "    .dataframe tbody tr th {\n",
              "        vertical-align: top;\n",
              "    }\n",
              "\n",
              "    .dataframe thead th {\n",
              "        text-align: right;\n",
              "    }\n",
              "</style>\n",
              "<table border=\"1\" class=\"dataframe\">\n",
              "  <thead>\n",
              "    <tr style=\"text-align: right;\">\n",
              "      <th></th>\n",
              "      <th>MSZoning</th>\n",
              "      <th>LotFrontage</th>\n",
              "      <th>Street</th>\n",
              "      <th>Alley</th>\n",
              "      <th>MasVnrArea</th>\n",
              "      <th>BsmtQual</th>\n",
              "      <th>BsmtUnfSF</th>\n",
              "      <th>FireplaceQu</th>\n",
              "      <th>SalePrice</th>\n",
              "    </tr>\n",
              "  </thead>\n",
              "  <tbody>\n",
              "    <tr>\n",
              "      <th>0</th>\n",
              "      <td>RL</td>\n",
              "      <td>65.0</td>\n",
              "      <td>Pave</td>\n",
              "      <td>NaN</td>\n",
              "      <td>196.0</td>\n",
              "      <td>Gd</td>\n",
              "      <td>150</td>\n",
              "      <td>NaN</td>\n",
              "      <td>208500</td>\n",
              "    </tr>\n",
              "    <tr>\n",
              "      <th>1</th>\n",
              "      <td>RL</td>\n",
              "      <td>80.0</td>\n",
              "      <td>Pave</td>\n",
              "      <td>NaN</td>\n",
              "      <td>0.0</td>\n",
              "      <td>Gd</td>\n",
              "      <td>284</td>\n",
              "      <td>TA</td>\n",
              "      <td>181500</td>\n",
              "    </tr>\n",
              "    <tr>\n",
              "      <th>2</th>\n",
              "      <td>RL</td>\n",
              "      <td>68.0</td>\n",
              "      <td>Pave</td>\n",
              "      <td>NaN</td>\n",
              "      <td>162.0</td>\n",
              "      <td>Gd</td>\n",
              "      <td>434</td>\n",
              "      <td>TA</td>\n",
              "      <td>223500</td>\n",
              "    </tr>\n",
              "    <tr>\n",
              "      <th>3</th>\n",
              "      <td>RL</td>\n",
              "      <td>60.0</td>\n",
              "      <td>Pave</td>\n",
              "      <td>NaN</td>\n",
              "      <td>0.0</td>\n",
              "      <td>TA</td>\n",
              "      <td>540</td>\n",
              "      <td>Gd</td>\n",
              "      <td>140000</td>\n",
              "    </tr>\n",
              "    <tr>\n",
              "      <th>4</th>\n",
              "      <td>RL</td>\n",
              "      <td>84.0</td>\n",
              "      <td>Pave</td>\n",
              "      <td>NaN</td>\n",
              "      <td>350.0</td>\n",
              "      <td>Gd</td>\n",
              "      <td>490</td>\n",
              "      <td>TA</td>\n",
              "      <td>250000</td>\n",
              "    </tr>\n",
              "  </tbody>\n",
              "</table>\n",
              "</div>"
            ],
            "text/plain": [
              "  MSZoning  LotFrontage Street Alley  ...  BsmtQual BsmtUnfSF  FireplaceQu SalePrice\n",
              "0       RL         65.0   Pave   NaN  ...        Gd       150          NaN    208500\n",
              "1       RL         80.0   Pave   NaN  ...        Gd       284           TA    181500\n",
              "2       RL         68.0   Pave   NaN  ...        Gd       434           TA    223500\n",
              "3       RL         60.0   Pave   NaN  ...        TA       540           Gd    140000\n",
              "4       RL         84.0   Pave   NaN  ...        Gd       490           TA    250000\n",
              "\n",
              "[5 rows x 9 columns]"
            ]
          },
          "metadata": {
            "tags": []
          },
          "execution_count": 49
        }
      ]
    },
    {
      "cell_type": "code",
      "metadata": {
        "id": "2lOpt5qMKBJr",
        "colab_type": "code",
        "colab": {
          "base_uri": "https://localhost:8080/",
          "height": 180
        },
        "outputId": "5194252b-d8d4-4521-ed87-822e1ec3e0da"
      },
      "source": [
        "# let's check the null values\n",
        "data.isnull().mean()"
      ],
      "execution_count": null,
      "outputs": [
        {
          "output_type": "execute_result",
          "data": {
            "text/plain": [
              "MSZoning       0.000000\n",
              "LotFrontage    0.177397\n",
              "Street         0.000000\n",
              "Alley          0.937671\n",
              "MasVnrArea     0.005479\n",
              "BsmtQual       0.025342\n",
              "BsmtUnfSF      0.000000\n",
              "FireplaceQu    0.472603\n",
              "SalePrice      0.000000\n",
              "dtype: float64"
            ]
          },
          "metadata": {
            "tags": []
          },
          "execution_count": 50
        }
      ]
    },
    {
      "cell_type": "code",
      "metadata": {
        "id": "DiI7S8evKKkR",
        "colab_type": "code",
        "colab": {
          "base_uri": "https://localhost:8080/",
          "height": 33
        },
        "outputId": "1b778e58-8204-4838-fe82-ad51280eb7e3"
      },
      "source": [
        "# let's separate into training and testing set\n",
        "\n",
        "# first let's remove the target from the features\n",
        "cols_to_use.remove('SalePrice')\n",
        "\n",
        "X_train, X_test, y_train, y_test = train_test_split(data[cols_to_use], # just the features\n",
        "                                                    data['SalePrice'], # the target\n",
        "                                                    test_size=0.3, # the percentage of obs in the test set\n",
        "                                                    random_state=0) # for reproducibility\n",
        "X_train.shape, X_test.shape"
      ],
      "execution_count": null,
      "outputs": [
        {
          "output_type": "execute_result",
          "data": {
            "text/plain": [
              "((1022, 8), (438, 8))"
            ]
          },
          "metadata": {
            "tags": []
          },
          "execution_count": 51
        }
      ]
    },
    {
      "cell_type": "code",
      "metadata": {
        "id": "nEDluqFnKMWb",
        "colab_type": "code",
        "colab": {
          "base_uri": "https://localhost:8080/",
          "height": 163
        },
        "outputId": "b7a38044-a723-44c8-885a-6034e7cb2a88"
      },
      "source": [
        "# let's check the misssing data again\n",
        "X_train.isnull().mean()"
      ],
      "execution_count": null,
      "outputs": [
        {
          "output_type": "execute_result",
          "data": {
            "text/plain": [
              "BsmtQual       0.023483\n",
              "FireplaceQu    0.467710\n",
              "MSZoning       0.000000\n",
              "BsmtUnfSF      0.000000\n",
              "LotFrontage    0.184932\n",
              "MasVnrArea     0.004892\n",
              "Street         0.000000\n",
              "Alley          0.939335\n",
              "dtype: float64"
            ]
          },
          "metadata": {
            "tags": []
          },
          "execution_count": 52
        }
      ]
    },
    {
      "cell_type": "code",
      "metadata": {
        "id": "w77tEpJmKNsO",
        "colab_type": "code",
        "colab": {
          "base_uri": "https://localhost:8080/",
          "height": 50
        },
        "outputId": "a2435008-1447-4ec6-e7d2-a17da82061d4"
      },
      "source": [
        "# Now we impute the missing values with SimpleImputer\n",
        "\n",
        "# create an instance of the simple imputer\n",
        "# we indicate that we want to impute with the \n",
        "# most frequent category\n",
        "\n",
        "imputer = SimpleImputer(strategy='most_frequent')\n",
        "\n",
        "# we fit the imputer to the train set\n",
        "# the imputer will learn the mode of ALL variables\n",
        "# categorical or not\n",
        "imputer.fit(X_train[cols_to_use])"
      ],
      "execution_count": null,
      "outputs": [
        {
          "output_type": "execute_result",
          "data": {
            "text/plain": [
              "SimpleImputer(add_indicator=False, copy=True, fill_value=None,\n",
              "              missing_values=nan, strategy='most_frequent', verbose=0)"
            ]
          },
          "metadata": {
            "tags": []
          },
          "execution_count": 53
        }
      ]
    },
    {
      "cell_type": "code",
      "metadata": {
        "id": "-iojy04EKPid",
        "colab_type": "code",
        "colab": {
          "base_uri": "https://localhost:8080/",
          "height": 33
        },
        "outputId": "2ff0f069-b55a-454a-f8d7-d6dc456a7f69"
      },
      "source": [
        "# we can look at the learnt frequent values like this:\n",
        "imputer.statistics_"
      ],
      "execution_count": null,
      "outputs": [
        {
          "output_type": "execute_result",
          "data": {
            "text/plain": [
              "array(['TA', 'Gd', 'RL', 0, 60.0, 0.0, 'Pave', 'Pave'], dtype=object)"
            ]
          },
          "metadata": {
            "tags": []
          },
          "execution_count": 54
        }
      ]
    },
    {
      "cell_type": "code",
      "metadata": {
        "id": "5xPjRUDHKRQ-",
        "colab_type": "code",
        "colab": {
          "base_uri": "https://localhost:8080/",
          "height": 76
        },
        "outputId": "17b7e0fc-1f7f-4de2-b31e-29166d43248c"
      },
      "source": [
        "# and we can investigate the frequent values to corroborate\n",
        "# the imputer did a good job\n",
        "X_train[cols_to_use].mode()"
      ],
      "execution_count": null,
      "outputs": [
        {
          "output_type": "execute_result",
          "data": {
            "text/html": [
              "<div>\n",
              "<style scoped>\n",
              "    .dataframe tbody tr th:only-of-type {\n",
              "        vertical-align: middle;\n",
              "    }\n",
              "\n",
              "    .dataframe tbody tr th {\n",
              "        vertical-align: top;\n",
              "    }\n",
              "\n",
              "    .dataframe thead th {\n",
              "        text-align: right;\n",
              "    }\n",
              "</style>\n",
              "<table border=\"1\" class=\"dataframe\">\n",
              "  <thead>\n",
              "    <tr style=\"text-align: right;\">\n",
              "      <th></th>\n",
              "      <th>BsmtQual</th>\n",
              "      <th>FireplaceQu</th>\n",
              "      <th>MSZoning</th>\n",
              "      <th>BsmtUnfSF</th>\n",
              "      <th>LotFrontage</th>\n",
              "      <th>MasVnrArea</th>\n",
              "      <th>Street</th>\n",
              "      <th>Alley</th>\n",
              "    </tr>\n",
              "  </thead>\n",
              "  <tbody>\n",
              "    <tr>\n",
              "      <th>0</th>\n",
              "      <td>TA</td>\n",
              "      <td>Gd</td>\n",
              "      <td>RL</td>\n",
              "      <td>0</td>\n",
              "      <td>60.0</td>\n",
              "      <td>0.0</td>\n",
              "      <td>Pave</td>\n",
              "      <td>Pave</td>\n",
              "    </tr>\n",
              "  </tbody>\n",
              "</table>\n",
              "</div>"
            ],
            "text/plain": [
              "  BsmtQual FireplaceQu MSZoning  ...  MasVnrArea  Street  Alley\n",
              "0       TA          Gd       RL  ...         0.0    Pave   Pave\n",
              "\n",
              "[1 rows x 8 columns]"
            ]
          },
          "metadata": {
            "tags": []
          },
          "execution_count": 55
        }
      ]
    },
    {
      "cell_type": "code",
      "metadata": {
        "id": "wRD9HVUvKSaZ",
        "colab_type": "code",
        "colab": {
          "base_uri": "https://localhost:8080/",
          "height": 131
        },
        "outputId": "434a1926-7548-40c0-cca2-9e1fbd936756"
      },
      "source": [
        "# and now we impute the train and test set\n",
        "\n",
        "# NOTE: the data is returned as a numpy array!!!\n",
        "X_train = imputer.transform(X_train)\n",
        "X_test = imputer.transform(X_test)\n",
        "\n",
        "X_train"
      ],
      "execution_count": null,
      "outputs": [
        {
          "output_type": "execute_result",
          "data": {
            "text/plain": [
              "array([['Gd', 'Gd', 'RL', ..., 573.0, 'Pave', 'Pave'],\n",
              "       ['Gd', 'Gd', 'RL', ..., 0.0, 'Pave', 'Pave'],\n",
              "       ['TA', 'Gd', 'RL', ..., 0.0, 'Pave', 'Pave'],\n",
              "       ...,\n",
              "       ['TA', 'Gd', 'RM', ..., 0.0, 'Pave', 'Pave'],\n",
              "       ['Gd', 'TA', 'RL', ..., 18.0, 'Pave', 'Pave'],\n",
              "       ['Gd', 'Gd', 'RL', ..., 30.0, 'Pave', 'Pave']], dtype=object)"
            ]
          },
          "metadata": {
            "tags": []
          },
          "execution_count": 56
        }
      ]
    },
    {
      "cell_type": "code",
      "metadata": {
        "id": "mu-T9Z4HKT_4",
        "colab_type": "code",
        "colab": {
          "base_uri": "https://localhost:8080/",
          "height": 191
        },
        "outputId": "4e83b318-4e90-44d6-f795-199e26f2630a"
      },
      "source": [
        "# encode the train set back to a dataframe:\n",
        "\n",
        "pd.DataFrame(X_train, columns=cols_to_use).head()"
      ],
      "execution_count": null,
      "outputs": [
        {
          "output_type": "execute_result",
          "data": {
            "text/html": [
              "<div>\n",
              "<style scoped>\n",
              "    .dataframe tbody tr th:only-of-type {\n",
              "        vertical-align: middle;\n",
              "    }\n",
              "\n",
              "    .dataframe tbody tr th {\n",
              "        vertical-align: top;\n",
              "    }\n",
              "\n",
              "    .dataframe thead th {\n",
              "        text-align: right;\n",
              "    }\n",
              "</style>\n",
              "<table border=\"1\" class=\"dataframe\">\n",
              "  <thead>\n",
              "    <tr style=\"text-align: right;\">\n",
              "      <th></th>\n",
              "      <th>BsmtQual</th>\n",
              "      <th>FireplaceQu</th>\n",
              "      <th>MSZoning</th>\n",
              "      <th>BsmtUnfSF</th>\n",
              "      <th>LotFrontage</th>\n",
              "      <th>MasVnrArea</th>\n",
              "      <th>Street</th>\n",
              "      <th>Alley</th>\n",
              "    </tr>\n",
              "  </thead>\n",
              "  <tbody>\n",
              "    <tr>\n",
              "      <th>0</th>\n",
              "      <td>Gd</td>\n",
              "      <td>Gd</td>\n",
              "      <td>RL</td>\n",
              "      <td>318</td>\n",
              "      <td>60</td>\n",
              "      <td>573</td>\n",
              "      <td>Pave</td>\n",
              "      <td>Pave</td>\n",
              "    </tr>\n",
              "    <tr>\n",
              "      <th>1</th>\n",
              "      <td>Gd</td>\n",
              "      <td>Gd</td>\n",
              "      <td>RL</td>\n",
              "      <td>288</td>\n",
              "      <td>60</td>\n",
              "      <td>0</td>\n",
              "      <td>Pave</td>\n",
              "      <td>Pave</td>\n",
              "    </tr>\n",
              "    <tr>\n",
              "      <th>2</th>\n",
              "      <td>TA</td>\n",
              "      <td>Gd</td>\n",
              "      <td>RL</td>\n",
              "      <td>162</td>\n",
              "      <td>50</td>\n",
              "      <td>0</td>\n",
              "      <td>Pave</td>\n",
              "      <td>Pave</td>\n",
              "    </tr>\n",
              "    <tr>\n",
              "      <th>3</th>\n",
              "      <td>TA</td>\n",
              "      <td>Gd</td>\n",
              "      <td>RL</td>\n",
              "      <td>356</td>\n",
              "      <td>60</td>\n",
              "      <td>0</td>\n",
              "      <td>Pave</td>\n",
              "      <td>Pave</td>\n",
              "    </tr>\n",
              "    <tr>\n",
              "      <th>4</th>\n",
              "      <td>TA</td>\n",
              "      <td>Gd</td>\n",
              "      <td>RL</td>\n",
              "      <td>0</td>\n",
              "      <td>60</td>\n",
              "      <td>0</td>\n",
              "      <td>Pave</td>\n",
              "      <td>Pave</td>\n",
              "    </tr>\n",
              "  </tbody>\n",
              "</table>\n",
              "</div>"
            ],
            "text/plain": [
              "  BsmtQual FireplaceQu MSZoning BsmtUnfSF LotFrontage MasVnrArea Street Alley\n",
              "0       Gd          Gd       RL       318          60        573   Pave  Pave\n",
              "1       Gd          Gd       RL       288          60          0   Pave  Pave\n",
              "2       TA          Gd       RL       162          50          0   Pave  Pave\n",
              "3       TA          Gd       RL       356          60          0   Pave  Pave\n",
              "4       TA          Gd       RL         0          60          0   Pave  Pave"
            ]
          },
          "metadata": {
            "tags": []
          },
          "execution_count": 57
        }
      ]
    },
    {
      "cell_type": "markdown",
      "metadata": {
        "id": "7JAF-4y8KZYi",
        "colab_type": "text"
      },
      "source": [
        "### SimpleImputer: different procedures on different features"
      ]
    },
    {
      "cell_type": "code",
      "metadata": {
        "id": "sAHEP1-tKVy8",
        "colab_type": "code",
        "colab": {
          "base_uri": "https://localhost:8080/",
          "height": 33
        },
        "outputId": "96201bf4-c522-4cff-8c1e-88db00826d8f"
      },
      "source": [
        "# let's separate into training and testing set\n",
        "\n",
        "X_train, X_test, y_train, y_test = train_test_split(data[cols_to_use],\n",
        "                                                    data['SalePrice'],\n",
        "                                                    test_size=0.3,\n",
        "                                                    random_state=0)\n",
        "X_train.shape, X_test.shape"
      ],
      "execution_count": null,
      "outputs": [
        {
          "output_type": "execute_result",
          "data": {
            "text/plain": [
              "((1022, 8), (438, 8))"
            ]
          },
          "metadata": {
            "tags": []
          },
          "execution_count": 58
        }
      ]
    },
    {
      "cell_type": "code",
      "metadata": {
        "id": "XHDbfsiOKa2Y",
        "colab_type": "code",
        "colab": {
          "base_uri": "https://localhost:8080/",
          "height": 163
        },
        "outputId": "da19cf82-fc7e-46c5-fbdc-57991edcfba2"
      },
      "source": [
        "# let's look at the missing values\n",
        "X_train.isnull().mean()"
      ],
      "execution_count": null,
      "outputs": [
        {
          "output_type": "execute_result",
          "data": {
            "text/plain": [
              "BsmtQual       0.023483\n",
              "FireplaceQu    0.467710\n",
              "MSZoning       0.000000\n",
              "BsmtUnfSF      0.000000\n",
              "LotFrontage    0.184932\n",
              "MasVnrArea     0.004892\n",
              "Street         0.000000\n",
              "Alley          0.939335\n",
              "dtype: float64"
            ]
          },
          "metadata": {
            "tags": []
          },
          "execution_count": 59
        }
      ]
    },
    {
      "cell_type": "code",
      "metadata": {
        "id": "A928-UAHKcAm",
        "colab_type": "code",
        "colab": {}
      },
      "source": [
        "# first we need to make lists, indicating which features\n",
        "# will be imputed with each method\n",
        "\n",
        "features_numeric = ['BsmtUnfSF', 'LotFrontage', 'MasVnrArea', ]\n",
        "features_categoric = ['BsmtQual', 'FireplaceQu', 'MSZoning',\n",
        "                      'Street', 'Alley']\n",
        "\n",
        "# then we instantiate the imputers, within a pipeline\n",
        "# we create one mean imputer and one frequent category imputer\n",
        "# by changing the parameter in the strategy\n",
        "\n",
        "numeric_imputer = Pipeline(steps=[\n",
        "    ('imputer', SimpleImputer(strategy='mean')),\n",
        "])\n",
        "\n",
        "categoric_imputer = Pipeline(steps=[\n",
        "    ('imputer', SimpleImputer(strategy='most_frequent')),\n",
        "])\n",
        "\n",
        "# then we put the features list and the transformers together\n",
        "# using the column transformer\n",
        "\n",
        "preprocessor = ColumnTransformer(transformers=[\n",
        "    ('numeric_imputer', numeric_imputer, features_numeric),\n",
        "    ('categoric_imputer', categoric_imputer, features_categoric)\n",
        "])"
      ],
      "execution_count": null,
      "outputs": []
    },
    {
      "cell_type": "code",
      "metadata": {
        "id": "gbP8FHECKd4v",
        "colab_type": "code",
        "colab": {
          "base_uri": "https://localhost:8080/",
          "height": 440
        },
        "outputId": "3b3f07c3-c774-4712-83e0-7d10b31f605b"
      },
      "source": [
        "# now we fit the preprocessor\n",
        "preprocessor.fit(X_train)"
      ],
      "execution_count": null,
      "outputs": [
        {
          "output_type": "execute_result",
          "data": {
            "text/plain": [
              "ColumnTransformer(n_jobs=None, remainder='drop', sparse_threshold=0.3,\n",
              "                  transformer_weights=None,\n",
              "                  transformers=[('numeric_imputer',\n",
              "                                 Pipeline(memory=None,\n",
              "                                          steps=[('imputer',\n",
              "                                                  SimpleImputer(add_indicator=False,\n",
              "                                                                copy=True,\n",
              "                                                                fill_value=None,\n",
              "                                                                missing_values=nan,\n",
              "                                                                strategy='mean',\n",
              "                                                                verbose=0))],\n",
              "                                          verbose=False),\n",
              "                                 ['BsmtUnfSF', 'LotFrontage', 'MasVnrArea']),\n",
              "                                ('categoric_imputer',\n",
              "                                 Pipeline(memory=None,\n",
              "                                          steps=[('imputer',\n",
              "                                                  SimpleImputer(add_indicator=False,\n",
              "                                                                copy=True,\n",
              "                                                                fill_value=None,\n",
              "                                                                missing_values=nan,\n",
              "                                                                strategy='most_frequent',\n",
              "                                                                verbose=0))],\n",
              "                                          verbose=False),\n",
              "                                 ['BsmtQual', 'FireplaceQu', 'MSZoning',\n",
              "                                  'Street', 'Alley'])],\n",
              "                  verbose=False)"
            ]
          },
          "metadata": {
            "tags": []
          },
          "execution_count": 61
        }
      ]
    },
    {
      "cell_type": "code",
      "metadata": {
        "id": "FARRwuymKhYc",
        "colab_type": "code",
        "colab": {
          "base_uri": "https://localhost:8080/",
          "height": 277
        },
        "outputId": "f9726da9-2070-4157-aa82-4a558bb00846"
      },
      "source": [
        "# we can explore the transformers like this:\n",
        "\n",
        "preprocessor.transformers"
      ],
      "execution_count": null,
      "outputs": [
        {
          "output_type": "execute_result",
          "data": {
            "text/plain": [
              "[('numeric_imputer', Pipeline(memory=None,\n",
              "           steps=[('imputer',\n",
              "                   SimpleImputer(add_indicator=False, copy=True, fill_value=None,\n",
              "                                 missing_values=nan, strategy='mean',\n",
              "                                 verbose=0))],\n",
              "           verbose=False), ['BsmtUnfSF', 'LotFrontage', 'MasVnrArea']),\n",
              " ('categoric_imputer', Pipeline(memory=None,\n",
              "           steps=[('imputer',\n",
              "                   SimpleImputer(add_indicator=False, copy=True, fill_value=None,\n",
              "                                 missing_values=nan, strategy='most_frequent',\n",
              "                                 verbose=0))],\n",
              "           verbose=False), ['BsmtQual',\n",
              "   'FireplaceQu',\n",
              "   'MSZoning',\n",
              "   'Street',\n",
              "   'Alley'])]"
            ]
          },
          "metadata": {
            "tags": []
          },
          "execution_count": 62
        }
      ]
    },
    {
      "cell_type": "code",
      "metadata": {
        "id": "cqHfOHV6Ki5T",
        "colab_type": "code",
        "colab": {
          "base_uri": "https://localhost:8080/",
          "height": 33
        },
        "outputId": "98b3e825-a812-438d-8f7e-03b8edee6b6d"
      },
      "source": [
        "# and we can look at the parameters learnt like this:\n",
        "\n",
        "# for the mean imputer\n",
        "preprocessor.named_transformers_['numeric_imputer'].named_steps['imputer'].statistics_"
      ],
      "execution_count": null,
      "outputs": [
        {
          "output_type": "execute_result",
          "data": {
            "text/plain": [
              "array([565.99217221,  69.66866747, 103.55358899])"
            ]
          },
          "metadata": {
            "tags": []
          },
          "execution_count": 63
        }
      ]
    },
    {
      "cell_type": "code",
      "metadata": {
        "id": "NRRFGrmzKj57",
        "colab_type": "code",
        "colab": {
          "base_uri": "https://localhost:8080/",
          "height": 82
        },
        "outputId": "19c6f414-8d70-40ec-8821-ec6109221f34"
      },
      "source": [
        "# and we can corroborate the value with that one in\n",
        "# the train set\n",
        "X_train[features_numeric].mean()"
      ],
      "execution_count": null,
      "outputs": [
        {
          "output_type": "execute_result",
          "data": {
            "text/plain": [
              "BsmtUnfSF      565.992172\n",
              "LotFrontage     69.668667\n",
              "MasVnrArea     103.553589\n",
              "dtype: float64"
            ]
          },
          "metadata": {
            "tags": []
          },
          "execution_count": 64
        }
      ]
    },
    {
      "cell_type": "code",
      "metadata": {
        "id": "53lNg3MjKk7n",
        "colab_type": "code",
        "colab": {
          "base_uri": "https://localhost:8080/",
          "height": 33
        },
        "outputId": "e3c26947-d7a8-43e4-b93d-4eead34b0cf5"
      },
      "source": [
        "# for frequent category imputer\n",
        "\n",
        "preprocessor.named_transformers_['categoric_imputer'].named_steps['imputer'].statistics_"
      ],
      "execution_count": null,
      "outputs": [
        {
          "output_type": "execute_result",
          "data": {
            "text/plain": [
              "array(['TA', 'Gd', 'RL', 'Pave', 'Pave'], dtype=object)"
            ]
          },
          "metadata": {
            "tags": []
          },
          "execution_count": 65
        }
      ]
    },
    {
      "cell_type": "code",
      "metadata": {
        "id": "i6R1-xU5Kmhm",
        "colab_type": "code",
        "colab": {
          "base_uri": "https://localhost:8080/",
          "height": 76
        },
        "outputId": "b4aa322a-2135-4c40-ad29-d7d5da09a3a4"
      },
      "source": [
        "# and we corroborate those values in the train set\n",
        "\n",
        "X_train[features_categoric].mode()"
      ],
      "execution_count": null,
      "outputs": [
        {
          "output_type": "execute_result",
          "data": {
            "text/html": [
              "<div>\n",
              "<style scoped>\n",
              "    .dataframe tbody tr th:only-of-type {\n",
              "        vertical-align: middle;\n",
              "    }\n",
              "\n",
              "    .dataframe tbody tr th {\n",
              "        vertical-align: top;\n",
              "    }\n",
              "\n",
              "    .dataframe thead th {\n",
              "        text-align: right;\n",
              "    }\n",
              "</style>\n",
              "<table border=\"1\" class=\"dataframe\">\n",
              "  <thead>\n",
              "    <tr style=\"text-align: right;\">\n",
              "      <th></th>\n",
              "      <th>BsmtQual</th>\n",
              "      <th>FireplaceQu</th>\n",
              "      <th>MSZoning</th>\n",
              "      <th>Street</th>\n",
              "      <th>Alley</th>\n",
              "    </tr>\n",
              "  </thead>\n",
              "  <tbody>\n",
              "    <tr>\n",
              "      <th>0</th>\n",
              "      <td>TA</td>\n",
              "      <td>Gd</td>\n",
              "      <td>RL</td>\n",
              "      <td>Pave</td>\n",
              "      <td>Pave</td>\n",
              "    </tr>\n",
              "  </tbody>\n",
              "</table>\n",
              "</div>"
            ],
            "text/plain": [
              "  BsmtQual FireplaceQu MSZoning Street Alley\n",
              "0       TA          Gd       RL   Pave  Pave"
            ]
          },
          "metadata": {
            "tags": []
          },
          "execution_count": 66
        }
      ]
    },
    {
      "cell_type": "code",
      "metadata": {
        "id": "EDBgFMOqKnhu",
        "colab_type": "code",
        "colab": {}
      },
      "source": [
        "# and now we can impute the data\n",
        "X_train = preprocessor.transform(X_train)\n",
        "X_test = preprocessor.transform(X_test)"
      ],
      "execution_count": null,
      "outputs": []
    },
    {
      "cell_type": "code",
      "metadata": {
        "id": "ERUBU2bCKpf_",
        "colab_type": "code",
        "colab": {
          "base_uri": "https://localhost:8080/",
          "height": 33
        },
        "outputId": "44db85f7-5c15-4b69-d93e-6d70b6f25664"
      },
      "source": [
        "X_train.shape"
      ],
      "execution_count": null,
      "outputs": [
        {
          "output_type": "execute_result",
          "data": {
            "text/plain": [
              "(1022, 8)"
            ]
          },
          "metadata": {
            "tags": []
          },
          "execution_count": 68
        }
      ]
    },
    {
      "cell_type": "code",
      "metadata": {
        "id": "Dc3YewWWKqk8",
        "colab_type": "code",
        "colab": {
          "base_uri": "https://localhost:8080/",
          "height": 191
        },
        "outputId": "36b380d0-102e-4a33-90c9-d8f324e27110"
      },
      "source": [
        "# see how the result of the imputation is a 3 column dataset\n",
        "pd.DataFrame(X_train,\n",
        "             columns=features_numeric + features_categoric).head()"
      ],
      "execution_count": null,
      "outputs": [
        {
          "output_type": "execute_result",
          "data": {
            "text/html": [
              "<div>\n",
              "<style scoped>\n",
              "    .dataframe tbody tr th:only-of-type {\n",
              "        vertical-align: middle;\n",
              "    }\n",
              "\n",
              "    .dataframe tbody tr th {\n",
              "        vertical-align: top;\n",
              "    }\n",
              "\n",
              "    .dataframe thead th {\n",
              "        text-align: right;\n",
              "    }\n",
              "</style>\n",
              "<table border=\"1\" class=\"dataframe\">\n",
              "  <thead>\n",
              "    <tr style=\"text-align: right;\">\n",
              "      <th></th>\n",
              "      <th>BsmtUnfSF</th>\n",
              "      <th>LotFrontage</th>\n",
              "      <th>MasVnrArea</th>\n",
              "      <th>BsmtQual</th>\n",
              "      <th>FireplaceQu</th>\n",
              "      <th>MSZoning</th>\n",
              "      <th>Street</th>\n",
              "      <th>Alley</th>\n",
              "    </tr>\n",
              "  </thead>\n",
              "  <tbody>\n",
              "    <tr>\n",
              "      <th>0</th>\n",
              "      <td>318</td>\n",
              "      <td>69.6687</td>\n",
              "      <td>573</td>\n",
              "      <td>Gd</td>\n",
              "      <td>Gd</td>\n",
              "      <td>RL</td>\n",
              "      <td>Pave</td>\n",
              "      <td>Pave</td>\n",
              "    </tr>\n",
              "    <tr>\n",
              "      <th>1</th>\n",
              "      <td>288</td>\n",
              "      <td>69.6687</td>\n",
              "      <td>0</td>\n",
              "      <td>Gd</td>\n",
              "      <td>Gd</td>\n",
              "      <td>RL</td>\n",
              "      <td>Pave</td>\n",
              "      <td>Pave</td>\n",
              "    </tr>\n",
              "    <tr>\n",
              "      <th>2</th>\n",
              "      <td>162</td>\n",
              "      <td>50</td>\n",
              "      <td>0</td>\n",
              "      <td>TA</td>\n",
              "      <td>Gd</td>\n",
              "      <td>RL</td>\n",
              "      <td>Pave</td>\n",
              "      <td>Pave</td>\n",
              "    </tr>\n",
              "    <tr>\n",
              "      <th>3</th>\n",
              "      <td>356</td>\n",
              "      <td>60</td>\n",
              "      <td>0</td>\n",
              "      <td>TA</td>\n",
              "      <td>Gd</td>\n",
              "      <td>RL</td>\n",
              "      <td>Pave</td>\n",
              "      <td>Pave</td>\n",
              "    </tr>\n",
              "    <tr>\n",
              "      <th>4</th>\n",
              "      <td>0</td>\n",
              "      <td>60</td>\n",
              "      <td>0</td>\n",
              "      <td>TA</td>\n",
              "      <td>Gd</td>\n",
              "      <td>RL</td>\n",
              "      <td>Pave</td>\n",
              "      <td>Pave</td>\n",
              "    </tr>\n",
              "  </tbody>\n",
              "</table>\n",
              "</div>"
            ],
            "text/plain": [
              "  BsmtUnfSF LotFrontage MasVnrArea BsmtQual FireplaceQu MSZoning Street Alley\n",
              "0       318     69.6687        573       Gd          Gd       RL   Pave  Pave\n",
              "1       288     69.6687          0       Gd          Gd       RL   Pave  Pave\n",
              "2       162          50          0       TA          Gd       RL   Pave  Pave\n",
              "3       356          60          0       TA          Gd       RL   Pave  Pave\n",
              "4         0          60          0       TA          Gd       RL   Pave  Pave"
            ]
          },
          "metadata": {
            "tags": []
          },
          "execution_count": 69
        }
      ]
    },
    {
      "cell_type": "markdown",
      "metadata": {
        "id": "s3vOkCGlKuuC",
        "colab_type": "text"
      },
      "source": [
        "In this case, we passed all the features available in the dataset to the missing data imputers, so the returned dataset contains all the variables."
      ]
    },
    {
      "cell_type": "markdown",
      "metadata": {
        "id": "jiTTo7iXLlF3",
        "colab_type": "text"
      },
      "source": [
        "## Missing Category imputation with Scikit-learn: SimpleImputer"
      ]
    },
    {
      "cell_type": "code",
      "metadata": {
        "id": "MRENhTMQKsAV",
        "colab_type": "code",
        "colab": {
          "base_uri": "https://localhost:8080/",
          "height": 191
        },
        "outputId": "c57167c4-8e68-4ce2-9ab4-7e7505c9f18c"
      },
      "source": [
        "# let's load the dataset with a few categorical columns\n",
        "\n",
        "# these are categorical columns and the target SalePrice\n",
        "cols_to_use = ['BsmtQual', 'FireplaceQu', 'SalePrice']\n",
        "\n",
        "data = pd.read_csv('houseprice.csv', usecols=cols_to_use)\n",
        "data.head()"
      ],
      "execution_count": null,
      "outputs": [
        {
          "output_type": "execute_result",
          "data": {
            "text/html": [
              "<div>\n",
              "<style scoped>\n",
              "    .dataframe tbody tr th:only-of-type {\n",
              "        vertical-align: middle;\n",
              "    }\n",
              "\n",
              "    .dataframe tbody tr th {\n",
              "        vertical-align: top;\n",
              "    }\n",
              "\n",
              "    .dataframe thead th {\n",
              "        text-align: right;\n",
              "    }\n",
              "</style>\n",
              "<table border=\"1\" class=\"dataframe\">\n",
              "  <thead>\n",
              "    <tr style=\"text-align: right;\">\n",
              "      <th></th>\n",
              "      <th>BsmtQual</th>\n",
              "      <th>FireplaceQu</th>\n",
              "      <th>SalePrice</th>\n",
              "    </tr>\n",
              "  </thead>\n",
              "  <tbody>\n",
              "    <tr>\n",
              "      <th>0</th>\n",
              "      <td>Gd</td>\n",
              "      <td>NaN</td>\n",
              "      <td>208500</td>\n",
              "    </tr>\n",
              "    <tr>\n",
              "      <th>1</th>\n",
              "      <td>Gd</td>\n",
              "      <td>TA</td>\n",
              "      <td>181500</td>\n",
              "    </tr>\n",
              "    <tr>\n",
              "      <th>2</th>\n",
              "      <td>Gd</td>\n",
              "      <td>TA</td>\n",
              "      <td>223500</td>\n",
              "    </tr>\n",
              "    <tr>\n",
              "      <th>3</th>\n",
              "      <td>TA</td>\n",
              "      <td>Gd</td>\n",
              "      <td>140000</td>\n",
              "    </tr>\n",
              "    <tr>\n",
              "      <th>4</th>\n",
              "      <td>Gd</td>\n",
              "      <td>TA</td>\n",
              "      <td>250000</td>\n",
              "    </tr>\n",
              "  </tbody>\n",
              "</table>\n",
              "</div>"
            ],
            "text/plain": [
              "  BsmtQual FireplaceQu  SalePrice\n",
              "0       Gd         NaN     208500\n",
              "1       Gd          TA     181500\n",
              "2       Gd          TA     223500\n",
              "3       TA          Gd     140000\n",
              "4       Gd          TA     250000"
            ]
          },
          "metadata": {
            "tags": []
          },
          "execution_count": 70
        }
      ]
    },
    {
      "cell_type": "code",
      "metadata": {
        "id": "KsaaXUI3LvpD",
        "colab_type": "code",
        "colab": {
          "base_uri": "https://localhost:8080/",
          "height": 82
        },
        "outputId": "09a73192-4f21-4afd-bed0-c786bc828a12"
      },
      "source": [
        "# let's inspect the percentage of missing values in each variable\n",
        "\n",
        "data.isnull().mean()"
      ],
      "execution_count": null,
      "outputs": [
        {
          "output_type": "execute_result",
          "data": {
            "text/plain": [
              "BsmtQual       0.025342\n",
              "FireplaceQu    0.472603\n",
              "SalePrice      0.000000\n",
              "dtype: float64"
            ]
          },
          "metadata": {
            "tags": []
          },
          "execution_count": 71
        }
      ]
    },
    {
      "cell_type": "code",
      "metadata": {
        "id": "E2cHPzQ7MDbX",
        "colab_type": "code",
        "colab": {
          "base_uri": "https://localhost:8080/",
          "height": 33
        },
        "outputId": "9136b9bd-1a3e-4a27-e128-40cf01acda7e"
      },
      "source": [
        "# let's separate into training and testing set\n",
        "\n",
        "# first let's remove the target from the features\n",
        "cols_to_use.remove('SalePrice')\n",
        "\n",
        "X_train, X_test, y_train, y_test = train_test_split(\n",
        "    data[cols_to_use],  # just the features\n",
        "    data['SalePrice'],  # the target\n",
        "    test_size=0.3,  # the percentage of obs in the test set\n",
        "    random_state=0)  # for reproducibility\n",
        "\n",
        "X_train.shape, X_test.shape"
      ],
      "execution_count": null,
      "outputs": [
        {
          "output_type": "execute_result",
          "data": {
            "text/plain": [
              "((1022, 2), (438, 2))"
            ]
          },
          "metadata": {
            "tags": []
          },
          "execution_count": 72
        }
      ]
    },
    {
      "cell_type": "code",
      "metadata": {
        "id": "xTDGhIU6MFux",
        "colab_type": "code",
        "colab": {
          "base_uri": "https://localhost:8080/",
          "height": 66
        },
        "outputId": "63e01700-39e3-4c5a-e3aa-3b8ffd0f4035"
      },
      "source": [
        "# let's check the misssing data again\n",
        "X_train.isnull().mean()"
      ],
      "execution_count": null,
      "outputs": [
        {
          "output_type": "execute_result",
          "data": {
            "text/plain": [
              "BsmtQual       0.023483\n",
              "FireplaceQu    0.467710\n",
              "dtype: float64"
            ]
          },
          "metadata": {
            "tags": []
          },
          "execution_count": 73
        }
      ]
    },
    {
      "cell_type": "code",
      "metadata": {
        "id": "kI_X4lhEMIDK",
        "colab_type": "code",
        "colab": {
          "base_uri": "https://localhost:8080/",
          "height": 33
        },
        "outputId": "136412b1-c443-41b2-979b-849204a6826a"
      },
      "source": [
        "# let's inspect the values of the categorical variable\n",
        "X_train['BsmtQual'].unique()"
      ],
      "execution_count": null,
      "outputs": [
        {
          "output_type": "execute_result",
          "data": {
            "text/plain": [
              "array(['Gd', 'TA', 'Fa', nan, 'Ex'], dtype=object)"
            ]
          },
          "metadata": {
            "tags": []
          },
          "execution_count": 74
        }
      ]
    },
    {
      "cell_type": "code",
      "metadata": {
        "id": "q9A60d7FMJby",
        "colab_type": "code",
        "colab": {
          "base_uri": "https://localhost:8080/",
          "height": 33
        },
        "outputId": "ca3148e5-f84d-4010-b458-0758cd4b694e"
      },
      "source": [
        "# let's inspect the values of the categorical variable\n",
        "X_train['FireplaceQu'].unique()"
      ],
      "execution_count": null,
      "outputs": [
        {
          "output_type": "execute_result",
          "data": {
            "text/plain": [
              "array([nan, 'Gd', 'TA', 'Fa', 'Po', 'Ex'], dtype=object)"
            ]
          },
          "metadata": {
            "tags": []
          },
          "execution_count": 75
        }
      ]
    },
    {
      "cell_type": "code",
      "metadata": {
        "id": "tuErQx9HMKva",
        "colab_type": "code",
        "colab": {
          "base_uri": "https://localhost:8080/",
          "height": 50
        },
        "outputId": "ea8eb2fb-329f-4c85-a614-acbc04f8e06c"
      },
      "source": [
        "# Now we impute the missing values with SimpleImputer\n",
        "\n",
        "# create an instance of the simple imputer\n",
        "# we indicate that we want to impute by replacing NA\n",
        "# with 'Missing'\n",
        "\n",
        "imputer = SimpleImputer(strategy='constant', \n",
        "                       fill_value = 'Missing')\n",
        "\n",
        "# we fit the imputer to the train set\n",
        "# the imputer will learn the median of all variables\n",
        "imputer.fit(X_train)"
      ],
      "execution_count": null,
      "outputs": [
        {
          "output_type": "execute_result",
          "data": {
            "text/plain": [
              "SimpleImputer(add_indicator=False, copy=True, fill_value='Missing',\n",
              "              missing_values=nan, strategy='constant', verbose=0)"
            ]
          },
          "metadata": {
            "tags": []
          },
          "execution_count": 76
        }
      ]
    },
    {
      "cell_type": "code",
      "metadata": {
        "id": "P-B3rHmXMSam",
        "colab_type": "code",
        "colab": {
          "base_uri": "https://localhost:8080/",
          "height": 33
        },
        "outputId": "cbf79c1d-ad5a-4f21-deb4-090ababab8d3"
      },
      "source": [
        "# we can look at the learnt modes like this:\n",
        "imputer.statistics_"
      ],
      "execution_count": null,
      "outputs": [
        {
          "output_type": "execute_result",
          "data": {
            "text/plain": [
              "array(['Missing', 'Missing'], dtype=object)"
            ]
          },
          "metadata": {
            "tags": []
          },
          "execution_count": 77
        }
      ]
    },
    {
      "cell_type": "code",
      "metadata": {
        "id": "qeDLz_fWMbaZ",
        "colab_type": "code",
        "colab": {
          "base_uri": "https://localhost:8080/",
          "height": 131
        },
        "outputId": "8e411838-3cd3-4e15-c002-8674fcc24079"
      },
      "source": [
        "# and now we impute the train and test set\n",
        "\n",
        "# NOTE: the data is returned as a numpy array!!!\n",
        "X_train = imputer.transform(X_train)\n",
        "X_test = imputer.transform(X_test)\n",
        "\n",
        "X_train"
      ],
      "execution_count": null,
      "outputs": [
        {
          "output_type": "execute_result",
          "data": {
            "text/plain": [
              "array([['Gd', 'Missing'],\n",
              "       ['Gd', 'Gd'],\n",
              "       ['TA', 'Missing'],\n",
              "       ...,\n",
              "       ['Missing', 'Missing'],\n",
              "       ['Gd', 'TA'],\n",
              "       ['Gd', 'Missing']], dtype=object)"
            ]
          },
          "metadata": {
            "tags": []
          },
          "execution_count": 78
        }
      ]
    },
    {
      "cell_type": "code",
      "metadata": {
        "id": "UKP_E4ihMcnS",
        "colab_type": "code",
        "colab": {
          "base_uri": "https://localhost:8080/",
          "height": 191
        },
        "outputId": "febc3407-90d0-4f95-d6c6-56d96f279efd"
      },
      "source": [
        "# encode the train set back to a dataframe:\n",
        "\n",
        "X_train = pd.DataFrame(X_train, columns=cols_to_use)\n",
        "X_train.head()"
      ],
      "execution_count": null,
      "outputs": [
        {
          "output_type": "execute_result",
          "data": {
            "text/html": [
              "<div>\n",
              "<style scoped>\n",
              "    .dataframe tbody tr th:only-of-type {\n",
              "        vertical-align: middle;\n",
              "    }\n",
              "\n",
              "    .dataframe tbody tr th {\n",
              "        vertical-align: top;\n",
              "    }\n",
              "\n",
              "    .dataframe thead th {\n",
              "        text-align: right;\n",
              "    }\n",
              "</style>\n",
              "<table border=\"1\" class=\"dataframe\">\n",
              "  <thead>\n",
              "    <tr style=\"text-align: right;\">\n",
              "      <th></th>\n",
              "      <th>BsmtQual</th>\n",
              "      <th>FireplaceQu</th>\n",
              "    </tr>\n",
              "  </thead>\n",
              "  <tbody>\n",
              "    <tr>\n",
              "      <th>0</th>\n",
              "      <td>Gd</td>\n",
              "      <td>Missing</td>\n",
              "    </tr>\n",
              "    <tr>\n",
              "      <th>1</th>\n",
              "      <td>Gd</td>\n",
              "      <td>Gd</td>\n",
              "    </tr>\n",
              "    <tr>\n",
              "      <th>2</th>\n",
              "      <td>TA</td>\n",
              "      <td>Missing</td>\n",
              "    </tr>\n",
              "    <tr>\n",
              "      <th>3</th>\n",
              "      <td>TA</td>\n",
              "      <td>Missing</td>\n",
              "    </tr>\n",
              "    <tr>\n",
              "      <th>4</th>\n",
              "      <td>TA</td>\n",
              "      <td>Missing</td>\n",
              "    </tr>\n",
              "  </tbody>\n",
              "</table>\n",
              "</div>"
            ],
            "text/plain": [
              "  BsmtQual FireplaceQu\n",
              "0       Gd     Missing\n",
              "1       Gd          Gd\n",
              "2       TA     Missing\n",
              "3       TA     Missing\n",
              "4       TA     Missing"
            ]
          },
          "metadata": {
            "tags": []
          },
          "execution_count": 79
        }
      ]
    },
    {
      "cell_type": "code",
      "metadata": {
        "id": "WQJLtr3tNHl9",
        "colab_type": "code",
        "colab": {
          "base_uri": "https://localhost:8080/",
          "height": 33
        },
        "outputId": "81c05f8a-e88f-41f6-e2a9-32118f1e5b30"
      },
      "source": [
        "X_train['BsmtQual'].unique()"
      ],
      "execution_count": null,
      "outputs": [
        {
          "output_type": "execute_result",
          "data": {
            "text/plain": [
              "array(['Gd', 'TA', 'Fa', 'Missing', 'Ex'], dtype=object)"
            ]
          },
          "metadata": {
            "tags": []
          },
          "execution_count": 80
        }
      ]
    },
    {
      "cell_type": "code",
      "metadata": {
        "id": "09Xws19mNKG7",
        "colab_type": "code",
        "colab": {
          "base_uri": "https://localhost:8080/",
          "height": 66
        },
        "outputId": "15b1eeb2-5a7d-4765-8bf4-b8c02733affb"
      },
      "source": [
        "X_train.isnull().mean()"
      ],
      "execution_count": null,
      "outputs": [
        {
          "output_type": "execute_result",
          "data": {
            "text/plain": [
              "BsmtQual       0.0\n",
              "FireplaceQu    0.0\n",
              "dtype: float64"
            ]
          },
          "metadata": {
            "tags": []
          },
          "execution_count": 81
        }
      ]
    },
    {
      "cell_type": "markdown",
      "metadata": {
        "id": "3NjHBIqeNqdq",
        "colab_type": "text"
      },
      "source": [
        "Note that when using SimpleImputer and setting the parameters to:\n",
        "- strategy='constant'\n",
        "- fill_value = 'Missing'\n",
        "\n",
        "If your dataframe contains variables that are numerical and categorical, NA in both will be replaced by 'Missing\" therefore converting your numerical variables into categorical, which is probably not what you are after.\n",
        "\n",
        "Most datasets contain both numerical and categorical variables, so very likely you will have to use a column transformer as shown in previous notebooks and as I also show below again."
      ]
    },
    {
      "cell_type": "code",
      "metadata": {
        "id": "Q6z1_z8INLkl",
        "colab_type": "code",
        "colab": {
          "base_uri": "https://localhost:8080/",
          "height": 191
        },
        "outputId": "15d2dd98-3548-4d9b-b6ee-201bb6948a3c"
      },
      "source": [
        "# let's load the dataset with both numerical and categorical variables\n",
        "\n",
        "cols_to_use = [\n",
        "    'BsmtQual', 'FireplaceQu', 'LotFrontage', 'MasVnrArea', 'GarageYrBlt',\n",
        "    'SalePrice'\n",
        "]\n",
        "\n",
        "data = pd.read_csv('houseprice.csv', usecols=cols_to_use)\n",
        "data.head()"
      ],
      "execution_count": null,
      "outputs": [
        {
          "output_type": "execute_result",
          "data": {
            "text/html": [
              "<div>\n",
              "<style scoped>\n",
              "    .dataframe tbody tr th:only-of-type {\n",
              "        vertical-align: middle;\n",
              "    }\n",
              "\n",
              "    .dataframe tbody tr th {\n",
              "        vertical-align: top;\n",
              "    }\n",
              "\n",
              "    .dataframe thead th {\n",
              "        text-align: right;\n",
              "    }\n",
              "</style>\n",
              "<table border=\"1\" class=\"dataframe\">\n",
              "  <thead>\n",
              "    <tr style=\"text-align: right;\">\n",
              "      <th></th>\n",
              "      <th>LotFrontage</th>\n",
              "      <th>MasVnrArea</th>\n",
              "      <th>BsmtQual</th>\n",
              "      <th>FireplaceQu</th>\n",
              "      <th>GarageYrBlt</th>\n",
              "      <th>SalePrice</th>\n",
              "    </tr>\n",
              "  </thead>\n",
              "  <tbody>\n",
              "    <tr>\n",
              "      <th>0</th>\n",
              "      <td>65.0</td>\n",
              "      <td>196.0</td>\n",
              "      <td>Gd</td>\n",
              "      <td>NaN</td>\n",
              "      <td>2003.0</td>\n",
              "      <td>208500</td>\n",
              "    </tr>\n",
              "    <tr>\n",
              "      <th>1</th>\n",
              "      <td>80.0</td>\n",
              "      <td>0.0</td>\n",
              "      <td>Gd</td>\n",
              "      <td>TA</td>\n",
              "      <td>1976.0</td>\n",
              "      <td>181500</td>\n",
              "    </tr>\n",
              "    <tr>\n",
              "      <th>2</th>\n",
              "      <td>68.0</td>\n",
              "      <td>162.0</td>\n",
              "      <td>Gd</td>\n",
              "      <td>TA</td>\n",
              "      <td>2001.0</td>\n",
              "      <td>223500</td>\n",
              "    </tr>\n",
              "    <tr>\n",
              "      <th>3</th>\n",
              "      <td>60.0</td>\n",
              "      <td>0.0</td>\n",
              "      <td>TA</td>\n",
              "      <td>Gd</td>\n",
              "      <td>1998.0</td>\n",
              "      <td>140000</td>\n",
              "    </tr>\n",
              "    <tr>\n",
              "      <th>4</th>\n",
              "      <td>84.0</td>\n",
              "      <td>350.0</td>\n",
              "      <td>Gd</td>\n",
              "      <td>TA</td>\n",
              "      <td>2000.0</td>\n",
              "      <td>250000</td>\n",
              "    </tr>\n",
              "  </tbody>\n",
              "</table>\n",
              "</div>"
            ],
            "text/plain": [
              "   LotFrontage  MasVnrArea BsmtQual FireplaceQu  GarageYrBlt  SalePrice\n",
              "0         65.0       196.0       Gd         NaN       2003.0     208500\n",
              "1         80.0         0.0       Gd          TA       1976.0     181500\n",
              "2         68.0       162.0       Gd          TA       2001.0     223500\n",
              "3         60.0         0.0       TA          Gd       1998.0     140000\n",
              "4         84.0       350.0       Gd          TA       2000.0     250000"
            ]
          },
          "metadata": {
            "tags": []
          },
          "execution_count": 82
        }
      ]
    },
    {
      "cell_type": "code",
      "metadata": {
        "id": "PI8VlnGvNwVq",
        "colab_type": "code",
        "colab": {
          "base_uri": "https://localhost:8080/",
          "height": 33
        },
        "outputId": "c078bfb8-1577-4874-8429-7a2e61dccee2"
      },
      "source": [
        "# let's separate into training and testing set\n",
        "\n",
        "# first drop the target from the feature list\n",
        "cols_to_use.remove('SalePrice')\n",
        "\n",
        "X_train, X_test, y_train, y_test = train_test_split(data[cols_to_use],\n",
        "                                                    data['SalePrice'],\n",
        "                                                    test_size=0.3,\n",
        "                                                    random_state=0)\n",
        "X_train.shape, X_test.shape"
      ],
      "execution_count": null,
      "outputs": [
        {
          "output_type": "execute_result",
          "data": {
            "text/plain": [
              "((1022, 5), (438, 5))"
            ]
          },
          "metadata": {
            "tags": []
          },
          "execution_count": 83
        }
      ]
    },
    {
      "cell_type": "code",
      "metadata": {
        "id": "7e0LLDQYNyhX",
        "colab_type": "code",
        "colab": {
          "base_uri": "https://localhost:8080/",
          "height": 115
        },
        "outputId": "6dda794d-2438-4287-f22c-417becf3e716"
      },
      "source": [
        "# let's look at the missing values\n",
        "\n",
        "X_train.isnull().mean()"
      ],
      "execution_count": null,
      "outputs": [
        {
          "output_type": "execute_result",
          "data": {
            "text/plain": [
              "BsmtQual       0.023483\n",
              "FireplaceQu    0.467710\n",
              "LotFrontage    0.184932\n",
              "MasVnrArea     0.004892\n",
              "GarageYrBlt    0.052838\n",
              "dtype: float64"
            ]
          },
          "metadata": {
            "tags": []
          },
          "execution_count": 84
        }
      ]
    },
    {
      "cell_type": "code",
      "metadata": {
        "id": "m31UQxzWN0PC",
        "colab_type": "code",
        "colab": {}
      },
      "source": [
        "# first we need to make lists, indicating which features\n",
        "# will be imputed with each method\n",
        "\n",
        "features_numeric = ['LotFrontage', 'MasVnrArea', 'GarageYrBlt']\n",
        "features_categoric = ['BsmtQual', 'FireplaceQu']\n",
        "\n",
        "# then we instantiate the imputers, within a pipeline\n",
        "# we create one imputer for numerical and one imputer\n",
        "# for categorical\n",
        "\n",
        "imputer_numeric = Pipeline(steps=[\n",
        "    ('imputer', SimpleImputer(strategy='mean')),\n",
        "])\n",
        "\n",
        "imputer_categoric = Pipeline(\n",
        "    steps=[('imputer',\n",
        "            SimpleImputer(strategy='constant', fill_value='Missing'))])\n",
        "\n",
        "# then we put the features list and the transformers together\n",
        "# using the column transformer\n",
        "\n",
        "preprocessor = ColumnTransformer(transformers=[('imputer_numeric',\n",
        "                                                imputer_numeric,\n",
        "                                                features_numeric),\n",
        "                                               ('imputer_categoric',\n",
        "                                                imputer_categoric,\n",
        "                                                features_categoric)])"
      ],
      "execution_count": null,
      "outputs": []
    },
    {
      "cell_type": "code",
      "metadata": {
        "id": "sTHkyik0N1dW",
        "colab_type": "code",
        "colab": {
          "base_uri": "https://localhost:8080/",
          "height": 423
        },
        "outputId": "239470d3-8f2e-4874-c6c1-a5bf7a1dcec5"
      },
      "source": [
        "# now we fit the preprocessor\n",
        "preprocessor.fit(X_train)"
      ],
      "execution_count": null,
      "outputs": [
        {
          "output_type": "execute_result",
          "data": {
            "text/plain": [
              "ColumnTransformer(n_jobs=None, remainder='drop', sparse_threshold=0.3,\n",
              "                  transformer_weights=None,\n",
              "                  transformers=[('imputer_numeric',\n",
              "                                 Pipeline(memory=None,\n",
              "                                          steps=[('imputer',\n",
              "                                                  SimpleImputer(add_indicator=False,\n",
              "                                                                copy=True,\n",
              "                                                                fill_value=None,\n",
              "                                                                missing_values=nan,\n",
              "                                                                strategy='mean',\n",
              "                                                                verbose=0))],\n",
              "                                          verbose=False),\n",
              "                                 ['LotFrontage', 'MasVnrArea', 'GarageYrBlt']),\n",
              "                                ('imputer_categoric',\n",
              "                                 Pipeline(memory=None,\n",
              "                                          steps=[('imputer',\n",
              "                                                  SimpleImputer(add_indicator=False,\n",
              "                                                                copy=True,\n",
              "                                                                fill_value='Missing',\n",
              "                                                                missing_values=nan,\n",
              "                                                                strategy='constant',\n",
              "                                                                verbose=0))],\n",
              "                                          verbose=False),\n",
              "                                 ['BsmtQual', 'FireplaceQu'])],\n",
              "                  verbose=False)"
            ]
          },
          "metadata": {
            "tags": []
          },
          "execution_count": 86
        }
      ]
    },
    {
      "cell_type": "code",
      "metadata": {
        "id": "qBQBZjDFN8dC",
        "colab_type": "code",
        "colab": {
          "base_uri": "https://localhost:8080/",
          "height": 212
        },
        "outputId": "1529677b-27da-4f74-a93b-4e873ec87b85"
      },
      "source": [
        "# we can explore the transformers like this:\n",
        "preprocessor.transformers"
      ],
      "execution_count": null,
      "outputs": [
        {
          "output_type": "execute_result",
          "data": {
            "text/plain": [
              "[('imputer_numeric', Pipeline(memory=None,\n",
              "           steps=[('imputer',\n",
              "                   SimpleImputer(add_indicator=False, copy=True, fill_value=None,\n",
              "                                 missing_values=nan, strategy='mean',\n",
              "                                 verbose=0))],\n",
              "           verbose=False), ['LotFrontage', 'MasVnrArea', 'GarageYrBlt']),\n",
              " ('imputer_categoric', Pipeline(memory=None,\n",
              "           steps=[('imputer',\n",
              "                   SimpleImputer(add_indicator=False, copy=True,\n",
              "                                 fill_value='Missing', missing_values=nan,\n",
              "                                 strategy='constant', verbose=0))],\n",
              "           verbose=False), ['BsmtQual', 'FireplaceQu'])]"
            ]
          },
          "metadata": {
            "tags": []
          },
          "execution_count": 87
        }
      ]
    },
    {
      "cell_type": "code",
      "metadata": {
        "id": "Geqbrol6N-Ew",
        "colab_type": "code",
        "colab": {
          "base_uri": "https://localhost:8080/",
          "height": 33
        },
        "outputId": "1f4d8987-5d80-44bb-9520-6e303c3d4933"
      },
      "source": [
        "# and we can look at the parameters learnt like this:\n",
        "\n",
        "# for the numerical imputer\n",
        "preprocessor.named_transformers_['imputer_numeric'].named_steps['imputer'].statistics_"
      ],
      "execution_count": null,
      "outputs": [
        {
          "output_type": "execute_result",
          "data": {
            "text/plain": [
              "array([  69.66866747,  103.55358899, 1978.01239669])"
            ]
          },
          "metadata": {
            "tags": []
          },
          "execution_count": 88
        }
      ]
    },
    {
      "cell_type": "code",
      "metadata": {
        "id": "1_f9MhfgN_yG",
        "colab_type": "code",
        "colab": {
          "base_uri": "https://localhost:8080/",
          "height": 33
        },
        "outputId": "972e5c2f-687d-4a0e-85c5-969e4384239d"
      },
      "source": [
        "# for the categorical imputer\n",
        "preprocessor.named_transformers_['imputer_categoric'].named_steps['imputer'].statistics_"
      ],
      "execution_count": null,
      "outputs": [
        {
          "output_type": "execute_result",
          "data": {
            "text/plain": [
              "array(['Missing', 'Missing'], dtype=object)"
            ]
          },
          "metadata": {
            "tags": []
          },
          "execution_count": 89
        }
      ]
    },
    {
      "cell_type": "code",
      "metadata": {
        "id": "N-rKTWDaOGgA",
        "colab_type": "code",
        "colab": {}
      },
      "source": [
        "# and now we can impute the data\n",
        "# remember it returs a numpy array\n",
        "\n",
        "X_train = preprocessor.transform(X_train)\n",
        "X_test = preprocessor.transform(X_test)"
      ],
      "execution_count": null,
      "outputs": []
    },
    {
      "cell_type": "code",
      "metadata": {
        "id": "QoVCBYzFOH-O",
        "colab_type": "code",
        "colab": {
          "base_uri": "https://localhost:8080/",
          "height": 191
        },
        "outputId": "690f39ea-3f0c-4893-b3be-80b0f2de6c24"
      },
      "source": [
        "# now we convert the result into a dataframe\n",
        "pd.DataFrame(X_train,\n",
        "             columns=features_numeric+features_categoric).head()"
      ],
      "execution_count": null,
      "outputs": [
        {
          "output_type": "execute_result",
          "data": {
            "text/html": [
              "<div>\n",
              "<style scoped>\n",
              "    .dataframe tbody tr th:only-of-type {\n",
              "        vertical-align: middle;\n",
              "    }\n",
              "\n",
              "    .dataframe tbody tr th {\n",
              "        vertical-align: top;\n",
              "    }\n",
              "\n",
              "    .dataframe thead th {\n",
              "        text-align: right;\n",
              "    }\n",
              "</style>\n",
              "<table border=\"1\" class=\"dataframe\">\n",
              "  <thead>\n",
              "    <tr style=\"text-align: right;\">\n",
              "      <th></th>\n",
              "      <th>LotFrontage</th>\n",
              "      <th>MasVnrArea</th>\n",
              "      <th>GarageYrBlt</th>\n",
              "      <th>BsmtQual</th>\n",
              "      <th>FireplaceQu</th>\n",
              "    </tr>\n",
              "  </thead>\n",
              "  <tbody>\n",
              "    <tr>\n",
              "      <th>0</th>\n",
              "      <td>69.6687</td>\n",
              "      <td>573</td>\n",
              "      <td>1998</td>\n",
              "      <td>Gd</td>\n",
              "      <td>Missing</td>\n",
              "    </tr>\n",
              "    <tr>\n",
              "      <th>1</th>\n",
              "      <td>69.6687</td>\n",
              "      <td>0</td>\n",
              "      <td>1996</td>\n",
              "      <td>Gd</td>\n",
              "      <td>Gd</td>\n",
              "    </tr>\n",
              "    <tr>\n",
              "      <th>2</th>\n",
              "      <td>50</td>\n",
              "      <td>0</td>\n",
              "      <td>1978.01</td>\n",
              "      <td>TA</td>\n",
              "      <td>Missing</td>\n",
              "    </tr>\n",
              "    <tr>\n",
              "      <th>3</th>\n",
              "      <td>60</td>\n",
              "      <td>0</td>\n",
              "      <td>1939</td>\n",
              "      <td>TA</td>\n",
              "      <td>Missing</td>\n",
              "    </tr>\n",
              "    <tr>\n",
              "      <th>4</th>\n",
              "      <td>60</td>\n",
              "      <td>0</td>\n",
              "      <td>1930</td>\n",
              "      <td>TA</td>\n",
              "      <td>Missing</td>\n",
              "    </tr>\n",
              "  </tbody>\n",
              "</table>\n",
              "</div>"
            ],
            "text/plain": [
              "  LotFrontage MasVnrArea GarageYrBlt BsmtQual FireplaceQu\n",
              "0     69.6687        573        1998       Gd     Missing\n",
              "1     69.6687          0        1996       Gd          Gd\n",
              "2          50          0     1978.01       TA     Missing\n",
              "3          60          0        1939       TA     Missing\n",
              "4          60          0        1930       TA     Missing"
            ]
          },
          "metadata": {
            "tags": []
          },
          "execution_count": 91
        }
      ]
    },
    {
      "cell_type": "code",
      "metadata": {
        "id": "7I1jhMqIOKsu",
        "colab_type": "code",
        "colab": {
          "base_uri": "https://localhost:8080/",
          "height": 115
        },
        "outputId": "02ca380a-ee3a-452d-cc19-e98a8dab33d3"
      },
      "source": [
        "# now we convert the result into a dataframe\n",
        "# and explore the missing values\n",
        "# there should be none\n",
        "\n",
        "X_train = pd.DataFrame(X_train,\n",
        "             columns=features_numeric+features_categoric)\n",
        "\n",
        "X_train.isnull().mean()"
      ],
      "execution_count": null,
      "outputs": [
        {
          "output_type": "execute_result",
          "data": {
            "text/plain": [
              "LotFrontage    0.0\n",
              "MasVnrArea     0.0\n",
              "GarageYrBlt    0.0\n",
              "BsmtQual       0.0\n",
              "FireplaceQu    0.0\n",
              "dtype: float64"
            ]
          },
          "metadata": {
            "tags": []
          },
          "execution_count": 92
        }
      ]
    },
    {
      "cell_type": "markdown",
      "metadata": {
        "id": "rC45r7ReOacO",
        "colab_type": "text"
      },
      "source": [
        "## Adding a Missing Indicator variable with Scikit-learn ==> MissingIndicator\n"
      ]
    },
    {
      "cell_type": "code",
      "metadata": {
        "id": "iLFTx5vBOM0Z",
        "colab_type": "code",
        "colab": {}
      },
      "source": [
        "from sklearn.impute import SimpleImputer, MissingIndicator"
      ],
      "execution_count": null,
      "outputs": []
    },
    {
      "cell_type": "code",
      "metadata": {
        "id": "1vdsj5UQOgvn",
        "colab_type": "code",
        "colab": {
          "base_uri": "https://localhost:8080/"
        },
        "outputId": "535a48fe-d0bc-4857-982c-0d203d74dc9d"
      },
      "source": [
        "# we use only the following variables for the demo:\n",
        "# a mix of categorical and numerical\n",
        "\n",
        "cols_to_use = ['BsmtQual', 'FireplaceQu', 'MSZoning',\n",
        "               'BsmtUnfSF', 'LotFrontage', 'MasVnrArea',\n",
        "               'Street', 'Alley', 'SalePrice']\n",
        "\n",
        "\n",
        "# let's load the House Prices dataset\n",
        "\n",
        "data = pd.read_csv('houseprice.csv', usecols=cols_to_use)\n",
        "print(data.shape)\n",
        "data.head()"
      ],
      "execution_count": null,
      "outputs": [
        {
          "output_type": "stream",
          "text": [
            "(1460, 9)\n"
          ],
          "name": "stdout"
        },
        {
          "output_type": "execute_result",
          "data": {
            "text/html": [
              "<div>\n",
              "<style scoped>\n",
              "    .dataframe tbody tr th:only-of-type {\n",
              "        vertical-align: middle;\n",
              "    }\n",
              "\n",
              "    .dataframe tbody tr th {\n",
              "        vertical-align: top;\n",
              "    }\n",
              "\n",
              "    .dataframe thead th {\n",
              "        text-align: right;\n",
              "    }\n",
              "</style>\n",
              "<table border=\"1\" class=\"dataframe\">\n",
              "  <thead>\n",
              "    <tr style=\"text-align: right;\">\n",
              "      <th></th>\n",
              "      <th>MSZoning</th>\n",
              "      <th>LotFrontage</th>\n",
              "      <th>Street</th>\n",
              "      <th>Alley</th>\n",
              "      <th>MasVnrArea</th>\n",
              "      <th>BsmtQual</th>\n",
              "      <th>BsmtUnfSF</th>\n",
              "      <th>FireplaceQu</th>\n",
              "      <th>SalePrice</th>\n",
              "    </tr>\n",
              "  </thead>\n",
              "  <tbody>\n",
              "    <tr>\n",
              "      <th>0</th>\n",
              "      <td>RL</td>\n",
              "      <td>65.0</td>\n",
              "      <td>Pave</td>\n",
              "      <td>NaN</td>\n",
              "      <td>196.0</td>\n",
              "      <td>Gd</td>\n",
              "      <td>150</td>\n",
              "      <td>NaN</td>\n",
              "      <td>208500</td>\n",
              "    </tr>\n",
              "    <tr>\n",
              "      <th>1</th>\n",
              "      <td>RL</td>\n",
              "      <td>80.0</td>\n",
              "      <td>Pave</td>\n",
              "      <td>NaN</td>\n",
              "      <td>0.0</td>\n",
              "      <td>Gd</td>\n",
              "      <td>284</td>\n",
              "      <td>TA</td>\n",
              "      <td>181500</td>\n",
              "    </tr>\n",
              "    <tr>\n",
              "      <th>2</th>\n",
              "      <td>RL</td>\n",
              "      <td>68.0</td>\n",
              "      <td>Pave</td>\n",
              "      <td>NaN</td>\n",
              "      <td>162.0</td>\n",
              "      <td>Gd</td>\n",
              "      <td>434</td>\n",
              "      <td>TA</td>\n",
              "      <td>223500</td>\n",
              "    </tr>\n",
              "    <tr>\n",
              "      <th>3</th>\n",
              "      <td>RL</td>\n",
              "      <td>60.0</td>\n",
              "      <td>Pave</td>\n",
              "      <td>NaN</td>\n",
              "      <td>0.0</td>\n",
              "      <td>TA</td>\n",
              "      <td>540</td>\n",
              "      <td>Gd</td>\n",
              "      <td>140000</td>\n",
              "    </tr>\n",
              "    <tr>\n",
              "      <th>4</th>\n",
              "      <td>RL</td>\n",
              "      <td>84.0</td>\n",
              "      <td>Pave</td>\n",
              "      <td>NaN</td>\n",
              "      <td>350.0</td>\n",
              "      <td>Gd</td>\n",
              "      <td>490</td>\n",
              "      <td>TA</td>\n",
              "      <td>250000</td>\n",
              "    </tr>\n",
              "  </tbody>\n",
              "</table>\n",
              "</div>"
            ],
            "text/plain": [
              "  MSZoning  LotFrontage Street Alley  ...  BsmtQual BsmtUnfSF  FireplaceQu SalePrice\n",
              "0       RL         65.0   Pave   NaN  ...        Gd       150          NaN    208500\n",
              "1       RL         80.0   Pave   NaN  ...        Gd       284           TA    181500\n",
              "2       RL         68.0   Pave   NaN  ...        Gd       434           TA    223500\n",
              "3       RL         60.0   Pave   NaN  ...        TA       540           Gd    140000\n",
              "4       RL         84.0   Pave   NaN  ...        Gd       490           TA    250000\n",
              "\n",
              "[5 rows x 9 columns]"
            ]
          },
          "metadata": {
            "tags": []
          },
          "execution_count": 94
        }
      ]
    },
    {
      "cell_type": "code",
      "metadata": {
        "id": "OQYDcVTBOlz_",
        "colab_type": "code",
        "colab": {
          "base_uri": "https://localhost:8080/",
          "height": 180
        },
        "outputId": "b60385e8-aed7-4f90-a2b9-cab205fd377a"
      },
      "source": [
        "# let's check the null values\n",
        "data.isnull().mean()"
      ],
      "execution_count": null,
      "outputs": [
        {
          "output_type": "execute_result",
          "data": {
            "text/plain": [
              "MSZoning       0.000000\n",
              "LotFrontage    0.177397\n",
              "Street         0.000000\n",
              "Alley          0.937671\n",
              "MasVnrArea     0.005479\n",
              "BsmtQual       0.025342\n",
              "BsmtUnfSF      0.000000\n",
              "FireplaceQu    0.472603\n",
              "SalePrice      0.000000\n",
              "dtype: float64"
            ]
          },
          "metadata": {
            "tags": []
          },
          "execution_count": 95
        }
      ]
    },
    {
      "cell_type": "code",
      "metadata": {
        "id": "c-bbvZ-bOn0Z",
        "colab_type": "code",
        "colab": {
          "base_uri": "https://localhost:8080/",
          "height": 33
        },
        "outputId": "6e74cc83-da92-4fff-887b-c88bd3ed39c8"
      },
      "source": [
        "# let's separate into training and testing set\n",
        "\n",
        "# first let's remove the target from the features\n",
        "cols_to_use.remove('SalePrice')\n",
        "\n",
        "X_train, X_test, y_train, y_test = train_test_split(data[cols_to_use], # just the features\n",
        "                                                    data['SalePrice'], # the target\n",
        "                                                    test_size=0.3, # the percentage of obs in the test set\n",
        "                                                    random_state=0) # for reproducibility\n",
        "X_train.shape, X_test.shape"
      ],
      "execution_count": null,
      "outputs": [
        {
          "output_type": "execute_result",
          "data": {
            "text/plain": [
              "((1022, 8), (438, 8))"
            ]
          },
          "metadata": {
            "tags": []
          },
          "execution_count": 96
        }
      ]
    },
    {
      "cell_type": "code",
      "metadata": {
        "id": "3HtrFyfROpDM",
        "colab_type": "code",
        "colab": {
          "base_uri": "https://localhost:8080/",
          "height": 50
        },
        "outputId": "2b41b312-41fc-4065-bd84-dabc713a843a"
      },
      "source": [
        "indicator = MissingIndicator(error_on_new=True, features='missing-only')\n",
        "indicator.fit(X_train)  "
      ],
      "execution_count": null,
      "outputs": [
        {
          "output_type": "execute_result",
          "data": {
            "text/plain": [
              "MissingIndicator(error_on_new=True, features='missing-only', missing_values=nan,\n",
              "                 sparse='auto')"
            ]
          },
          "metadata": {
            "tags": []
          },
          "execution_count": 97
        }
      ]
    },
    {
      "cell_type": "code",
      "metadata": {
        "id": "zu8FEom8OuAs",
        "colab_type": "code",
        "colab": {
          "base_uri": "https://localhost:8080/",
          "height": 33
        },
        "outputId": "6904facd-e1ab-4717-c7af-9bdff2e19153"
      },
      "source": [
        "# we can see the features with na:\n",
        "# the result shows the index\n",
        "\n",
        "indicator.features_"
      ],
      "execution_count": null,
      "outputs": [
        {
          "output_type": "execute_result",
          "data": {
            "text/plain": [
              "array([0, 1, 4, 5, 7])"
            ]
          },
          "metadata": {
            "tags": []
          },
          "execution_count": 98
        }
      ]
    },
    {
      "cell_type": "code",
      "metadata": {
        "id": "ZNQE4rpAO4tw",
        "colab_type": "code",
        "colab": {
          "base_uri": "https://localhost:8080/",
          "height": 33
        },
        "outputId": "f4e0d97a-33e8-46c3-cf64-36ffdd7f1961"
      },
      "source": [
        "# we can find the feature names by passing the index to the\n",
        "# list of columns\n",
        "\n",
        "X_train.columns[indicator.features_]"
      ],
      "execution_count": null,
      "outputs": [
        {
          "output_type": "execute_result",
          "data": {
            "text/plain": [
              "Index(['BsmtQual', 'FireplaceQu', 'LotFrontage', 'MasVnrArea', 'Alley'], dtype='object')"
            ]
          },
          "metadata": {
            "tags": []
          },
          "execution_count": 99
        }
      ]
    },
    {
      "cell_type": "code",
      "metadata": {
        "id": "gszy6uY4O7Jo",
        "colab_type": "code",
        "colab": {
          "base_uri": "https://localhost:8080/",
          "height": 131
        },
        "outputId": "e5982e24-878e-415f-d6ed-bd4ff5d658b8"
      },
      "source": [
        "# the indicator returns only the additional indicators\n",
        "# when we transform the dataset\n",
        "\n",
        "tmp = indicator.transform(X_train)\n",
        "\n",
        "tmp"
      ],
      "execution_count": null,
      "outputs": [
        {
          "output_type": "execute_result",
          "data": {
            "text/plain": [
              "array([[False,  True,  True, False,  True],\n",
              "       [False, False,  True, False,  True],\n",
              "       [False,  True, False, False,  True],\n",
              "       ...,\n",
              "       [ True,  True, False, False,  True],\n",
              "       [False, False,  True, False,  True],\n",
              "       [False,  True, False, False,  True]])"
            ]
          },
          "metadata": {
            "tags": []
          },
          "execution_count": 100
        }
      ]
    },
    {
      "cell_type": "code",
      "metadata": {
        "id": "-7rJAmdCO8Si",
        "colab_type": "code",
        "colab": {
          "base_uri": "https://localhost:8080/",
          "height": 191
        },
        "outputId": "07f44b14-1608-48b6-b15b-c4dd5fb32d93"
      },
      "source": [
        "# so we need to join it manually to the original X_train\n",
        "\n",
        "# let's create a column name for each of the new MissingIndicators\n",
        "indicator_cols = [c+'_NA' for c in X_train.columns[indicator.features_]]\n",
        "\n",
        "# and now we concatenate\n",
        "X_train = pd.concat([\n",
        "    X_train.reset_index(),\n",
        "    pd.DataFrame(tmp, columns = indicator_cols)],\n",
        "    axis=1)\n",
        "\n",
        "X_train.head()"
      ],
      "execution_count": null,
      "outputs": [
        {
          "output_type": "execute_result",
          "data": {
            "text/html": [
              "<div>\n",
              "<style scoped>\n",
              "    .dataframe tbody tr th:only-of-type {\n",
              "        vertical-align: middle;\n",
              "    }\n",
              "\n",
              "    .dataframe tbody tr th {\n",
              "        vertical-align: top;\n",
              "    }\n",
              "\n",
              "    .dataframe thead th {\n",
              "        text-align: right;\n",
              "    }\n",
              "</style>\n",
              "<table border=\"1\" class=\"dataframe\">\n",
              "  <thead>\n",
              "    <tr style=\"text-align: right;\">\n",
              "      <th></th>\n",
              "      <th>index</th>\n",
              "      <th>BsmtQual</th>\n",
              "      <th>FireplaceQu</th>\n",
              "      <th>MSZoning</th>\n",
              "      <th>BsmtUnfSF</th>\n",
              "      <th>LotFrontage</th>\n",
              "      <th>MasVnrArea</th>\n",
              "      <th>Street</th>\n",
              "      <th>Alley</th>\n",
              "      <th>BsmtQual_NA</th>\n",
              "      <th>FireplaceQu_NA</th>\n",
              "      <th>LotFrontage_NA</th>\n",
              "      <th>MasVnrArea_NA</th>\n",
              "      <th>Alley_NA</th>\n",
              "    </tr>\n",
              "  </thead>\n",
              "  <tbody>\n",
              "    <tr>\n",
              "      <th>0</th>\n",
              "      <td>64</td>\n",
              "      <td>Gd</td>\n",
              "      <td>NaN</td>\n",
              "      <td>RL</td>\n",
              "      <td>318</td>\n",
              "      <td>NaN</td>\n",
              "      <td>573.0</td>\n",
              "      <td>Pave</td>\n",
              "      <td>NaN</td>\n",
              "      <td>False</td>\n",
              "      <td>True</td>\n",
              "      <td>True</td>\n",
              "      <td>False</td>\n",
              "      <td>True</td>\n",
              "    </tr>\n",
              "    <tr>\n",
              "      <th>1</th>\n",
              "      <td>682</td>\n",
              "      <td>Gd</td>\n",
              "      <td>Gd</td>\n",
              "      <td>RL</td>\n",
              "      <td>288</td>\n",
              "      <td>NaN</td>\n",
              "      <td>0.0</td>\n",
              "      <td>Pave</td>\n",
              "      <td>NaN</td>\n",
              "      <td>False</td>\n",
              "      <td>False</td>\n",
              "      <td>True</td>\n",
              "      <td>False</td>\n",
              "      <td>True</td>\n",
              "    </tr>\n",
              "    <tr>\n",
              "      <th>2</th>\n",
              "      <td>960</td>\n",
              "      <td>TA</td>\n",
              "      <td>NaN</td>\n",
              "      <td>RL</td>\n",
              "      <td>162</td>\n",
              "      <td>50.0</td>\n",
              "      <td>0.0</td>\n",
              "      <td>Pave</td>\n",
              "      <td>NaN</td>\n",
              "      <td>False</td>\n",
              "      <td>True</td>\n",
              "      <td>False</td>\n",
              "      <td>False</td>\n",
              "      <td>True</td>\n",
              "    </tr>\n",
              "    <tr>\n",
              "      <th>3</th>\n",
              "      <td>1384</td>\n",
              "      <td>TA</td>\n",
              "      <td>NaN</td>\n",
              "      <td>RL</td>\n",
              "      <td>356</td>\n",
              "      <td>60.0</td>\n",
              "      <td>0.0</td>\n",
              "      <td>Pave</td>\n",
              "      <td>NaN</td>\n",
              "      <td>False</td>\n",
              "      <td>True</td>\n",
              "      <td>False</td>\n",
              "      <td>False</td>\n",
              "      <td>True</td>\n",
              "    </tr>\n",
              "    <tr>\n",
              "      <th>4</th>\n",
              "      <td>1100</td>\n",
              "      <td>TA</td>\n",
              "      <td>NaN</td>\n",
              "      <td>RL</td>\n",
              "      <td>0</td>\n",
              "      <td>60.0</td>\n",
              "      <td>0.0</td>\n",
              "      <td>Pave</td>\n",
              "      <td>NaN</td>\n",
              "      <td>False</td>\n",
              "      <td>True</td>\n",
              "      <td>False</td>\n",
              "      <td>False</td>\n",
              "      <td>True</td>\n",
              "    </tr>\n",
              "  </tbody>\n",
              "</table>\n",
              "</div>"
            ],
            "text/plain": [
              "   index BsmtQual FireplaceQu  ... LotFrontage_NA  MasVnrArea_NA  Alley_NA\n",
              "0     64       Gd         NaN  ...           True          False      True\n",
              "1    682       Gd          Gd  ...           True          False      True\n",
              "2    960       TA         NaN  ...          False          False      True\n",
              "3   1384       TA         NaN  ...          False          False      True\n",
              "4   1100       TA         NaN  ...          False          False      True\n",
              "\n",
              "[5 rows x 14 columns]"
            ]
          },
          "metadata": {
            "tags": []
          },
          "execution_count": 101
        }
      ]
    },
    {
      "cell_type": "code",
      "metadata": {
        "id": "t_itD9X8PaFA",
        "colab_type": "code",
        "colab": {
          "base_uri": "https://localhost:8080/",
          "height": 191
        },
        "outputId": "cbbc65c1-4010-4e54-f7c9-37cab7e3b4c3"
      },
      "source": [
        "# now the same for the test set\n",
        "tmp = indicator.transform(X_test)\n",
        "\n",
        "X_test = pd.concat([\n",
        "    X_test.reset_index(),\n",
        "    pd.DataFrame(tmp, columns = indicator_cols)],\n",
        "    axis=1)\n",
        "\n",
        "X_test.head()"
      ],
      "execution_count": null,
      "outputs": [
        {
          "output_type": "execute_result",
          "data": {
            "text/html": [
              "<div>\n",
              "<style scoped>\n",
              "    .dataframe tbody tr th:only-of-type {\n",
              "        vertical-align: middle;\n",
              "    }\n",
              "\n",
              "    .dataframe tbody tr th {\n",
              "        vertical-align: top;\n",
              "    }\n",
              "\n",
              "    .dataframe thead th {\n",
              "        text-align: right;\n",
              "    }\n",
              "</style>\n",
              "<table border=\"1\" class=\"dataframe\">\n",
              "  <thead>\n",
              "    <tr style=\"text-align: right;\">\n",
              "      <th></th>\n",
              "      <th>index</th>\n",
              "      <th>BsmtQual</th>\n",
              "      <th>FireplaceQu</th>\n",
              "      <th>MSZoning</th>\n",
              "      <th>BsmtUnfSF</th>\n",
              "      <th>LotFrontage</th>\n",
              "      <th>MasVnrArea</th>\n",
              "      <th>Street</th>\n",
              "      <th>Alley</th>\n",
              "      <th>BsmtQual_NA</th>\n",
              "      <th>FireplaceQu_NA</th>\n",
              "      <th>LotFrontage_NA</th>\n",
              "      <th>MasVnrArea_NA</th>\n",
              "      <th>Alley_NA</th>\n",
              "    </tr>\n",
              "  </thead>\n",
              "  <tbody>\n",
              "    <tr>\n",
              "      <th>0</th>\n",
              "      <td>529</td>\n",
              "      <td>TA</td>\n",
              "      <td>TA</td>\n",
              "      <td>RL</td>\n",
              "      <td>816</td>\n",
              "      <td>NaN</td>\n",
              "      <td>NaN</td>\n",
              "      <td>Pave</td>\n",
              "      <td>NaN</td>\n",
              "      <td>False</td>\n",
              "      <td>False</td>\n",
              "      <td>True</td>\n",
              "      <td>True</td>\n",
              "      <td>True</td>\n",
              "    </tr>\n",
              "    <tr>\n",
              "      <th>1</th>\n",
              "      <td>491</td>\n",
              "      <td>TA</td>\n",
              "      <td>TA</td>\n",
              "      <td>RL</td>\n",
              "      <td>238</td>\n",
              "      <td>79.0</td>\n",
              "      <td>0.0</td>\n",
              "      <td>Pave</td>\n",
              "      <td>NaN</td>\n",
              "      <td>False</td>\n",
              "      <td>False</td>\n",
              "      <td>False</td>\n",
              "      <td>False</td>\n",
              "      <td>True</td>\n",
              "    </tr>\n",
              "    <tr>\n",
              "      <th>2</th>\n",
              "      <td>459</td>\n",
              "      <td>TA</td>\n",
              "      <td>TA</td>\n",
              "      <td>RL</td>\n",
              "      <td>524</td>\n",
              "      <td>NaN</td>\n",
              "      <td>161.0</td>\n",
              "      <td>Pave</td>\n",
              "      <td>NaN</td>\n",
              "      <td>False</td>\n",
              "      <td>False</td>\n",
              "      <td>True</td>\n",
              "      <td>False</td>\n",
              "      <td>True</td>\n",
              "    </tr>\n",
              "    <tr>\n",
              "      <th>3</th>\n",
              "      <td>279</td>\n",
              "      <td>Gd</td>\n",
              "      <td>TA</td>\n",
              "      <td>RL</td>\n",
              "      <td>768</td>\n",
              "      <td>83.0</td>\n",
              "      <td>299.0</td>\n",
              "      <td>Pave</td>\n",
              "      <td>NaN</td>\n",
              "      <td>False</td>\n",
              "      <td>False</td>\n",
              "      <td>False</td>\n",
              "      <td>False</td>\n",
              "      <td>True</td>\n",
              "    </tr>\n",
              "    <tr>\n",
              "      <th>4</th>\n",
              "      <td>655</td>\n",
              "      <td>TA</td>\n",
              "      <td>NaN</td>\n",
              "      <td>RM</td>\n",
              "      <td>525</td>\n",
              "      <td>21.0</td>\n",
              "      <td>381.0</td>\n",
              "      <td>Pave</td>\n",
              "      <td>NaN</td>\n",
              "      <td>False</td>\n",
              "      <td>True</td>\n",
              "      <td>False</td>\n",
              "      <td>False</td>\n",
              "      <td>True</td>\n",
              "    </tr>\n",
              "  </tbody>\n",
              "</table>\n",
              "</div>"
            ],
            "text/plain": [
              "   index BsmtQual FireplaceQu  ... LotFrontage_NA  MasVnrArea_NA  Alley_NA\n",
              "0    529       TA          TA  ...           True           True      True\n",
              "1    491       TA          TA  ...          False          False      True\n",
              "2    459       TA          TA  ...           True          False      True\n",
              "3    279       Gd          TA  ...          False          False      True\n",
              "4    655       TA         NaN  ...          False          False      True\n",
              "\n",
              "[5 rows x 14 columns]"
            ]
          },
          "metadata": {
            "tags": []
          },
          "execution_count": 104
        }
      ]
    },
    {
      "cell_type": "markdown",
      "metadata": {
        "id": "KeXlAm4mPOWD",
        "colab_type": "text"
      },
      "source": [
        "## SimpleImputer on the entire dataset"
      ]
    },
    {
      "cell_type": "code",
      "metadata": {
        "id": "NUmfhJWWO-68",
        "colab_type": "code",
        "colab": {
          "base_uri": "https://localhost:8080/",
          "height": 50
        },
        "outputId": "26faa168-2b6d-4266-9a19-dd3019be0420"
      },
      "source": [
        "# Now we impute the missing values with SimpleImputer\n",
        "\n",
        "# create an instance of the simple imputer\n",
        "# we indicate that we want to impute with the \n",
        "# most frequent category\n",
        "\n",
        "imputer = SimpleImputer(strategy='most_frequent')\n",
        "\n",
        "# we fit the imputer to the train set\n",
        "# the imputer will learn the median of all variables\n",
        "imputer.fit(X_train)"
      ],
      "execution_count": null,
      "outputs": [
        {
          "output_type": "execute_result",
          "data": {
            "text/plain": [
              "SimpleImputer(add_indicator=False, copy=True, fill_value=None,\n",
              "              missing_values=nan, strategy='most_frequent', verbose=0)"
            ]
          },
          "metadata": {
            "tags": []
          },
          "execution_count": 102
        }
      ]
    },
    {
      "cell_type": "code",
      "metadata": {
        "id": "d8hGUq-jPQbw",
        "colab_type": "code",
        "colab": {
          "base_uri": "https://localhost:8080/",
          "height": 50
        },
        "outputId": "e6d8fdf6-d543-4880-b500-f7d150026886"
      },
      "source": [
        "# we can look at the learnt frequent values like this:\n",
        "imputer.statistics_"
      ],
      "execution_count": null,
      "outputs": [
        {
          "output_type": "execute_result",
          "data": {
            "text/plain": [
              "array([0, 'TA', 'Gd', 'RL', 0, 60.0, 0.0, 'Pave', 'Pave', False, False,\n",
              "       False, False, True], dtype=object)"
            ]
          },
          "metadata": {
            "tags": []
          },
          "execution_count": 103
        }
      ]
    },
    {
      "cell_type": "markdown",
      "metadata": {
        "id": "A3na8pZAPif5",
        "colab_type": "text"
      },
      "source": [
        "Note that the transformer learns the most frequent value for both categorical AND numerical variables."
      ]
    },
    {
      "cell_type": "code",
      "metadata": {
        "id": "W0Nvoe2HPSSx",
        "colab_type": "code",
        "colab": {
          "base_uri": "https://localhost:8080/",
          "height": 131
        },
        "outputId": "1b9ff8cc-00f1-4aec-a6a5-51d023a635fc"
      },
      "source": [
        "# and now we impute the train and test set\n",
        "\n",
        "# NOTE: the data is returned as a numpy array!!!\n",
        "X_train = imputer.transform(X_train)\n",
        "X_test = imputer.transform(X_test)\n",
        "\n",
        "X_train"
      ],
      "execution_count": null,
      "outputs": [
        {
          "output_type": "execute_result",
          "data": {
            "text/plain": [
              "array([[64, 'Gd', 'Gd', ..., True, False, True],\n",
              "       [682, 'Gd', 'Gd', ..., True, False, True],\n",
              "       [960, 'TA', 'Gd', ..., False, False, True],\n",
              "       ...,\n",
              "       [1216, 'TA', 'Gd', ..., False, False, True],\n",
              "       [559, 'Gd', 'TA', ..., True, False, True],\n",
              "       [684, 'Gd', 'Gd', ..., False, False, True]], dtype=object)"
            ]
          },
          "metadata": {
            "tags": []
          },
          "execution_count": 105
        }
      ]
    },
    {
      "cell_type": "markdown",
      "metadata": {
        "id": "CFrUy43gR3NZ",
        "colab_type": "text"
      },
      "source": [
        "### Reference\n",
        "\n",
        "This is one of the best course out there on feature engineering that I have taken up so far, the instructor explains every technique with extensive handson, I would recommend to take up this course:\n",
        "\n",
        "https://www.udemy.com/course/feature-engineering-for-machine-learning/"
      ]
    },
    {
      "cell_type": "code",
      "metadata": {
        "id": "7ENzk4CmPkS8",
        "colab_type": "code",
        "colab": {}
      },
      "source": [
        ""
      ],
      "execution_count": null,
      "outputs": []
    }
  ]
}