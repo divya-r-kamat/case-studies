{
  "nbformat": 4,
  "nbformat_minor": 0,
  "metadata": {
    "colab": {
      "name": "TitanicSurvivalPrediction - Cardinality.ipynb",
      "provenance": [],
      "toc_visible": true,
      "authorship_tag": "ABX9TyNNWbQRKL4aWI6G5nsQQnxF",
      "include_colab_link": true
    },
    "kernelspec": {
      "name": "python3",
      "display_name": "Python 3"
    }
  },
  "cells": [
    {
      "cell_type": "markdown",
      "metadata": {
        "id": "view-in-github",
        "colab_type": "text"
      },
      "source": [
        "<a href=\"https://colab.research.google.com/github/divya-r-kamat/case-studies/blob/master/TitanicSurvivalPrediction_Cardinality.ipynb\" target=\"_parent\"><img src=\"https://colab.research.google.com/assets/colab-badge.svg\" alt=\"Open In Colab\"/></a>"
      ]
    },
    {
      "cell_type": "markdown",
      "metadata": {
        "id": "D7u6XzYZV0cN",
        "colab_type": "text"
      },
      "source": [
        " ### Predicting Survival on the Titanic\n",
        "\n",
        " Perhaps one of the most infamous shipwrecks in history, the Titanic sank after colliding with an iceberg, killing 1502 out of 2224 people on board. Interestingly, by analysing the probability of survival based on few attributes like gender, age, and social status, we can make very accurate predictions on which passengers would survive. Some groups of people were more likely to survive than others, such as women, children, and the upper-class. Therefore, we can learn about the society priorities and privileges at the time."
      ]
    },
    {
      "cell_type": "code",
      "metadata": {
        "id": "uvDvyPN4WBUY",
        "colab_type": "code",
        "colab": {}
      },
      "source": [
        "import pandas as pd\n",
        "import numpy as np"
      ],
      "execution_count": 1,
      "outputs": []
    },
    {
      "cell_type": "code",
      "metadata": {
        "id": "mbTXb62GWC5K",
        "colab_type": "code",
        "colab": {
          "base_uri": "https://localhost:8080/",
          "height": 197
        },
        "outputId": "aeb7bddc-2645-4121-cdfd-283dfc6a0c46"
      },
      "source": [
        "data = pd.read_csv('https://www.openml.org/data/get_csv/16826755/phpMYEkMl')\n",
        "data.head()"
      ],
      "execution_count": 2,
      "outputs": [
        {
          "output_type": "execute_result",
          "data": {
            "text/html": [
              "<div>\n",
              "<style scoped>\n",
              "    .dataframe tbody tr th:only-of-type {\n",
              "        vertical-align: middle;\n",
              "    }\n",
              "\n",
              "    .dataframe tbody tr th {\n",
              "        vertical-align: top;\n",
              "    }\n",
              "\n",
              "    .dataframe thead th {\n",
              "        text-align: right;\n",
              "    }\n",
              "</style>\n",
              "<table border=\"1\" class=\"dataframe\">\n",
              "  <thead>\n",
              "    <tr style=\"text-align: right;\">\n",
              "      <th></th>\n",
              "      <th>pclass</th>\n",
              "      <th>survived</th>\n",
              "      <th>name</th>\n",
              "      <th>sex</th>\n",
              "      <th>age</th>\n",
              "      <th>sibsp</th>\n",
              "      <th>parch</th>\n",
              "      <th>ticket</th>\n",
              "      <th>fare</th>\n",
              "      <th>cabin</th>\n",
              "      <th>embarked</th>\n",
              "      <th>boat</th>\n",
              "      <th>body</th>\n",
              "      <th>home.dest</th>\n",
              "    </tr>\n",
              "  </thead>\n",
              "  <tbody>\n",
              "    <tr>\n",
              "      <th>0</th>\n",
              "      <td>1</td>\n",
              "      <td>1</td>\n",
              "      <td>Allen, Miss. Elisabeth Walton</td>\n",
              "      <td>female</td>\n",
              "      <td>29</td>\n",
              "      <td>0</td>\n",
              "      <td>0</td>\n",
              "      <td>24160</td>\n",
              "      <td>211.3375</td>\n",
              "      <td>B5</td>\n",
              "      <td>S</td>\n",
              "      <td>2</td>\n",
              "      <td>?</td>\n",
              "      <td>St Louis, MO</td>\n",
              "    </tr>\n",
              "    <tr>\n",
              "      <th>1</th>\n",
              "      <td>1</td>\n",
              "      <td>1</td>\n",
              "      <td>Allison, Master. Hudson Trevor</td>\n",
              "      <td>male</td>\n",
              "      <td>0.9167</td>\n",
              "      <td>1</td>\n",
              "      <td>2</td>\n",
              "      <td>113781</td>\n",
              "      <td>151.55</td>\n",
              "      <td>C22 C26</td>\n",
              "      <td>S</td>\n",
              "      <td>11</td>\n",
              "      <td>?</td>\n",
              "      <td>Montreal, PQ / Chesterville, ON</td>\n",
              "    </tr>\n",
              "    <tr>\n",
              "      <th>2</th>\n",
              "      <td>1</td>\n",
              "      <td>0</td>\n",
              "      <td>Allison, Miss. Helen Loraine</td>\n",
              "      <td>female</td>\n",
              "      <td>2</td>\n",
              "      <td>1</td>\n",
              "      <td>2</td>\n",
              "      <td>113781</td>\n",
              "      <td>151.55</td>\n",
              "      <td>C22 C26</td>\n",
              "      <td>S</td>\n",
              "      <td>?</td>\n",
              "      <td>?</td>\n",
              "      <td>Montreal, PQ / Chesterville, ON</td>\n",
              "    </tr>\n",
              "    <tr>\n",
              "      <th>3</th>\n",
              "      <td>1</td>\n",
              "      <td>0</td>\n",
              "      <td>Allison, Mr. Hudson Joshua Creighton</td>\n",
              "      <td>male</td>\n",
              "      <td>30</td>\n",
              "      <td>1</td>\n",
              "      <td>2</td>\n",
              "      <td>113781</td>\n",
              "      <td>151.55</td>\n",
              "      <td>C22 C26</td>\n",
              "      <td>S</td>\n",
              "      <td>?</td>\n",
              "      <td>135</td>\n",
              "      <td>Montreal, PQ / Chesterville, ON</td>\n",
              "    </tr>\n",
              "    <tr>\n",
              "      <th>4</th>\n",
              "      <td>1</td>\n",
              "      <td>0</td>\n",
              "      <td>Allison, Mrs. Hudson J C (Bessie Waldo Daniels)</td>\n",
              "      <td>female</td>\n",
              "      <td>25</td>\n",
              "      <td>1</td>\n",
              "      <td>2</td>\n",
              "      <td>113781</td>\n",
              "      <td>151.55</td>\n",
              "      <td>C22 C26</td>\n",
              "      <td>S</td>\n",
              "      <td>?</td>\n",
              "      <td>?</td>\n",
              "      <td>Montreal, PQ / Chesterville, ON</td>\n",
              "    </tr>\n",
              "  </tbody>\n",
              "</table>\n",
              "</div>"
            ],
            "text/plain": [
              "   pclass  survived  ... body                        home.dest\n",
              "0       1         1  ...    ?                     St Louis, MO\n",
              "1       1         1  ...    ?  Montreal, PQ / Chesterville, ON\n",
              "2       1         0  ...    ?  Montreal, PQ / Chesterville, ON\n",
              "3       1         0  ...  135  Montreal, PQ / Chesterville, ON\n",
              "4       1         0  ...    ?  Montreal, PQ / Chesterville, ON\n",
              "\n",
              "[5 rows x 14 columns]"
            ]
          },
          "metadata": {
            "tags": []
          },
          "execution_count": 2
        }
      ]
    },
    {
      "cell_type": "code",
      "metadata": {
        "id": "N4UvXk2HWEP_",
        "colab_type": "code",
        "colab": {
          "base_uri": "https://localhost:8080/",
          "height": 273
        },
        "outputId": "0c064e5e-34fa-4968-8444-e2525ef3d249"
      },
      "source": [
        "\n",
        "data = data.replace('?', np.nan)\n",
        "data.isnull().sum()"
      ],
      "execution_count": 3,
      "outputs": [
        {
          "output_type": "execute_result",
          "data": {
            "text/plain": [
              "pclass          0\n",
              "survived        0\n",
              "name            0\n",
              "sex             0\n",
              "age           263\n",
              "sibsp           0\n",
              "parch           0\n",
              "ticket          0\n",
              "fare            1\n",
              "cabin        1014\n",
              "embarked        2\n",
              "boat          823\n",
              "body         1188\n",
              "home.dest     564\n",
              "dtype: int64"
            ]
          },
          "metadata": {
            "tags": []
          },
          "execution_count": 3
        }
      ]
    },
    {
      "cell_type": "markdown",
      "metadata": {
        "id": "FTbqX2Yoz02b",
        "colab_type": "text"
      },
      "source": [
        "There are 263 missing values for Age, 1014 for Cabin and 2 for Embarked."
      ]
    },
    {
      "cell_type": "code",
      "metadata": {
        "id": "IqG6vTIEWHxE",
        "colab_type": "code",
        "colab": {}
      },
      "source": [
        "def get_first_cabin(row):\n",
        "    try:\n",
        "        return row.split()[0]\n",
        "    except:\n",
        "        return np.nan \n",
        "\n",
        "data['cabin'] = data['cabin'].apply(get_first_cabin)\n",
        "data.to_csv('titanic.csv', index=False)"
      ],
      "execution_count": 4,
      "outputs": []
    },
    {
      "cell_type": "code",
      "metadata": {
        "id": "tVfmlE0NWTDu",
        "colab_type": "code",
        "colab": {
          "base_uri": "https://localhost:8080/",
          "height": 273
        },
        "outputId": "29769140-9e39-44ac-aff6-e93c9eddea6d"
      },
      "source": [
        "# alternatively, we can use the mean method after isnull\n",
        "# to visualise the percentage of\n",
        "# missing values for each variable\n",
        "\n",
        "data.isnull().mean()"
      ],
      "execution_count": 5,
      "outputs": [
        {
          "output_type": "execute_result",
          "data": {
            "text/plain": [
              "pclass       0.000000\n",
              "survived     0.000000\n",
              "name         0.000000\n",
              "sex          0.000000\n",
              "age          0.200917\n",
              "sibsp        0.000000\n",
              "parch        0.000000\n",
              "ticket       0.000000\n",
              "fare         0.000764\n",
              "cabin        0.774637\n",
              "embarked     0.001528\n",
              "boat         0.628724\n",
              "body         0.907563\n",
              "home.dest    0.430863\n",
              "dtype: float64"
            ]
          },
          "metadata": {
            "tags": []
          },
          "execution_count": 5
        }
      ]
    },
    {
      "cell_type": "markdown",
      "metadata": {
        "id": "wUefCv340ZaC",
        "colab_type": "text"
      },
      "source": [
        "There are missing data in the variables Age (20% missing), Cabin -in which the passenger was traveling- (77% missing), and Embarked -the port from which the passenger got into the Titanic- (~0.2% missing)."
      ]
    },
    {
      "cell_type": "markdown",
      "metadata": {
        "id": "tGhTi-kB1Anl",
        "colab_type": "text"
      },
      "source": [
        "### Missing data Not At Random (MNAR): Systematic missing values\n",
        "In the Titanic dataset, both the missing values of the variables age and cabin, were introduced systematically. For many of the people who did not survive, the age they had or the cabin they were traveling in, could not be established. The people who survived could be otherwise asked for that information.\n",
        "\n",
        "Can we infer this by looking at the data?\n",
        "\n",
        "In a situation like this, we could expect a greater number of missing values for people who did not survive.\n",
        "\n",
        "Let's have a look."
      ]
    },
    {
      "cell_type": "code",
      "metadata": {
        "id": "lGHja1BDz4xG",
        "colab_type": "code",
        "colab": {}
      },
      "source": [
        "# let's create a binary variable that indicates \n",
        "# whether the value of cabin is missing\n",
        "\n",
        "data['cabin_null'] = np.where(data['cabin'].isnull(), 1, 0)"
      ],
      "execution_count": 6,
      "outputs": []
    },
    {
      "cell_type": "code",
      "metadata": {
        "id": "XmbIVO3V1I3w",
        "colab_type": "code",
        "colab": {
          "base_uri": "https://localhost:8080/",
          "height": 85
        },
        "outputId": "81a4678a-6826-4349-f888-1afdc8346532"
      },
      "source": [
        "# let's evaluate the percentage of missing values in\n",
        "# cabin for the people who survived vs the non-survivors.\n",
        "\n",
        "# the variable Survived takes the value 1 if the passenger\n",
        "# survived, or 0 otherwise\n",
        "\n",
        "# group data by Survived vs Non-Survived\n",
        "# and find the percentage of nulls for cabin\n",
        "data.groupby(['survived'])['cabin_null'].mean()"
      ],
      "execution_count": 7,
      "outputs": [
        {
          "output_type": "execute_result",
          "data": {
            "text/plain": [
              "survived\n",
              "0    0.873918\n",
              "1    0.614000\n",
              "Name: cabin_null, dtype: float64"
            ]
          },
          "metadata": {
            "tags": []
          },
          "execution_count": 7
        }
      ]
    },
    {
      "cell_type": "code",
      "metadata": {
        "id": "ghu2T5ox1RXr",
        "colab_type": "code",
        "colab": {
          "base_uri": "https://localhost:8080/",
          "height": 85
        },
        "outputId": "ccbbd095-2d5b-4473-edbb-d085a99c297e"
      },
      "source": [
        "# another way of doing the above, with less lines\n",
        "# of code :)\n",
        "\n",
        "data['cabin'].isnull().groupby(data['survived']).mean()"
      ],
      "execution_count": 8,
      "outputs": [
        {
          "output_type": "execute_result",
          "data": {
            "text/plain": [
              "survived\n",
              "0    0.873918\n",
              "1    0.614000\n",
              "Name: cabin, dtype: float64"
            ]
          },
          "metadata": {
            "tags": []
          },
          "execution_count": 8
        }
      ]
    },
    {
      "cell_type": "markdown",
      "metadata": {
        "id": "kq9wIHW-1iti",
        "colab_type": "text"
      },
      "source": [
        "We observe that the percentage of missing values is higher for people who did not survive (87%), respect to people who survived (60%). This finding is aligned with our hypothesis that the data is missing because after people died, the information could not be retrieved.\n",
        "\n",
        "Note: Having said this, to truly underpin whether the data is missing not at random, we would need to get extremely familiar with the way data was collected. Analysing datasets, can only point us in the right direction or help us build assumptions."
      ]
    },
    {
      "cell_type": "code",
      "metadata": {
        "id": "Tajhe1Eo1XyC",
        "colab_type": "code",
        "colab": {
          "base_uri": "https://localhost:8080/",
          "height": 85
        },
        "outputId": "d063c85c-c70e-4a04-9edd-85985c11feb9"
      },
      "source": [
        "# Let's do the same for the variable age:\n",
        "\n",
        "# First we create a binary variable to indicates\n",
        "# whether the value of Age is missing\n",
        "\n",
        "data['age_null'] = np.where(data['age'].isnull(), 1, 0)\n",
        "\n",
        "# and then look at the mean in the different survival groups:\n",
        "data.groupby(['survived'])['age_null'].mean()"
      ],
      "execution_count": 9,
      "outputs": [
        {
          "output_type": "execute_result",
          "data": {
            "text/plain": [
              "survived\n",
              "0    0.234858\n",
              "1    0.146000\n",
              "Name: age_null, dtype: float64"
            ]
          },
          "metadata": {
            "tags": []
          },
          "execution_count": 9
        }
      ]
    },
    {
      "cell_type": "code",
      "metadata": {
        "id": "B87avQLY1pnx",
        "colab_type": "code",
        "colab": {
          "base_uri": "https://localhost:8080/",
          "height": 85
        },
        "outputId": "678d3002-2b24-435a-e1e6-0e5882b56f99"
      },
      "source": [
        "# or the same with simpler code :)\n",
        "\n",
        "data['age'].isnull().groupby(data['survived']).mean()"
      ],
      "execution_count": 10,
      "outputs": [
        {
          "output_type": "execute_result",
          "data": {
            "text/plain": [
              "survived\n",
              "0    0.234858\n",
              "1    0.146000\n",
              "Name: age, dtype: float64"
            ]
          },
          "metadata": {
            "tags": []
          },
          "execution_count": 10
        }
      ]
    },
    {
      "cell_type": "markdown",
      "metadata": {
        "id": "_CxVTH3q1xHm",
        "colab_type": "text"
      },
      "source": [
        "Again, we observe a higher number of missing data for the people who did not survive the tragedy. The analysis therefore suggests that there is a systematic loss of data: people who did not survive tend to have more missing information. Presumably, the method chosen to gather the information, contributes to the generation of these missing data."
      ]
    },
    {
      "cell_type": "markdown",
      "metadata": {
        "id": "Y8Cg9i1R1_5o",
        "colab_type": "text"
      },
      "source": [
        "### Missing data Completely At Random (MCAR)"
      ]
    },
    {
      "cell_type": "code",
      "metadata": {
        "id": "TUUM5Eix1sZ1",
        "colab_type": "code",
        "colab": {
          "base_uri": "https://localhost:8080/",
          "height": 107
        },
        "outputId": "d0119961-ac28-48b2-f083-f5875200b7cd"
      },
      "source": [
        "# In the titanic dataset, there are also missing values\n",
        "# for the variable Embarked.\n",
        "# Let's have a look.\n",
        "\n",
        "# Let's slice the dataframe to show only the observations\n",
        "# with missing values for Embarked\n",
        "\n",
        "data[data['embarked'].isnull()]"
      ],
      "execution_count": 11,
      "outputs": [
        {
          "output_type": "execute_result",
          "data": {
            "text/html": [
              "<div>\n",
              "<style scoped>\n",
              "    .dataframe tbody tr th:only-of-type {\n",
              "        vertical-align: middle;\n",
              "    }\n",
              "\n",
              "    .dataframe tbody tr th {\n",
              "        vertical-align: top;\n",
              "    }\n",
              "\n",
              "    .dataframe thead th {\n",
              "        text-align: right;\n",
              "    }\n",
              "</style>\n",
              "<table border=\"1\" class=\"dataframe\">\n",
              "  <thead>\n",
              "    <tr style=\"text-align: right;\">\n",
              "      <th></th>\n",
              "      <th>pclass</th>\n",
              "      <th>survived</th>\n",
              "      <th>name</th>\n",
              "      <th>sex</th>\n",
              "      <th>age</th>\n",
              "      <th>sibsp</th>\n",
              "      <th>parch</th>\n",
              "      <th>ticket</th>\n",
              "      <th>fare</th>\n",
              "      <th>cabin</th>\n",
              "      <th>embarked</th>\n",
              "      <th>boat</th>\n",
              "      <th>body</th>\n",
              "      <th>home.dest</th>\n",
              "      <th>cabin_null</th>\n",
              "      <th>age_null</th>\n",
              "    </tr>\n",
              "  </thead>\n",
              "  <tbody>\n",
              "    <tr>\n",
              "      <th>168</th>\n",
              "      <td>1</td>\n",
              "      <td>1</td>\n",
              "      <td>Icard, Miss. Amelie</td>\n",
              "      <td>female</td>\n",
              "      <td>38</td>\n",
              "      <td>0</td>\n",
              "      <td>0</td>\n",
              "      <td>113572</td>\n",
              "      <td>80</td>\n",
              "      <td>B28</td>\n",
              "      <td>NaN</td>\n",
              "      <td>6</td>\n",
              "      <td>NaN</td>\n",
              "      <td>NaN</td>\n",
              "      <td>0</td>\n",
              "      <td>0</td>\n",
              "    </tr>\n",
              "    <tr>\n",
              "      <th>284</th>\n",
              "      <td>1</td>\n",
              "      <td>1</td>\n",
              "      <td>Stone, Mrs. George Nelson (Martha Evelyn)</td>\n",
              "      <td>female</td>\n",
              "      <td>62</td>\n",
              "      <td>0</td>\n",
              "      <td>0</td>\n",
              "      <td>113572</td>\n",
              "      <td>80</td>\n",
              "      <td>B28</td>\n",
              "      <td>NaN</td>\n",
              "      <td>6</td>\n",
              "      <td>NaN</td>\n",
              "      <td>Cincinatti, OH</td>\n",
              "      <td>0</td>\n",
              "      <td>0</td>\n",
              "    </tr>\n",
              "  </tbody>\n",
              "</table>\n",
              "</div>"
            ],
            "text/plain": [
              "     pclass  survived  ... cabin_null age_null\n",
              "168       1         1  ...          0        0\n",
              "284       1         1  ...          0        0\n",
              "\n",
              "[2 rows x 16 columns]"
            ]
          },
          "metadata": {
            "tags": []
          },
          "execution_count": 11
        }
      ]
    },
    {
      "cell_type": "markdown",
      "metadata": {
        "id": "1I3PWaXe3c77",
        "colab_type": "text"
      },
      "source": [
        "These 2 women were traveling together.\n",
        "\n",
        "A priori, there does not seem to be an indication that the missing information in the variable Embarked is depending on any other variable, and the fact that these women survived, means that they could have been asked for this information.\n",
        "\n",
        "Very likely the values were lost at the time of building the dataset.\n",
        "\n",
        "If these values are MCAR, the probability of data being missing for these 2 women is the same as the probability for values to missing for any other person on the titanic. Of course this will be hard, if possible at all, to prove. "
      ]
    },
    {
      "cell_type": "markdown",
      "metadata": {
        "id": "pL5CLzWu6QWV",
        "colab_type": "text"
      },
      "source": [
        "### Cardinality\n",
        "The values of a categorical variable are selected from a group of categories, also called labels. For example, in the variable gender the categories or labels are male and female, whereas in the variable city the labels can be London, Manchester, Brighton and so on.\n",
        "\n",
        "Different categorical variables contain different number of labels or categories. The variable gender contains only 2 labels, but a variable like city or postcode, can contain a huge number of different labels.\n",
        "\n",
        "The number of different labels within a categorical variable is known as cardinality. A high number of labels within a variable is known as high cardinality.\n",
        "\n",
        "#### Are multiple labels in a categorical variable a problem?\n",
        "High cardinality may pose the following problems:\n",
        "\n",
        "Variables with too many labels tend to dominate over those with only a few labels, particularly in Tree based algorithms.\n",
        "\n",
        "A big number of labels within a variable may introduce noise with little, if any, information, therefore making machine learning models prone to over-fit.\n",
        "\n",
        "Some of the labels may only be present in the training data set, but not in the test set, therefore machine learning algorithms may over-fit to the training set.\n",
        "\n",
        "Contrarily, some labels may appear only in the test set, therefore leaving the machine learning algorithms unable to perform a calculation over the new (unseen) observation.\n",
        "\n",
        "In particular, tree methods can be biased towards variables with lots of labels (variables with high cardinality). Thus, their performance may be affected by high cardinality."
      ]
    },
    {
      "cell_type": "code",
      "metadata": {
        "id": "ZQhDm1tD2Ihi",
        "colab_type": "code",
        "colab": {
          "base_uri": "https://localhost:8080/",
          "height": 119
        },
        "outputId": "8674e4a8-8e2d-4c4d-e8ef-e258f48fec3d"
      },
      "source": [
        "# let's inspect the cardinality, this is the number\n",
        "# of different labels, for the different categorical variables\n",
        "\n",
        "print('Number of categories in the variable Name: {}'.format(\n",
        "    len(data.name.unique())))\n",
        "\n",
        "print('Number of categories in the variable Gender: {}'.format(\n",
        "    len(data.sex.unique())))\n",
        "\n",
        "print('Number of categories in the variable Ticket: {}'.format(\n",
        "    len(data.ticket.unique())))\n",
        "\n",
        "print('Number of categories in the variable Cabin: {}'.format(\n",
        "    len(data.cabin.unique())))\n",
        "\n",
        "print('Number of categories in the variable Embarked: {}'.format(\n",
        "    len(data.embarked.unique())))\n",
        "\n",
        "print('Total number of passengers in the Titanic: {}'.format(len(data)))"
      ],
      "execution_count": 12,
      "outputs": [
        {
          "output_type": "stream",
          "text": [
            "Number of categories in the variable Name: 1307\n",
            "Number of categories in the variable Gender: 2\n",
            "Number of categories in the variable Ticket: 929\n",
            "Number of categories in the variable Cabin: 182\n",
            "Number of categories in the variable Embarked: 4\n",
            "Total number of passengers in the Titanic: 1309\n"
          ],
          "name": "stdout"
        }
      ]
    },
    {
      "cell_type": "markdown",
      "metadata": {
        "id": "exfVBA5v6uOk",
        "colab_type": "text"
      },
      "source": [
        "While the variable Sex contains only 2 categories and Embarked 4 (low cardinality), the variables Ticket, Name and Cabin, as expected, contain a huge number of different labels (high cardinality).\n",
        "\n",
        "To demonstrate the effect of high cardinality in train and test sets and machine learning performance, I will work with the variable Cabin. I will create a new variable with reduced cardinality."
      ]
    },
    {
      "cell_type": "code",
      "metadata": {
        "id": "9EyHxjlP6mGY",
        "colab_type": "code",
        "colab": {
          "base_uri": "https://localhost:8080/",
          "height": 358
        },
        "outputId": "a485a715-9b21-42fe-fcfc-65a0fe13e267"
      },
      "source": [
        "# let's explore the values / categories of Cabin\n",
        "\n",
        "# we know from the previous cell that there are 148\n",
        "# different cabins, therefore the variable\n",
        "# is highly cardinal\n",
        "\n",
        "data.cabin.unique()"
      ],
      "execution_count": 13,
      "outputs": [
        {
          "output_type": "execute_result",
          "data": {
            "text/plain": [
              "array(['B5', 'C22', 'E12', 'D7', 'A36', 'C101', nan, 'C62', 'B35', 'A23',\n",
              "       'B58', 'D15', 'C6', 'D35', 'C148', 'C97', 'B49', 'C99', 'C52', 'T',\n",
              "       'A31', 'C7', 'C103', 'D22', 'E33', 'A21', 'B10', 'B4', 'E40',\n",
              "       'B38', 'E24', 'B51', 'B96', 'C46', 'E31', 'E8', 'B61', 'B77', 'A9',\n",
              "       'C89', 'A14', 'E58', 'E49', 'E52', 'E45', 'B22', 'B26', 'C85',\n",
              "       'E17', 'B71', 'B20', 'A34', 'C86', 'A16', 'A20', 'A18', 'C54',\n",
              "       'C45', 'D20', 'A29', 'C95', 'E25', 'C111', 'C23', 'E36', 'D34',\n",
              "       'D40', 'B39', 'B41', 'B102', 'C123', 'E63', 'C130', 'B86', 'C92',\n",
              "       'A5', 'C51', 'B42', 'C91', 'C125', 'D10', 'B82', 'E50', 'D33',\n",
              "       'C83', 'B94', 'D49', 'D45', 'B69', 'B11', 'E46', 'C39', 'B18',\n",
              "       'D11', 'C93', 'B28', 'C49', 'B52', 'E60', 'C132', 'B37', 'D21',\n",
              "       'D19', 'C124', 'D17', 'B101', 'D28', 'D6', 'D9', 'B80', 'C106',\n",
              "       'B79', 'C47', 'D30', 'C90', 'E38', 'C78', 'C30', 'C118', 'D36',\n",
              "       'D48', 'D47', 'C105', 'B36', 'B30', 'D43', 'B24', 'C2', 'C65',\n",
              "       'B73', 'C104', 'C110', 'C50', 'B3', 'A24', 'A32', 'A11', 'A10',\n",
              "       'B57', 'C28', 'E44', 'A26', 'A6', 'A7', 'C31', 'A19', 'B45', 'E34',\n",
              "       'B78', 'B50', 'C87', 'C116', 'C55', 'D50', 'E68', 'E67', 'C126',\n",
              "       'C68', 'C70', 'C53', 'B19', 'D46', 'D37', 'D26', 'C32', 'C80',\n",
              "       'C82', 'C128', 'E39', 'D', 'F4', 'D56', 'F33', 'E101', 'E77', 'F2',\n",
              "       'D38', 'F', 'E121', 'E10', 'G6', 'F38'], dtype=object)"
            ]
          },
          "metadata": {
            "tags": []
          },
          "execution_count": 13
        }
      ]
    },
    {
      "cell_type": "markdown",
      "metadata": {
        "id": "fijPEl2H684l",
        "colab_type": "text"
      },
      "source": [
        "Let's now reduce the cardinality of the variable. How? instead of using the entire cabin value, I will capture only the first letter.\n",
        "\n",
        "Rationale: the first letter indicates the deck on which the cabin was located, and is therefore an indication of both social class status and proximity to the surface of the Titanic. Both are known to improve the probability of survival."
      ]
    },
    {
      "cell_type": "code",
      "metadata": {
        "id": "ObyRhpci6yH6",
        "colab_type": "code",
        "colab": {
          "base_uri": "https://localhost:8080/",
          "height": 197
        },
        "outputId": "0db63b46-10ad-480f-d665-9ef9bde3591a"
      },
      "source": [
        "# let's capture the first letter of Cabin\n",
        "data['Cabin_reduced'] = data['cabin'].astype(str).str[0]\n",
        "\n",
        "data[['cabin', 'Cabin_reduced']].head()"
      ],
      "execution_count": 14,
      "outputs": [
        {
          "output_type": "execute_result",
          "data": {
            "text/html": [
              "<div>\n",
              "<style scoped>\n",
              "    .dataframe tbody tr th:only-of-type {\n",
              "        vertical-align: middle;\n",
              "    }\n",
              "\n",
              "    .dataframe tbody tr th {\n",
              "        vertical-align: top;\n",
              "    }\n",
              "\n",
              "    .dataframe thead th {\n",
              "        text-align: right;\n",
              "    }\n",
              "</style>\n",
              "<table border=\"1\" class=\"dataframe\">\n",
              "  <thead>\n",
              "    <tr style=\"text-align: right;\">\n",
              "      <th></th>\n",
              "      <th>cabin</th>\n",
              "      <th>Cabin_reduced</th>\n",
              "    </tr>\n",
              "  </thead>\n",
              "  <tbody>\n",
              "    <tr>\n",
              "      <th>0</th>\n",
              "      <td>B5</td>\n",
              "      <td>B</td>\n",
              "    </tr>\n",
              "    <tr>\n",
              "      <th>1</th>\n",
              "      <td>C22</td>\n",
              "      <td>C</td>\n",
              "    </tr>\n",
              "    <tr>\n",
              "      <th>2</th>\n",
              "      <td>C22</td>\n",
              "      <td>C</td>\n",
              "    </tr>\n",
              "    <tr>\n",
              "      <th>3</th>\n",
              "      <td>C22</td>\n",
              "      <td>C</td>\n",
              "    </tr>\n",
              "    <tr>\n",
              "      <th>4</th>\n",
              "      <td>C22</td>\n",
              "      <td>C</td>\n",
              "    </tr>\n",
              "  </tbody>\n",
              "</table>\n",
              "</div>"
            ],
            "text/plain": [
              "  cabin Cabin_reduced\n",
              "0    B5             B\n",
              "1   C22             C\n",
              "2   C22             C\n",
              "3   C22             C\n",
              "4   C22             C"
            ]
          },
          "metadata": {
            "tags": []
          },
          "execution_count": 14
        }
      ]
    },
    {
      "cell_type": "code",
      "metadata": {
        "id": "IoIyRdjm6_vk",
        "colab_type": "code",
        "colab": {
          "base_uri": "https://localhost:8080/",
          "height": 51
        },
        "outputId": "559b3585-8e18-43b5-bc50-d661ad9cd841"
      },
      "source": [
        "print('Number of categories in the variable Cabin: {}'.format(\n",
        "    len(data.cabin.unique())))\n",
        "\n",
        "print('Number of categories in the variable Cabin reduced: {}'.format(\n",
        "    len(data.Cabin_reduced.unique())))"
      ],
      "execution_count": 15,
      "outputs": [
        {
          "output_type": "stream",
          "text": [
            "Number of categories in the variable Cabin: 182\n",
            "Number of categories in the variable Cabin reduced: 9\n"
          ],
          "name": "stdout"
        }
      ]
    },
    {
      "cell_type": "code",
      "metadata": {
        "id": "qMHCc5jd7DyR",
        "colab_type": "code",
        "colab": {}
      },
      "source": [
        "import matplotlib.pyplot as plt\n",
        "\n",
        "# to build machine learning models\n",
        "from sklearn.linear_model import LogisticRegression\n",
        "from sklearn.ensemble import AdaBoostClassifier\n",
        "from sklearn.ensemble import RandomForestClassifier\n",
        "from sklearn.ensemble import GradientBoostingClassifier\n",
        "\n",
        "# to evaluate the models\n",
        "from sklearn.metrics import roc_auc_score\n",
        "\n",
        "# to separate data into train and test\n",
        "from sklearn.model_selection import train_test_split"
      ],
      "execution_count": 16,
      "outputs": []
    },
    {
      "cell_type": "code",
      "metadata": {
        "id": "oy8WiXa77YkR",
        "colab_type": "code",
        "colab": {
          "base_uri": "https://localhost:8080/",
          "height": 34
        },
        "outputId": "94596d0e-10fd-42f8-a12b-5f92d0563153"
      },
      "source": [
        "# let's separate into training and testing set\n",
        "# in order to build machine learning models\n",
        "\n",
        "use_cols = ['cabin', 'Cabin_reduced', 'sex']\n",
        "\n",
        "# this functions comes from scikit-learn\n",
        "X_train, X_test, y_train, y_test = train_test_split(\n",
        "    data[use_cols], \n",
        "    data['survived'],  \n",
        "    test_size=0.3,\n",
        "    random_state=0)\n",
        "\n",
        "X_train.shape, X_test.shape"
      ],
      "execution_count": 17,
      "outputs": [
        {
          "output_type": "execute_result",
          "data": {
            "text/plain": [
              "((916, 3), (393, 3))"
            ]
          },
          "metadata": {
            "tags": []
          },
          "execution_count": 17
        }
      ]
    },
    {
      "cell_type": "markdown",
      "metadata": {
        "id": "D9F9CkLR7niG",
        "colab_type": "text"
      },
      "source": [
        "High cardinality leads to uneven distribution of categories in train and test sets\n",
        "When a variable is highly cardinal, often some categories land only on the training set, or only on the testing set. If present only in the training set, they may lead to over-fitting. If present only on the testing set, the machine learning algorithm will not know how to handle them, as it has not seen them during training."
      ]
    },
    {
      "cell_type": "code",
      "metadata": {
        "id": "4Ar7rd7J7dy7",
        "colab_type": "code",
        "colab": {
          "base_uri": "https://localhost:8080/",
          "height": 34
        },
        "outputId": "6b1e5381-4b32-485a-a1a5-e607cfba5266"
      },
      "source": [
        "# Let's find out labels present only in the training set\n",
        "\n",
        "unique_to_train_set = [\n",
        "    x for x in X_train.cabin.unique() if x not in X_test.cabin.unique()\n",
        "]\n",
        "\n",
        "len(unique_to_train_set)"
      ],
      "execution_count": 18,
      "outputs": [
        {
          "output_type": "execute_result",
          "data": {
            "text/plain": [
              "113"
            ]
          },
          "metadata": {
            "tags": []
          },
          "execution_count": 18
        }
      ]
    },
    {
      "cell_type": "markdown",
      "metadata": {
        "id": "D8J5DIDE7yGI",
        "colab_type": "text"
      },
      "source": [
        "There are 113 Cabins only present in the training set, and not in the testing set."
      ]
    },
    {
      "cell_type": "code",
      "metadata": {
        "id": "6HZeifr17mEB",
        "colab_type": "code",
        "colab": {
          "base_uri": "https://localhost:8080/",
          "height": 34
        },
        "outputId": "a916c5fb-8533-4499-844d-be59565f0973"
      },
      "source": [
        "# Let's find out labels present only in the test set\n",
        "\n",
        "unique_to_test_set = [\n",
        "    x for x in X_test.cabin.unique() if x not in X_train.cabin.unique()\n",
        "]\n",
        "\n",
        "len(unique_to_test_set)"
      ],
      "execution_count": 19,
      "outputs": [
        {
          "output_type": "execute_result",
          "data": {
            "text/plain": [
              "36"
            ]
          },
          "metadata": {
            "tags": []
          },
          "execution_count": 19
        }
      ]
    },
    {
      "cell_type": "markdown",
      "metadata": {
        "id": "pNcUATuF99D0",
        "colab_type": "text"
      },
      "source": [
        "Variables with high cardinality tend to have values (i.e., categories) present in the training set, that are not present in the test set, and vice versa. This will bring problems at the time of training (due to over-fitting) and scoring of new data (how should the model deal with unseen categories?).\n",
        "\n",
        "This problem is almost overcome by reducing the cardinality of the variable. See below"
      ]
    },
    {
      "cell_type": "code",
      "metadata": {
        "id": "X1GgKkaL70kx",
        "colab_type": "code",
        "colab": {
          "base_uri": "https://localhost:8080/",
          "height": 34
        },
        "outputId": "0b92f6b0-a879-4227-b6d6-87e1e2879954"
      },
      "source": [
        "# Let's find out labels present only in the training set\n",
        "# for Cabin with reduced cardinality\n",
        "\n",
        "unique_to_train_set = [\n",
        "    x for x in X_train['Cabin_reduced'].unique()\n",
        "    if x not in X_test['Cabin_reduced'].unique()\n",
        "]\n",
        "\n",
        "len(unique_to_train_set)"
      ],
      "execution_count": 20,
      "outputs": [
        {
          "output_type": "execute_result",
          "data": {
            "text/plain": [
              "1"
            ]
          },
          "metadata": {
            "tags": []
          },
          "execution_count": 20
        }
      ]
    },
    {
      "cell_type": "code",
      "metadata": {
        "id": "jMOBc7Wa-GSo",
        "colab_type": "code",
        "colab": {
          "base_uri": "https://localhost:8080/",
          "height": 34
        },
        "outputId": "36d540c0-ba38-404c-be43-f77684847577"
      },
      "source": [
        "# Let's find out labels present only in the test set\n",
        "# for Cabin with reduced cardinality\n",
        "\n",
        "unique_to_test_set = [\n",
        "    x for x in X_test['Cabin_reduced'].unique()\n",
        "    if x not in X_train['Cabin_reduced'].unique()\n",
        "]\n",
        "\n",
        "len(unique_to_test_set)"
      ],
      "execution_count": 21,
      "outputs": [
        {
          "output_type": "execute_result",
          "data": {
            "text/plain": [
              "0"
            ]
          },
          "metadata": {
            "tags": []
          },
          "execution_count": 21
        }
      ]
    },
    {
      "cell_type": "markdown",
      "metadata": {
        "id": "L3LY_DI4-Tcq",
        "colab_type": "text"
      },
      "source": [
        "Observe how by reducing the cardinality there is now only 1 label in the training set that is not present in the test set. And no label in the test set that is not contained in the training set as well."
      ]
    },
    {
      "cell_type": "markdown",
      "metadata": {
        "id": "Nk8lkrz6-e0n",
        "colab_type": "text"
      },
      "source": [
        "### Effect of cardinality on Machine Learning Model Performance\n",
        "\n",
        "In order to evaluate the effect of categorical variables in machine learning models, I will quickly replace the categories by numbers."
      ]
    },
    {
      "cell_type": "code",
      "metadata": {
        "id": "kmsEtBOP-Kuq",
        "colab_type": "code",
        "colab": {
          "base_uri": "https://localhost:8080/",
          "height": 1000
        },
        "outputId": "8ea482fa-9302-4b57-b93c-5bd08cbfd84f"
      },
      "source": [
        "# Let's re-map Cabin into numbers so we can use it to train ML models\n",
        "\n",
        "\n",
        "cabin_dict = {k: i for i, k in enumerate(X_train.cabin.unique(), 0)}\n",
        "cabin_dict"
      ],
      "execution_count": 22,
      "outputs": [
        {
          "output_type": "execute_result",
          "data": {
            "text/plain": [
              "{'A10': 142,\n",
              " 'A11': 51,\n",
              " 'A14': 93,\n",
              " 'A16': 143,\n",
              " 'A18': 23,\n",
              " 'A20': 82,\n",
              " 'A21': 47,\n",
              " 'A24': 7,\n",
              " 'A26': 22,\n",
              " 'A29': 49,\n",
              " 'A34': 37,\n",
              " 'A36': 104,\n",
              " 'A5': 95,\n",
              " 'A6': 101,\n",
              " 'A9': 58,\n",
              " 'B102': 80,\n",
              " 'B18': 111,\n",
              " 'B19': 108,\n",
              " 'B20': 137,\n",
              " 'B24': 98,\n",
              " 'B26': 32,\n",
              " 'B28': 97,\n",
              " 'B3': 77,\n",
              " 'B30': 115,\n",
              " 'B35': 18,\n",
              " 'B36': 83,\n",
              " 'B37': 144,\n",
              " 'B4': 130,\n",
              " 'B41': 134,\n",
              " 'B42': 103,\n",
              " 'B45': 13,\n",
              " 'B49': 96,\n",
              " 'B5': 42,\n",
              " 'B50': 6,\n",
              " 'B51': 52,\n",
              " 'B52': 72,\n",
              " 'B57': 21,\n",
              " 'B58': 70,\n",
              " 'B61': 81,\n",
              " 'B69': 33,\n",
              " 'B71': 59,\n",
              " 'B73': 20,\n",
              " 'B77': 85,\n",
              " 'B78': 146,\n",
              " 'B86': 90,\n",
              " 'B94': 36,\n",
              " 'B96': 24,\n",
              " 'C101': 27,\n",
              " 'C103': 124,\n",
              " 'C105': 88,\n",
              " 'C110': 123,\n",
              " 'C111': 8,\n",
              " 'C116': 107,\n",
              " 'C118': 126,\n",
              " 'C123': 35,\n",
              " 'C124': 64,\n",
              " 'C125': 17,\n",
              " 'C126': 66,\n",
              " 'C128': 30,\n",
              " 'C130': 118,\n",
              " 'C132': 91,\n",
              " 'C148': 87,\n",
              " 'C2': 99,\n",
              " 'C22': 4,\n",
              " 'C23': 65,\n",
              " 'C28': 138,\n",
              " 'C30': 55,\n",
              " 'C39': 39,\n",
              " 'C49': 135,\n",
              " 'C51': 120,\n",
              " 'C52': 105,\n",
              " 'C54': 94,\n",
              " 'C55': 62,\n",
              " 'C6': 10,\n",
              " 'C62': 132,\n",
              " 'C65': 75,\n",
              " 'C68': 2,\n",
              " 'C7': 84,\n",
              " 'C78': 26,\n",
              " 'C80': 145,\n",
              " 'C82': 71,\n",
              " 'C83': 102,\n",
              " 'C85': 136,\n",
              " 'C86': 92,\n",
              " 'C87': 11,\n",
              " 'C89': 63,\n",
              " 'C90': 125,\n",
              " 'C91': 79,\n",
              " 'C92': 73,\n",
              " 'C93': 14,\n",
              " 'C95': 112,\n",
              " 'C97': 127,\n",
              " 'C99': 140,\n",
              " 'D': 38,\n",
              " 'D15': 113,\n",
              " 'D17': 43,\n",
              " 'D19': 69,\n",
              " 'D20': 86,\n",
              " 'D21': 116,\n",
              " 'D26': 56,\n",
              " 'D28': 15,\n",
              " 'D30': 121,\n",
              " 'D33': 29,\n",
              " 'D34': 48,\n",
              " 'D35': 50,\n",
              " 'D36': 16,\n",
              " 'D37': 60,\n",
              " 'D38': 5,\n",
              " 'D40': 78,\n",
              " 'D43': 40,\n",
              " 'D46': 53,\n",
              " 'D47': 128,\n",
              " 'D49': 141,\n",
              " 'D50': 131,\n",
              " 'D56': 106,\n",
              " 'D6': 119,\n",
              " 'D7': 46,\n",
              " 'D9': 28,\n",
              " 'E10': 117,\n",
              " 'E101': 110,\n",
              " 'E121': 34,\n",
              " 'E17': 133,\n",
              " 'E24': 3,\n",
              " 'E25': 76,\n",
              " 'E31': 41,\n",
              " 'E33': 114,\n",
              " 'E34': 129,\n",
              " 'E36': 1,\n",
              " 'E38': 89,\n",
              " 'E44': 45,\n",
              " 'E45': 74,\n",
              " 'E46': 68,\n",
              " 'E49': 67,\n",
              " 'E50': 31,\n",
              " 'E60': 54,\n",
              " 'E63': 139,\n",
              " 'E67': 122,\n",
              " 'E68': 57,\n",
              " 'E77': 109,\n",
              " 'E8': 12,\n",
              " 'F': 9,\n",
              " 'F2': 61,\n",
              " 'F33': 44,\n",
              " 'F4': 100,\n",
              " 'G6': 25,\n",
              " 'T': 19,\n",
              " nan: 0}"
            ]
          },
          "metadata": {
            "tags": []
          },
          "execution_count": 22
        }
      ]
    },
    {
      "cell_type": "code",
      "metadata": {
        "id": "zwwk9Esy-_0X",
        "colab_type": "code",
        "colab": {
          "base_uri": "https://localhost:8080/",
          "height": 346
        },
        "outputId": "2c765624-ee5d-4179-e7f7-fe1f47550bbc"
      },
      "source": [
        "# replace the labels in Cabin, using the dic created above\n",
        "X_train.loc[:, 'Cabin_mapped'] = X_train.loc[:, 'cabin'].map(cabin_dict)\n",
        "X_test.loc[:, 'Cabin_mapped'] = X_test.loc[:, 'cabin'].map(cabin_dict)\n",
        "\n",
        "X_train[['Cabin_mapped', 'cabin']].head(10)"
      ],
      "execution_count": 23,
      "outputs": [
        {
          "output_type": "execute_result",
          "data": {
            "text/html": [
              "<div>\n",
              "<style scoped>\n",
              "    .dataframe tbody tr th:only-of-type {\n",
              "        vertical-align: middle;\n",
              "    }\n",
              "\n",
              "    .dataframe tbody tr th {\n",
              "        vertical-align: top;\n",
              "    }\n",
              "\n",
              "    .dataframe thead th {\n",
              "        text-align: right;\n",
              "    }\n",
              "</style>\n",
              "<table border=\"1\" class=\"dataframe\">\n",
              "  <thead>\n",
              "    <tr style=\"text-align: right;\">\n",
              "      <th></th>\n",
              "      <th>Cabin_mapped</th>\n",
              "      <th>cabin</th>\n",
              "    </tr>\n",
              "  </thead>\n",
              "  <tbody>\n",
              "    <tr>\n",
              "      <th>501</th>\n",
              "      <td>0</td>\n",
              "      <td>NaN</td>\n",
              "    </tr>\n",
              "    <tr>\n",
              "      <th>588</th>\n",
              "      <td>0</td>\n",
              "      <td>NaN</td>\n",
              "    </tr>\n",
              "    <tr>\n",
              "      <th>402</th>\n",
              "      <td>0</td>\n",
              "      <td>NaN</td>\n",
              "    </tr>\n",
              "    <tr>\n",
              "      <th>1193</th>\n",
              "      <td>0</td>\n",
              "      <td>NaN</td>\n",
              "    </tr>\n",
              "    <tr>\n",
              "      <th>686</th>\n",
              "      <td>0</td>\n",
              "      <td>NaN</td>\n",
              "    </tr>\n",
              "    <tr>\n",
              "      <th>971</th>\n",
              "      <td>0</td>\n",
              "      <td>NaN</td>\n",
              "    </tr>\n",
              "    <tr>\n",
              "      <th>117</th>\n",
              "      <td>1</td>\n",
              "      <td>E36</td>\n",
              "    </tr>\n",
              "    <tr>\n",
              "      <th>540</th>\n",
              "      <td>0</td>\n",
              "      <td>NaN</td>\n",
              "    </tr>\n",
              "    <tr>\n",
              "      <th>294</th>\n",
              "      <td>2</td>\n",
              "      <td>C68</td>\n",
              "    </tr>\n",
              "    <tr>\n",
              "      <th>261</th>\n",
              "      <td>3</td>\n",
              "      <td>E24</td>\n",
              "    </tr>\n",
              "  </tbody>\n",
              "</table>\n",
              "</div>"
            ],
            "text/plain": [
              "      Cabin_mapped cabin\n",
              "501              0   NaN\n",
              "588              0   NaN\n",
              "402              0   NaN\n",
              "1193             0   NaN\n",
              "686              0   NaN\n",
              "971              0   NaN\n",
              "117              1   E36\n",
              "540              0   NaN\n",
              "294              2   C68\n",
              "261              3   E24"
            ]
          },
          "metadata": {
            "tags": []
          },
          "execution_count": 23
        }
      ]
    },
    {
      "cell_type": "markdown",
      "metadata": {
        "id": "r_q8LjUO_PBq",
        "colab_type": "text"
      },
      "source": [
        "We see how NaN takes the value 0 in the new variable, E36 takes the value 1, C68 takes the value 2, and so on."
      ]
    },
    {
      "cell_type": "code",
      "metadata": {
        "id": "dePZ9J6iBFRq",
        "colab_type": "code",
        "colab": {
          "base_uri": "https://localhost:8080/",
          "height": 645
        },
        "outputId": "b5b75feb-89aa-416c-ac01-1b292c6b2e7a"
      },
      "source": [
        "# Now I will replace the letters in the reduced cabin variable\n",
        "# with the same procedure\n",
        "\n",
        "# create replace dictionary\n",
        "cabin_dict = {k: i for i, k in enumerate(X_train['Cabin_reduced'].unique(), 0)}\n",
        "\n",
        "# replace labels by numbers with dictionary\n",
        "X_train.loc[:, 'Cabin_reduced'] = X_train.loc[:, 'Cabin_reduced'].map(\n",
        "    cabin_dict)\n",
        "X_test.loc[:, 'Cabin_reduced'] = X_test.loc[:, 'Cabin_reduced'].map(cabin_dict)\n",
        "\n",
        "X_train[['Cabin_reduced', 'cabin']].head(20)"
      ],
      "execution_count": 24,
      "outputs": [
        {
          "output_type": "execute_result",
          "data": {
            "text/html": [
              "<div>\n",
              "<style scoped>\n",
              "    .dataframe tbody tr th:only-of-type {\n",
              "        vertical-align: middle;\n",
              "    }\n",
              "\n",
              "    .dataframe tbody tr th {\n",
              "        vertical-align: top;\n",
              "    }\n",
              "\n",
              "    .dataframe thead th {\n",
              "        text-align: right;\n",
              "    }\n",
              "</style>\n",
              "<table border=\"1\" class=\"dataframe\">\n",
              "  <thead>\n",
              "    <tr style=\"text-align: right;\">\n",
              "      <th></th>\n",
              "      <th>Cabin_reduced</th>\n",
              "      <th>cabin</th>\n",
              "    </tr>\n",
              "  </thead>\n",
              "  <tbody>\n",
              "    <tr>\n",
              "      <th>501</th>\n",
              "      <td>0</td>\n",
              "      <td>NaN</td>\n",
              "    </tr>\n",
              "    <tr>\n",
              "      <th>588</th>\n",
              "      <td>0</td>\n",
              "      <td>NaN</td>\n",
              "    </tr>\n",
              "    <tr>\n",
              "      <th>402</th>\n",
              "      <td>0</td>\n",
              "      <td>NaN</td>\n",
              "    </tr>\n",
              "    <tr>\n",
              "      <th>1193</th>\n",
              "      <td>0</td>\n",
              "      <td>NaN</td>\n",
              "    </tr>\n",
              "    <tr>\n",
              "      <th>686</th>\n",
              "      <td>0</td>\n",
              "      <td>NaN</td>\n",
              "    </tr>\n",
              "    <tr>\n",
              "      <th>971</th>\n",
              "      <td>0</td>\n",
              "      <td>NaN</td>\n",
              "    </tr>\n",
              "    <tr>\n",
              "      <th>117</th>\n",
              "      <td>1</td>\n",
              "      <td>E36</td>\n",
              "    </tr>\n",
              "    <tr>\n",
              "      <th>540</th>\n",
              "      <td>0</td>\n",
              "      <td>NaN</td>\n",
              "    </tr>\n",
              "    <tr>\n",
              "      <th>294</th>\n",
              "      <td>2</td>\n",
              "      <td>C68</td>\n",
              "    </tr>\n",
              "    <tr>\n",
              "      <th>261</th>\n",
              "      <td>1</td>\n",
              "      <td>E24</td>\n",
              "    </tr>\n",
              "    <tr>\n",
              "      <th>587</th>\n",
              "      <td>0</td>\n",
              "      <td>NaN</td>\n",
              "    </tr>\n",
              "    <tr>\n",
              "      <th>489</th>\n",
              "      <td>0</td>\n",
              "      <td>NaN</td>\n",
              "    </tr>\n",
              "    <tr>\n",
              "      <th>2</th>\n",
              "      <td>2</td>\n",
              "      <td>C22</td>\n",
              "    </tr>\n",
              "    <tr>\n",
              "      <th>405</th>\n",
              "      <td>0</td>\n",
              "      <td>NaN</td>\n",
              "    </tr>\n",
              "    <tr>\n",
              "      <th>1284</th>\n",
              "      <td>0</td>\n",
              "      <td>NaN</td>\n",
              "    </tr>\n",
              "    <tr>\n",
              "      <th>338</th>\n",
              "      <td>0</td>\n",
              "      <td>NaN</td>\n",
              "    </tr>\n",
              "    <tr>\n",
              "      <th>356</th>\n",
              "      <td>0</td>\n",
              "      <td>NaN</td>\n",
              "    </tr>\n",
              "    <tr>\n",
              "      <th>985</th>\n",
              "      <td>0</td>\n",
              "      <td>NaN</td>\n",
              "    </tr>\n",
              "    <tr>\n",
              "      <th>182</th>\n",
              "      <td>0</td>\n",
              "      <td>NaN</td>\n",
              "    </tr>\n",
              "    <tr>\n",
              "      <th>1027</th>\n",
              "      <td>0</td>\n",
              "      <td>NaN</td>\n",
              "    </tr>\n",
              "  </tbody>\n",
              "</table>\n",
              "</div>"
            ],
            "text/plain": [
              "      Cabin_reduced cabin\n",
              "501               0   NaN\n",
              "588               0   NaN\n",
              "402               0   NaN\n",
              "1193              0   NaN\n",
              "686               0   NaN\n",
              "971               0   NaN\n",
              "117               1   E36\n",
              "540               0   NaN\n",
              "294               2   C68\n",
              "261               1   E24\n",
              "587               0   NaN\n",
              "489               0   NaN\n",
              "2                 2   C22\n",
              "405               0   NaN\n",
              "1284              0   NaN\n",
              "338               0   NaN\n",
              "356               0   NaN\n",
              "985               0   NaN\n",
              "182               0   NaN\n",
              "1027              0   NaN"
            ]
          },
          "metadata": {
            "tags": []
          },
          "execution_count": 24
        }
      ]
    },
    {
      "cell_type": "code",
      "metadata": {
        "id": "Jjfr64v0_KkA",
        "colab_type": "code",
        "colab": {
          "base_uri": "https://localhost:8080/",
          "height": 119
        },
        "outputId": "ce01a5fa-c35a-44cd-9fdc-443960c93ce4"
      },
      "source": [
        "# re-map the categorical variable Sex into numbers\n",
        "\n",
        "X_train.loc[:, 'sex'] = X_train.loc[:, 'sex'].map({'male': 0, 'female': 1})\n",
        "X_test.loc[:, 'sex'] = X_test.loc[:, 'sex'].map({'male': 0, 'female': 1})\n",
        "\n",
        "X_train.sex.head()"
      ],
      "execution_count": 25,
      "outputs": [
        {
          "output_type": "execute_result",
          "data": {
            "text/plain": [
              "501     1\n",
              "588     1\n",
              "402     1\n",
              "1193    0\n",
              "686     1\n",
              "Name: sex, dtype: int64"
            ]
          },
          "metadata": {
            "tags": []
          },
          "execution_count": 25
        }
      ]
    },
    {
      "cell_type": "code",
      "metadata": {
        "id": "tGRXlwdS_vwe",
        "colab_type": "code",
        "colab": {
          "base_uri": "https://localhost:8080/",
          "height": 85
        },
        "outputId": "974fa606-186b-4515-f3ee-41600cf229e0"
      },
      "source": [
        "# check if there are missing values in these variables\n",
        "\n",
        "X_train[['Cabin_mapped', 'Cabin_reduced', 'sex']].isnull().sum()"
      ],
      "execution_count": 26,
      "outputs": [
        {
          "output_type": "execute_result",
          "data": {
            "text/plain": [
              "Cabin_mapped     0\n",
              "Cabin_reduced    0\n",
              "sex              0\n",
              "dtype: int64"
            ]
          },
          "metadata": {
            "tags": []
          },
          "execution_count": 26
        }
      ]
    },
    {
      "cell_type": "code",
      "metadata": {
        "id": "M3P9QDOp_zHt",
        "colab_type": "code",
        "colab": {
          "base_uri": "https://localhost:8080/",
          "height": 85
        },
        "outputId": "189941c2-87ed-4fee-bfae-f20d524b1793"
      },
      "source": [
        "X_test[['Cabin_mapped', 'Cabin_reduced', 'sex']].isnull().sum()"
      ],
      "execution_count": 27,
      "outputs": [
        {
          "output_type": "execute_result",
          "data": {
            "text/plain": [
              "Cabin_mapped     41\n",
              "Cabin_reduced     0\n",
              "sex               0\n",
              "dtype: int64"
            ]
          },
          "metadata": {
            "tags": []
          },
          "execution_count": 27
        }
      ]
    },
    {
      "cell_type": "markdown",
      "metadata": {
        "id": "T7uUY0nIABSw",
        "colab_type": "text"
      },
      "source": [
        "In the test set, there are now 41 missing values for the highly cardinal variable. These were introduced when encoding the categories into numbers.\n",
        "\n",
        "How?\n",
        "\n",
        "Many categories exist only in the test set. Thus, when we created our encoding dictionary using only the train set, we did not generate a number to replace those labels present only in the test set. \n",
        "\n",
        "For now, I will fill those missing values with 0."
      ]
    },
    {
      "cell_type": "code",
      "metadata": {
        "id": "3ZLQup9SARjT",
        "colab_type": "code",
        "colab": {
          "base_uri": "https://localhost:8080/",
          "height": 34
        },
        "outputId": "d3fd05f1-55f8-4db2-a9ed-916dcb58afbc"
      },
      "source": [
        "# let's check the number of different categories in the encoded variables\n",
        "len(X_train.Cabin_mapped.unique()), len(X_train.Cabin_reduced.unique())"
      ],
      "execution_count": 28,
      "outputs": [
        {
          "output_type": "execute_result",
          "data": {
            "text/plain": [
              "(147, 9)"
            ]
          },
          "metadata": {
            "tags": []
          },
          "execution_count": 28
        }
      ]
    },
    {
      "cell_type": "code",
      "metadata": {
        "id": "HUNbfQE-A6Kd",
        "colab_type": "code",
        "colab": {
          "base_uri": "https://localhost:8080/",
          "height": 34
        },
        "outputId": "8eafe9cf-e94b-451c-f4cb-98289bea2fd7"
      },
      "source": [
        "X_train.Cabin_reduced.unique()"
      ],
      "execution_count": 29,
      "outputs": [
        {
          "output_type": "execute_result",
          "data": {
            "text/plain": [
              "array([0, 1, 2, 3, 4, 5, 6, 7, 8])"
            ]
          },
          "metadata": {
            "tags": []
          },
          "execution_count": 29
        }
      ]
    },
    {
      "cell_type": "markdown",
      "metadata": {
        "id": "g6WgmIGEAZcC",
        "colab_type": "text"
      },
      "source": [
        "Let's go ahead and evaluate the effect of labels in machine learning algorithms.\n",
        "\n",
        "### Random Forest"
      ]
    },
    {
      "cell_type": "code",
      "metadata": {
        "id": "it9qN8g4ATVj",
        "colab_type": "code",
        "colab": {
          "base_uri": "https://localhost:8080/",
          "height": 85
        },
        "outputId": "96926530-f393-496e-88d5-ec767d45a2d7"
      },
      "source": [
        "# model built on data with high cardinality for cabin\n",
        "\n",
        "# call the model\n",
        "rf = RandomForestClassifier(n_estimators=200, random_state=39)\n",
        "\n",
        "# train the model\n",
        "rf.fit(X_train[['Cabin_mapped', 'sex']], y_train)\n",
        "\n",
        "# make predictions on train and test set\n",
        "pred_train = rf.predict_proba(X_train[['Cabin_mapped', 'sex']])\n",
        "pred_test = rf.predict_proba(X_test[['Cabin_mapped', 'sex']].fillna(0))\n",
        "\n",
        "print('Train set')\n",
        "print('Random Forests roc-auc: {}'.format(roc_auc_score(y_train, pred_train[:,1])))\n",
        "print('Test set')\n",
        "print('Random Forests roc-auc: {}'.format(roc_auc_score(y_test, pred_test[:,1])))"
      ],
      "execution_count": 30,
      "outputs": [
        {
          "output_type": "stream",
          "text": [
            "Train set\n",
            "Random Forests roc-auc: 0.853790650048556\n",
            "Test set\n",
            "Random Forests roc-auc: 0.7691361097284443\n"
          ],
          "name": "stdout"
        }
      ]
    },
    {
      "cell_type": "markdown",
      "metadata": {
        "id": "2ya9ix80ApqM",
        "colab_type": "text"
      },
      "source": [
        "We observe that the performance of the Random Forests on the training set is quite superior to its performance in the test set. This indicates that the model is over-fitting, which means that it does a great job at predicting the outcome on the dataset it was trained on, but it lacks the power to generalise the prediction to unseen data."
      ]
    },
    {
      "cell_type": "code",
      "metadata": {
        "id": "7uGyUaKqAlUh",
        "colab_type": "code",
        "colab": {
          "base_uri": "https://localhost:8080/",
          "height": 85
        },
        "outputId": "55f5c200-f275-4194-a6f7-31bd73027295"
      },
      "source": [
        "# model built on data with low cardinality for cabin\n",
        "\n",
        "# call the model\n",
        "rf = RandomForestClassifier(n_estimators=200, random_state=39)\n",
        "\n",
        "# train the model\n",
        "rf.fit(X_train[['Cabin_reduced', 'sex']], y_train)\n",
        "\n",
        "# make predictions on train and test set\n",
        "pred_train = rf.predict_proba(X_train[['Cabin_reduced', 'sex']])\n",
        "pred_test = rf.predict_proba(X_test[['Cabin_reduced', 'sex']])\n",
        "\n",
        "print('Train set')\n",
        "print('Random Forests roc-auc: {}'.format(roc_auc_score(y_train, pred_train[:,1])))\n",
        "print('Test set')\n",
        "print('Random Forests roc-auc: {}'.format(roc_auc_score(y_test, pred_test[:,1])))"
      ],
      "execution_count": 31,
      "outputs": [
        {
          "output_type": "stream",
          "text": [
            "Train set\n",
            "Random Forests roc-auc: 0.8163420365403872\n",
            "Test set\n",
            "Random Forests roc-auc: 0.8017670482827277\n"
          ],
          "name": "stdout"
        }
      ]
    },
    {
      "cell_type": "markdown",
      "metadata": {
        "id": "RT8o7sRPBj-m",
        "colab_type": "text"
      },
      "source": [
        "We can see now that the Random Forests no longer over-fit to the training set. In addition, the model is much better at generalising the predictions (compare the roc-auc of this model on the test set vs the roc-auc of the model above also in the test set: 0.81 vs 0.80)"
      ]
    },
    {
      "cell_type": "markdown",
      "metadata": {
        "id": "-eL4_8V6Bpq1",
        "colab_type": "text"
      },
      "source": [
        "### Adaboost"
      ]
    },
    {
      "cell_type": "code",
      "metadata": {
        "id": "7yAvPpewAuVE",
        "colab_type": "code",
        "colab": {
          "base_uri": "https://localhost:8080/",
          "height": 85
        },
        "outputId": "1619b92f-95a5-4fe3-8894-0edbac537526"
      },
      "source": [
        "# model build on data with plenty of categories in Cabin\n",
        "\n",
        "# call the model\n",
        "ada = AdaBoostClassifier(n_estimators=200, random_state=44)\n",
        "\n",
        "# train the model\n",
        "ada.fit(X_train[['Cabin_mapped', 'sex']], y_train)\n",
        "\n",
        "# make predictions on train and test set\n",
        "pred_train = ada.predict_proba(X_train[['Cabin_mapped', 'sex']])\n",
        "pred_test = ada.predict_proba(X_test[['Cabin_mapped', 'sex']].fillna(0))\n",
        "\n",
        "print('Train set')\n",
        "print('Adaboost roc-auc: {}'.format(roc_auc_score(y_train, pred_train[:,1])))\n",
        "print('Test set')\n",
        "print('Adaboost roc-auc: {}'.format(roc_auc_score(y_test, pred_test[:,1])))"
      ],
      "execution_count": 32,
      "outputs": [
        {
          "output_type": "stream",
          "text": [
            "Train set\n",
            "Adaboost roc-auc: 0.8296861713101102\n",
            "Test set\n",
            "Adaboost roc-auc: 0.7604391350035948\n"
          ],
          "name": "stdout"
        }
      ]
    },
    {
      "cell_type": "code",
      "metadata": {
        "id": "ftx8By1PBri-",
        "colab_type": "code",
        "colab": {
          "base_uri": "https://localhost:8080/",
          "height": 85
        },
        "outputId": "5c322e82-c5ae-4b9c-ae82-a9c9e98b491b"
      },
      "source": [
        "# model build on data with fewer categories in Cabin Variable\n",
        "\n",
        "# call the model\n",
        "ada = AdaBoostClassifier(n_estimators=200, random_state=44)\n",
        "\n",
        "# train the model\n",
        "ada.fit(X_train[['Cabin_reduced', 'sex']], y_train)\n",
        "\n",
        "# make predictions on train and test set\n",
        "pred_train = ada.predict_proba(X_train[['Cabin_reduced', 'sex']])\n",
        "pred_test = ada.predict_proba(X_test[['Cabin_reduced', 'sex']].fillna(0))\n",
        "\n",
        "print('Train set')\n",
        "print('Adaboost roc-auc: {}'.format(roc_auc_score(y_train, pred_train[:,1])))\n",
        "print('Test set')\n",
        "print('Adaboost roc-auc: {}'.format(roc_auc_score(y_test, pred_test[:,1])))"
      ],
      "execution_count": 33,
      "outputs": [
        {
          "output_type": "stream",
          "text": [
            "Train set\n",
            "Adaboost roc-auc: 0.8161256723642566\n",
            "Test set\n",
            "Adaboost roc-auc: 0.8001078480172557\n"
          ],
          "name": "stdout"
        }
      ]
    },
    {
      "cell_type": "markdown",
      "metadata": {
        "id": "P9c29h-TB4u0",
        "colab_type": "text"
      },
      "source": [
        "Similarly, the Adaboost model trained on the variable with high cardinality is overfit to the train set. Whereas the Adaboost trained on the low cardinal variable is not overfitting and therefore does a better job in generalising the predictions.\n",
        "\n",
        "In addition, building an AdaBoost on a model with less categories in Cabin, is a) simpler and b) should a different category in the test set appear, by taking just the front letter of cabin, the ML model will know how to handle it because it was seen during training."
      ]
    },
    {
      "cell_type": "code",
      "metadata": {
        "id": "M-7eNMPPBt1V",
        "colab_type": "code",
        "colab": {}
      },
      "source": [
        ""
      ],
      "execution_count": null,
      "outputs": []
    },
    {
      "cell_type": "markdown",
      "metadata": {
        "id": "xzo34vpxB7zm",
        "colab_type": "text"
      },
      "source": [
        "### Logistic Regression"
      ]
    },
    {
      "cell_type": "code",
      "metadata": {
        "id": "t00lgNq4B_CU",
        "colab_type": "code",
        "colab": {
          "base_uri": "https://localhost:8080/",
          "height": 85
        },
        "outputId": "ee3b048f-d447-4e37-f8fe-572f746af00a"
      },
      "source": [
        "# model build on data with plenty of categories in Cabin variable\n",
        "\n",
        "# call the model\n",
        "logit = LogisticRegression(random_state=44, solver='lbfgs')\n",
        "\n",
        "# train the model\n",
        "logit.fit(X_train[['Cabin_mapped', 'sex']], y_train)\n",
        "\n",
        "# make predictions on train and test set\n",
        "pred_train = logit.predict_proba(X_train[['Cabin_mapped', 'sex']])\n",
        "pred_test = logit.predict_proba(X_test[['Cabin_mapped', 'sex']].fillna(0))\n",
        "\n",
        "print('Train set')\n",
        "print('Logistic regression roc-auc: {}'.format(roc_auc_score(y_train, pred_train[:,1])))\n",
        "print('Test set')\n",
        "print('Logistic regression roc-auc: {}'.format(roc_auc_score(y_test, pred_test[:,1])))"
      ],
      "execution_count": 34,
      "outputs": [
        {
          "output_type": "stream",
          "text": [
            "Train set\n",
            "Logistic regression roc-auc: 0.8133909298124677\n",
            "Test set\n",
            "Logistic regression roc-auc: 0.7750815773463858\n"
          ],
          "name": "stdout"
        }
      ]
    },
    {
      "cell_type": "code",
      "metadata": {
        "id": "7ugNSEl6B_li",
        "colab_type": "code",
        "colab": {
          "base_uri": "https://localhost:8080/",
          "height": 85
        },
        "outputId": "258e781b-fc1e-4180-9409-73cf5385753c"
      },
      "source": [
        "# model build on data with fewer categories in Cabin Variable\n",
        "\n",
        "# call the model\n",
        "logit = LogisticRegression(random_state=44, solver='lbfgs')\n",
        "\n",
        "# train the model\n",
        "logit.fit(X_train[['Cabin_reduced', 'sex']], y_train)\n",
        "\n",
        "# make predictions on train and test set\n",
        "pred_train = logit.predict_proba(X_train[['Cabin_reduced', 'sex']])\n",
        "pred_test = logit.predict_proba(X_test[['Cabin_reduced', 'sex']].fillna(0))\n",
        "\n",
        "print('Train set')\n",
        "print('Logistic regression roc-auc: {}'.format(roc_auc_score(y_train, pred_train[:,1])))\n",
        "print('Test set')\n",
        "print('Logistic regression roc-auc: {}'.format(roc_auc_score(y_test, pred_test[:,1])))"
      ],
      "execution_count": 35,
      "outputs": [
        {
          "output_type": "stream",
          "text": [
            "Train set\n",
            "Logistic regression roc-auc: 0.8123468468695123\n",
            "Test set\n",
            "Logistic regression roc-auc: 0.8008268347989602\n"
          ],
          "name": "stdout"
        }
      ]
    },
    {
      "cell_type": "markdown",
      "metadata": {
        "id": "ApJH6hojCG7G",
        "colab_type": "text"
      },
      "source": [
        "We can draw the same conclusion for Logistic Regression: reducing the cardinality improves the performance and generalisation of the algorithm."
      ]
    },
    {
      "cell_type": "markdown",
      "metadata": {
        "id": "RFazGzLbCJ3L",
        "colab_type": "text"
      },
      "source": [
        "### Gradient Boosted Classifier"
      ]
    },
    {
      "cell_type": "code",
      "metadata": {
        "id": "Jp--K6VtCCl5",
        "colab_type": "code",
        "colab": {
          "base_uri": "https://localhost:8080/",
          "height": 85
        },
        "outputId": "6dd18c59-0fd2-430d-a05d-17be8e183cbc"
      },
      "source": [
        "# model build on data with plenty of categories in Cabin variable\n",
        "\n",
        "# call the model\n",
        "gbc = GradientBoostingClassifier(n_estimators=300, random_state=44)\n",
        "\n",
        "# train the model\n",
        "gbc.fit(X_train[['Cabin_mapped', 'sex']], y_train)\n",
        "\n",
        "# make predictions on train and test set\n",
        "pred_train = gbc.predict_proba(X_train[['Cabin_mapped', 'sex']])\n",
        "pred_test = gbc.predict_proba(X_test[['Cabin_mapped', 'sex']].fillna(0))\n",
        "\n",
        "print('Train set')\n",
        "print('Gradient Boosted Trees roc-auc: {}'.format(roc_auc_score(y_train, pred_train[:,1])))\n",
        "print('Test set')\n",
        "print('Gradient Boosted Trees roc-auc: {}'.format(roc_auc_score(y_test, pred_test[:,1])))"
      ],
      "execution_count": 36,
      "outputs": [
        {
          "output_type": "stream",
          "text": [
            "Train set\n",
            "Gradient Boosted Trees roc-auc: 0.862631390919749\n",
            "Test set\n",
            "Gradient Boosted Trees roc-auc: 0.7733117637298823\n"
          ],
          "name": "stdout"
        }
      ]
    },
    {
      "cell_type": "code",
      "metadata": {
        "id": "7HkITBAVCL1J",
        "colab_type": "code",
        "colab": {
          "base_uri": "https://localhost:8080/",
          "height": 85
        },
        "outputId": "b4f61658-cc4a-44cc-9e56-f8c1a50493bf"
      },
      "source": [
        "# model build on data with plenty of categories in Cabin variable\n",
        "\n",
        "# call the model\n",
        "gbc = GradientBoostingClassifier(n_estimators=300, random_state=44)\n",
        "\n",
        "# train the model\n",
        "gbc.fit(X_train[['Cabin_reduced', 'sex']], y_train)\n",
        "\n",
        "# make predictions on train and test set\n",
        "pred_train = gbc.predict_proba(X_train[['Cabin_reduced', 'sex']])\n",
        "pred_test = gbc.predict_proba(X_test[['Cabin_reduced', 'sex']].fillna(0))\n",
        "\n",
        "print('Train set')\n",
        "print('Gradient Boosted Trees roc-auc: {}'.format(roc_auc_score(y_train, pred_train[:,1])))\n",
        "print('Test set')\n",
        "print('Gradient Boosted Trees roc-auc: {}'.format(roc_auc_score(y_test, pred_test[:,1])))"
      ],
      "execution_count": 37,
      "outputs": [
        {
          "output_type": "stream",
          "text": [
            "Train set\n",
            "Gradient Boosted Trees roc-auc: 0.816719415917359\n",
            "Test set\n",
            "Gradient Boosted Trees roc-auc: 0.8015181682429069\n"
          ],
          "name": "stdout"
        }
      ]
    },
    {
      "cell_type": "markdown",
      "metadata": {
        "id": "IiuErBW9DhKM",
        "colab_type": "text"
      },
      "source": [
        "### Summary\n",
        "\n",
        "- Strings need to be encoded as numbers for use with Scikit-Learn\n",
        "- High Cardinality may cause over fitting and operationalization problems\n",
        "- Reducing Cardinality may improve model performance"
      ]
    },
    {
      "cell_type": "markdown",
      "metadata": {
        "id": "UDFLWMZtENgo",
        "colab_type": "text"
      },
      "source": [
        "### Reference\n",
        "\n",
        "https://www.udemy.com/course/feature-engineering-for-machine-learning/"
      ]
    }
  ]
}